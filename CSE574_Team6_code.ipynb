{
  "cells": [
    {
      "cell_type": "code",
      "execution_count": 1,
      "metadata": {
        "colab": {
          "base_uri": "https://localhost:8080/"
        },
        "id": "ppn7Bq8DsDbB",
        "outputId": "6382e20b-7252-44fb-e775-6df034a4f665"
      },
      "outputs": [],
      "source": [
        "import os\n",
        "import pandas as pd\n",
        "import numpy as np\n",
        "import matplotlib.pyplot as plt\n",
        "import random\n",
        "import cv2\n",
        "from ultralytics import YOLO"
      ]
    },
    {
      "cell_type": "code",
      "execution_count": 2,
      "metadata": {
        "id": "WSpSG9xkqyYq"
      },
      "outputs": [],
      "source": [
        "%matplotlib inline"
      ]
    },
    {
      "cell_type": "code",
      "execution_count": 3,
      "metadata": {
        "colab": {
          "base_uri": "https://localhost:8080/"
        },
        "id": "WrPrKj_s8GHE",
        "outputId": "c01793b0-c333-4460-91d7-2d89764f0e88"
      },
      "outputs": [],
      "source": [
        "model_11 = YOLO(\"yolo11n.pt\")\n",
        "model_12 = YOLO(\"yolo12n.pt\")"
      ]
    },
    {
      "cell_type": "code",
      "execution_count": 4,
      "metadata": {
        "id": "EZTnAP1roR3m"
      },
      "outputs": [],
      "source": [
        "from glob import glob"
      ]
    },
    {
      "cell_type": "code",
      "execution_count": 5,
      "metadata": {},
      "outputs": [],
      "source": [
        "from pathlib import Path\n",
        "current_dir = Path().resolve()\n",
        "path = current_dir / 'data'"
      ]
    },
    {
      "cell_type": "code",
      "execution_count": 6,
      "metadata": {
        "id": "gGqypvx2mYsF"
      },
      "outputs": [],
      "source": [
        "annotations = glob(f\"{path}/annotations/*.xml\")"
      ]
    },
    {
      "cell_type": "code",
      "execution_count": 7,
      "metadata": {
        "id": "7gZ9ugbwojlX"
      },
      "outputs": [],
      "source": [
        "labels = dict(\n",
        "    img_path=[],\n",
        "    xmin=[],\n",
        "    xmax=[],\n",
        "    ymin=[],\n",
        "    ymax=[],\n",
        "    img_w=[],\n",
        "    img_h=[]\n",
        ")"
      ]
    },
    {
      "cell_type": "code",
      "execution_count": 8,
      "metadata": {
        "id": "pziyJ6-QpbPs"
      },
      "outputs": [],
      "source": [
        "import xml.etree.ElementTree as xet"
      ]
    },
    {
      "cell_type": "code",
      "execution_count": 9,
      "metadata": {
        "id": "6q-9TM7NpcSl"
      },
      "outputs": [],
      "source": [
        "for file in annotations:\n",
        "  info = xet.parse(file)\n",
        "  root = info.getroot()\n",
        "\n",
        "  obj = root.find('object')\n",
        "  labels_info = obj.find(\"bndbox\")\n",
        "  xmin = int(labels_info.find(\"xmin\").text)\n",
        "  xmax = int(labels_info.find(\"xmax\").text)\n",
        "  ymin = int(labels_info.find(\"ymin\").text)\n",
        "  ymax = int(labels_info.find(\"ymax\").text)\n",
        "\n",
        "  img = root.find(\"filename\").text\n",
        "  img_path = os.path.join(path, \"images\", img)\n",
        "\n",
        "  labels['img_path'].append(img_path)\n",
        "  labels['xmin'].append(xmin)\n",
        "  labels['xmax'].append(xmax)\n",
        "  labels['ymin'].append(ymin)\n",
        "  labels['ymax'].append(ymax)\n",
        "\n",
        "  h, w, _ = cv2.imread(img_path).shape\n",
        "  labels['img_w'].append(w)\n",
        "  labels['img_h'].append(h)"
      ]
    },
    {
      "cell_type": "code",
      "execution_count": 10,
      "metadata": {
        "id": "RLwOVle2r62g"
      },
      "outputs": [],
      "source": [
        "df = pd.DataFrame(labels)"
      ]
    },
    {
      "cell_type": "code",
      "execution_count": 11,
      "metadata": {
        "colab": {
          "base_uri": "https://localhost:8080/",
          "height": 363
        },
        "id": "lKkNq09Ks45d",
        "outputId": "772ba873-685c-4fc9-dceb-4d4e97bb28c9"
      },
      "outputs": [
        {
          "data": {
            "text/html": [
              "<div>\n",
              "<style scoped>\n",
              "    .dataframe tbody tr th:only-of-type {\n",
              "        vertical-align: middle;\n",
              "    }\n",
              "\n",
              "    .dataframe tbody tr th {\n",
              "        vertical-align: top;\n",
              "    }\n",
              "\n",
              "    .dataframe thead th {\n",
              "        text-align: right;\n",
              "    }\n",
              "</style>\n",
              "<table border=\"1\" class=\"dataframe\">\n",
              "  <thead>\n",
              "    <tr style=\"text-align: right;\">\n",
              "      <th></th>\n",
              "      <th>img_path</th>\n",
              "      <th>xmin</th>\n",
              "      <th>xmax</th>\n",
              "      <th>ymin</th>\n",
              "      <th>ymax</th>\n",
              "      <th>img_w</th>\n",
              "      <th>img_h</th>\n",
              "    </tr>\n",
              "  </thead>\n",
              "  <tbody>\n",
              "    <tr>\n",
              "      <th>0</th>\n",
              "      <td>C:\\Users\\nolan\\cse574proj\\data\\images\\Cars0.png</td>\n",
              "      <td>226</td>\n",
              "      <td>419</td>\n",
              "      <td>125</td>\n",
              "      <td>173</td>\n",
              "      <td>500</td>\n",
              "      <td>268</td>\n",
              "    </tr>\n",
              "    <tr>\n",
              "      <th>1</th>\n",
              "      <td>C:\\Users\\nolan\\cse574proj\\data\\images\\Cars1.png</td>\n",
              "      <td>134</td>\n",
              "      <td>262</td>\n",
              "      <td>128</td>\n",
              "      <td>160</td>\n",
              "      <td>400</td>\n",
              "      <td>248</td>\n",
              "    </tr>\n",
              "    <tr>\n",
              "      <th>2</th>\n",
              "      <td>C:\\Users\\nolan\\cse574proj\\data\\images\\Cars10.png</td>\n",
              "      <td>140</td>\n",
              "      <td>303</td>\n",
              "      <td>5</td>\n",
              "      <td>148</td>\n",
              "      <td>400</td>\n",
              "      <td>225</td>\n",
              "    </tr>\n",
              "    <tr>\n",
              "      <th>3</th>\n",
              "      <td>C:\\Users\\nolan\\cse574proj\\data\\images\\Cars100.png</td>\n",
              "      <td>175</td>\n",
              "      <td>214</td>\n",
              "      <td>114</td>\n",
              "      <td>131</td>\n",
              "      <td>400</td>\n",
              "      <td>267</td>\n",
              "    </tr>\n",
              "    <tr>\n",
              "      <th>4</th>\n",
              "      <td>C:\\Users\\nolan\\cse574proj\\data\\images\\Cars101.png</td>\n",
              "      <td>167</td>\n",
              "      <td>240</td>\n",
              "      <td>202</td>\n",
              "      <td>220</td>\n",
              "      <td>400</td>\n",
              "      <td>300</td>\n",
              "    </tr>\n",
              "    <tr>\n",
              "      <th>5</th>\n",
              "      <td>C:\\Users\\nolan\\cse574proj\\data\\images\\Cars102.png</td>\n",
              "      <td>66</td>\n",
              "      <td>322</td>\n",
              "      <td>147</td>\n",
              "      <td>199</td>\n",
              "      <td>350</td>\n",
              "      <td>263</td>\n",
              "    </tr>\n",
              "    <tr>\n",
              "      <th>6</th>\n",
              "      <td>C:\\Users\\nolan\\cse574proj\\data\\images\\Cars103.png</td>\n",
              "      <td>230</td>\n",
              "      <td>248</td>\n",
              "      <td>129</td>\n",
              "      <td>134</td>\n",
              "      <td>400</td>\n",
              "      <td>196</td>\n",
              "    </tr>\n",
              "    <tr>\n",
              "      <th>7</th>\n",
              "      <td>C:\\Users\\nolan\\cse574proj\\data\\images\\Cars104.png</td>\n",
              "      <td>195</td>\n",
              "      <td>244</td>\n",
              "      <td>266</td>\n",
              "      <td>282</td>\n",
              "      <td>500</td>\n",
              "      <td>374</td>\n",
              "    </tr>\n",
              "    <tr>\n",
              "      <th>8</th>\n",
              "      <td>C:\\Users\\nolan\\cse574proj\\data\\images\\Cars105.png</td>\n",
              "      <td>152</td>\n",
              "      <td>206</td>\n",
              "      <td>147</td>\n",
              "      <td>159</td>\n",
              "      <td>400</td>\n",
              "      <td>240</td>\n",
              "    </tr>\n",
              "    <tr>\n",
              "      <th>9</th>\n",
              "      <td>C:\\Users\\nolan\\cse574proj\\data\\images\\Cars106.png</td>\n",
              "      <td>138</td>\n",
              "      <td>177</td>\n",
              "      <td>79</td>\n",
              "      <td>92</td>\n",
              "      <td>400</td>\n",
              "      <td>247</td>\n",
              "    </tr>\n",
              "  </tbody>\n",
              "</table>\n",
              "</div>"
            ],
            "text/plain": [
              "                                            img_path  xmin  xmax  ymin  ymax  \\\n",
              "0    C:\\Users\\nolan\\cse574proj\\data\\images\\Cars0.png   226   419   125   173   \n",
              "1    C:\\Users\\nolan\\cse574proj\\data\\images\\Cars1.png   134   262   128   160   \n",
              "2   C:\\Users\\nolan\\cse574proj\\data\\images\\Cars10.png   140   303     5   148   \n",
              "3  C:\\Users\\nolan\\cse574proj\\data\\images\\Cars100.png   175   214   114   131   \n",
              "4  C:\\Users\\nolan\\cse574proj\\data\\images\\Cars101.png   167   240   202   220   \n",
              "5  C:\\Users\\nolan\\cse574proj\\data\\images\\Cars102.png    66   322   147   199   \n",
              "6  C:\\Users\\nolan\\cse574proj\\data\\images\\Cars103.png   230   248   129   134   \n",
              "7  C:\\Users\\nolan\\cse574proj\\data\\images\\Cars104.png   195   244   266   282   \n",
              "8  C:\\Users\\nolan\\cse574proj\\data\\images\\Cars105.png   152   206   147   159   \n",
              "9  C:\\Users\\nolan\\cse574proj\\data\\images\\Cars106.png   138   177    79    92   \n",
              "\n",
              "   img_w  img_h  \n",
              "0    500    268  \n",
              "1    400    248  \n",
              "2    400    225  \n",
              "3    400    267  \n",
              "4    400    300  \n",
              "5    350    263  \n",
              "6    400    196  \n",
              "7    500    374  \n",
              "8    400    240  \n",
              "9    400    247  "
            ]
          },
          "execution_count": 11,
          "metadata": {},
          "output_type": "execute_result"
        }
      ],
      "source": [
        "df.head(10)"
      ]
    },
    {
      "cell_type": "code",
      "execution_count": 12,
      "metadata": {
        "id": "KDuVMuR7tRCu"
      },
      "outputs": [],
      "source": [
        "from sklearn.model_selection import train_test_split"
      ]
    },
    {
      "cell_type": "code",
      "execution_count": 13,
      "metadata": {
        "colab": {
          "base_uri": "https://localhost:8080/"
        },
        "id": "Sp70Txp2vn0G",
        "outputId": "c0c53bf9-5442-492f-c591-091d6fe03790"
      },
      "outputs": [
        {
          "name": "stdout",
          "output_type": "stream",
          "text": [
            "\n",
            "      len(train): 345\n",
            "      len(val): 44\n",
            "      len(test): 44\n",
            "      \n"
          ]
        }
      ],
      "source": [
        " train, test = train_test_split(df, test_size=1/10, random_state=13)\n",
        "\n",
        " train, val = train_test_split(train, train_size=8/9, random_state=13)\n",
        "\n",
        " print(f'''\n",
        "       len(train): {len(train)}\n",
        "       len(val): {len(val)}\n",
        "       len(test): {len(test)}\n",
        "       ''')"
      ]
    },
    {
      "cell_type": "code",
      "execution_count": 14,
      "metadata": {
        "colab": {
          "base_uri": "https://localhost:8080/",
          "height": 363
        },
        "id": "9H7AU1hpxo-d",
        "outputId": "cc62eae6-cd88-4f40-f000-0c8629b20db7"
      },
      "outputs": [
        {
          "data": {
            "text/html": [
              "<div>\n",
              "<style scoped>\n",
              "    .dataframe tbody tr th:only-of-type {\n",
              "        vertical-align: middle;\n",
              "    }\n",
              "\n",
              "    .dataframe tbody tr th {\n",
              "        vertical-align: top;\n",
              "    }\n",
              "\n",
              "    .dataframe thead th {\n",
              "        text-align: right;\n",
              "    }\n",
              "</style>\n",
              "<table border=\"1\" class=\"dataframe\">\n",
              "  <thead>\n",
              "    <tr style=\"text-align: right;\">\n",
              "      <th></th>\n",
              "      <th>img_path</th>\n",
              "      <th>xmin</th>\n",
              "      <th>xmax</th>\n",
              "      <th>ymin</th>\n",
              "      <th>ymax</th>\n",
              "      <th>img_w</th>\n",
              "      <th>img_h</th>\n",
              "    </tr>\n",
              "  </thead>\n",
              "  <tbody>\n",
              "    <tr>\n",
              "      <th>190</th>\n",
              "      <td>C:\\Users\\nolan\\cse574proj\\data\\images\\Cars27.png</td>\n",
              "      <td>148</td>\n",
              "      <td>245</td>\n",
              "      <td>127</td>\n",
              "      <td>159</td>\n",
              "      <td>400</td>\n",
              "      <td>225</td>\n",
              "    </tr>\n",
              "    <tr>\n",
              "      <th>193</th>\n",
              "      <td>C:\\Users\\nolan\\cse574proj\\data\\images\\Cars272.png</td>\n",
              "      <td>170</td>\n",
              "      <td>316</td>\n",
              "      <td>81</td>\n",
              "      <td>121</td>\n",
              "      <td>558</td>\n",
              "      <td>229</td>\n",
              "    </tr>\n",
              "    <tr>\n",
              "      <th>55</th>\n",
              "      <td>C:\\Users\\nolan\\cse574proj\\data\\images\\Cars148.png</td>\n",
              "      <td>135</td>\n",
              "      <td>218</td>\n",
              "      <td>134</td>\n",
              "      <td>158</td>\n",
              "      <td>400</td>\n",
              "      <td>225</td>\n",
              "    </tr>\n",
              "    <tr>\n",
              "      <th>111</th>\n",
              "      <td>C:\\Users\\nolan\\cse574proj\\data\\images\\Cars199.png</td>\n",
              "      <td>59</td>\n",
              "      <td>310</td>\n",
              "      <td>88</td>\n",
              "      <td>158</td>\n",
              "      <td>400</td>\n",
              "      <td>266</td>\n",
              "    </tr>\n",
              "    <tr>\n",
              "      <th>103</th>\n",
              "      <td>C:\\Users\\nolan\\cse574proj\\data\\images\\Cars191.png</td>\n",
              "      <td>96</td>\n",
              "      <td>199</td>\n",
              "      <td>189</td>\n",
              "      <td>217</td>\n",
              "      <td>400</td>\n",
              "      <td>246</td>\n",
              "    </tr>\n",
              "    <tr>\n",
              "      <th>332</th>\n",
              "      <td>C:\\Users\\nolan\\cse574proj\\data\\images\\Cars398.png</td>\n",
              "      <td>72</td>\n",
              "      <td>196</td>\n",
              "      <td>139</td>\n",
              "      <td>222</td>\n",
              "      <td>400</td>\n",
              "      <td>300</td>\n",
              "    </tr>\n",
              "    <tr>\n",
              "      <th>191</th>\n",
              "      <td>C:\\Users\\nolan\\cse574proj\\data\\images\\Cars270.png</td>\n",
              "      <td>75</td>\n",
              "      <td>125</td>\n",
              "      <td>173</td>\n",
              "      <td>195</td>\n",
              "      <td>400</td>\n",
              "      <td>225</td>\n",
              "    </tr>\n",
              "    <tr>\n",
              "      <th>284</th>\n",
              "      <td>C:\\Users\\nolan\\cse574proj\\data\\images\\Cars354.png</td>\n",
              "      <td>65</td>\n",
              "      <td>102</td>\n",
              "      <td>202</td>\n",
              "      <td>222</td>\n",
              "      <td>400</td>\n",
              "      <td>267</td>\n",
              "    </tr>\n",
              "    <tr>\n",
              "      <th>430</th>\n",
              "      <td>C:\\Users\\nolan\\cse574proj\\data\\images\\Cars97.png</td>\n",
              "      <td>98</td>\n",
              "      <td>297</td>\n",
              "      <td>102</td>\n",
              "      <td>191</td>\n",
              "      <td>400</td>\n",
              "      <td>300</td>\n",
              "    </tr>\n",
              "    <tr>\n",
              "      <th>303</th>\n",
              "      <td>C:\\Users\\nolan\\cse574proj\\data\\images\\Cars371.png</td>\n",
              "      <td>313</td>\n",
              "      <td>371</td>\n",
              "      <td>135</td>\n",
              "      <td>150</td>\n",
              "      <td>400</td>\n",
              "      <td>190</td>\n",
              "    </tr>\n",
              "  </tbody>\n",
              "</table>\n",
              "</div>"
            ],
            "text/plain": [
              "                                              img_path  xmin  xmax  ymin  \\\n",
              "190   C:\\Users\\nolan\\cse574proj\\data\\images\\Cars27.png   148   245   127   \n",
              "193  C:\\Users\\nolan\\cse574proj\\data\\images\\Cars272.png   170   316    81   \n",
              "55   C:\\Users\\nolan\\cse574proj\\data\\images\\Cars148.png   135   218   134   \n",
              "111  C:\\Users\\nolan\\cse574proj\\data\\images\\Cars199.png    59   310    88   \n",
              "103  C:\\Users\\nolan\\cse574proj\\data\\images\\Cars191.png    96   199   189   \n",
              "332  C:\\Users\\nolan\\cse574proj\\data\\images\\Cars398.png    72   196   139   \n",
              "191  C:\\Users\\nolan\\cse574proj\\data\\images\\Cars270.png    75   125   173   \n",
              "284  C:\\Users\\nolan\\cse574proj\\data\\images\\Cars354.png    65   102   202   \n",
              "430   C:\\Users\\nolan\\cse574proj\\data\\images\\Cars97.png    98   297   102   \n",
              "303  C:\\Users\\nolan\\cse574proj\\data\\images\\Cars371.png   313   371   135   \n",
              "\n",
              "     ymax  img_w  img_h  \n",
              "190   159    400    225  \n",
              "193   121    558    229  \n",
              "55    158    400    225  \n",
              "111   158    400    266  \n",
              "103   217    400    246  \n",
              "332   222    400    300  \n",
              "191   195    400    225  \n",
              "284   222    400    267  \n",
              "430   191    400    300  \n",
              "303   150    400    190  "
            ]
          },
          "execution_count": 14,
          "metadata": {},
          "output_type": "execute_result"
        }
      ],
      "source": [
        "train.head(10)"
      ]
    },
    {
      "cell_type": "code",
      "execution_count": 15,
      "metadata": {
        "colab": {
          "base_uri": "https://localhost:8080/",
          "height": 206
        },
        "id": "wgrD7KWCxsUU",
        "outputId": "2da103b2-7047-48af-8c30-bc45597a66cf"
      },
      "outputs": [
        {
          "data": {
            "text/html": [
              "<div>\n",
              "<style scoped>\n",
              "    .dataframe tbody tr th:only-of-type {\n",
              "        vertical-align: middle;\n",
              "    }\n",
              "\n",
              "    .dataframe tbody tr th {\n",
              "        vertical-align: top;\n",
              "    }\n",
              "\n",
              "    .dataframe thead th {\n",
              "        text-align: right;\n",
              "    }\n",
              "</style>\n",
              "<table border=\"1\" class=\"dataframe\">\n",
              "  <thead>\n",
              "    <tr style=\"text-align: right;\">\n",
              "      <th></th>\n",
              "      <th>img_path</th>\n",
              "      <th>xmin</th>\n",
              "      <th>xmax</th>\n",
              "      <th>ymin</th>\n",
              "      <th>ymax</th>\n",
              "      <th>img_w</th>\n",
              "      <th>img_h</th>\n",
              "    </tr>\n",
              "  </thead>\n",
              "  <tbody>\n",
              "    <tr>\n",
              "      <th>280</th>\n",
              "      <td>C:\\Users\\nolan\\cse574proj\\data\\images\\Cars350.png</td>\n",
              "      <td>162</td>\n",
              "      <td>211</td>\n",
              "      <td>179</td>\n",
              "      <td>188</td>\n",
              "      <td>400</td>\n",
              "      <td>268</td>\n",
              "    </tr>\n",
              "    <tr>\n",
              "      <th>408</th>\n",
              "      <td>C:\\Users\\nolan\\cse574proj\\data\\images\\Cars77.png</td>\n",
              "      <td>229</td>\n",
              "      <td>309</td>\n",
              "      <td>151</td>\n",
              "      <td>178</td>\n",
              "      <td>400</td>\n",
              "      <td>270</td>\n",
              "    </tr>\n",
              "    <tr>\n",
              "      <th>80</th>\n",
              "      <td>C:\\Users\\nolan\\cse574proj\\data\\images\\Cars170.png</td>\n",
              "      <td>318</td>\n",
              "      <td>346</td>\n",
              "      <td>190</td>\n",
              "      <td>224</td>\n",
              "      <td>500</td>\n",
              "      <td>365</td>\n",
              "    </tr>\n",
              "    <tr>\n",
              "      <th>259</th>\n",
              "      <td>C:\\Users\\nolan\\cse574proj\\data\\images\\Cars331.png</td>\n",
              "      <td>164</td>\n",
              "      <td>235</td>\n",
              "      <td>220</td>\n",
              "      <td>240</td>\n",
              "      <td>560</td>\n",
              "      <td>420</td>\n",
              "    </tr>\n",
              "    <tr>\n",
              "      <th>96</th>\n",
              "      <td>C:\\Users\\nolan\\cse574proj\\data\\images\\Cars185.png</td>\n",
              "      <td>154</td>\n",
              "      <td>293</td>\n",
              "      <td>147</td>\n",
              "      <td>194</td>\n",
              "      <td>400</td>\n",
              "      <td>267</td>\n",
              "    </tr>\n",
              "  </tbody>\n",
              "</table>\n",
              "</div>"
            ],
            "text/plain": [
              "                                              img_path  xmin  xmax  ymin  \\\n",
              "280  C:\\Users\\nolan\\cse574proj\\data\\images\\Cars350.png   162   211   179   \n",
              "408   C:\\Users\\nolan\\cse574proj\\data\\images\\Cars77.png   229   309   151   \n",
              "80   C:\\Users\\nolan\\cse574proj\\data\\images\\Cars170.png   318   346   190   \n",
              "259  C:\\Users\\nolan\\cse574proj\\data\\images\\Cars331.png   164   235   220   \n",
              "96   C:\\Users\\nolan\\cse574proj\\data\\images\\Cars185.png   154   293   147   \n",
              "\n",
              "     ymax  img_w  img_h  \n",
              "280   188    400    268  \n",
              "408   178    400    270  \n",
              "80    224    500    365  \n",
              "259   240    560    420  \n",
              "96    194    400    267  "
            ]
          },
          "execution_count": 15,
          "metadata": {},
          "output_type": "execute_result"
        }
      ],
      "source": [
        "val.head()"
      ]
    },
    {
      "cell_type": "code",
      "execution_count": 16,
      "metadata": {
        "colab": {
          "base_uri": "https://localhost:8080/",
          "height": 206
        },
        "id": "IsyYWl2ZxulR",
        "outputId": "e5879bb6-2383-4273-f7ca-c67a88234937"
      },
      "outputs": [
        {
          "data": {
            "text/html": [
              "<div>\n",
              "<style scoped>\n",
              "    .dataframe tbody tr th:only-of-type {\n",
              "        vertical-align: middle;\n",
              "    }\n",
              "\n",
              "    .dataframe tbody tr th {\n",
              "        vertical-align: top;\n",
              "    }\n",
              "\n",
              "    .dataframe thead th {\n",
              "        text-align: right;\n",
              "    }\n",
              "</style>\n",
              "<table border=\"1\" class=\"dataframe\">\n",
              "  <thead>\n",
              "    <tr style=\"text-align: right;\">\n",
              "      <th></th>\n",
              "      <th>img_path</th>\n",
              "      <th>xmin</th>\n",
              "      <th>xmax</th>\n",
              "      <th>ymin</th>\n",
              "      <th>ymax</th>\n",
              "      <th>img_w</th>\n",
              "      <th>img_h</th>\n",
              "    </tr>\n",
              "  </thead>\n",
              "  <tbody>\n",
              "    <tr>\n",
              "      <th>423</th>\n",
              "      <td>C:\\Users\\nolan\\cse574proj\\data\\images\\Cars90.png</td>\n",
              "      <td>77</td>\n",
              "      <td>101</td>\n",
              "      <td>204</td>\n",
              "      <td>225</td>\n",
              "      <td>400</td>\n",
              "      <td>300</td>\n",
              "    </tr>\n",
              "    <tr>\n",
              "      <th>234</th>\n",
              "      <td>C:\\Users\\nolan\\cse574proj\\data\\images\\Cars309.png</td>\n",
              "      <td>152</td>\n",
              "      <td>252</td>\n",
              "      <td>122</td>\n",
              "      <td>207</td>\n",
              "      <td>400</td>\n",
              "      <td>225</td>\n",
              "    </tr>\n",
              "    <tr>\n",
              "      <th>165</th>\n",
              "      <td>C:\\Users\\nolan\\cse574proj\\data\\images\\Cars247.png</td>\n",
              "      <td>147</td>\n",
              "      <td>300</td>\n",
              "      <td>11</td>\n",
              "      <td>149</td>\n",
              "      <td>400</td>\n",
              "      <td>225</td>\n",
              "    </tr>\n",
              "    <tr>\n",
              "      <th>29</th>\n",
              "      <td>C:\\Users\\nolan\\cse574proj\\data\\images\\Cars124.png</td>\n",
              "      <td>305</td>\n",
              "      <td>320</td>\n",
              "      <td>256</td>\n",
              "      <td>267</td>\n",
              "      <td>400</td>\n",
              "      <td>267</td>\n",
              "    </tr>\n",
              "    <tr>\n",
              "      <th>388</th>\n",
              "      <td>C:\\Users\\nolan\\cse574proj\\data\\images\\Cars59.png</td>\n",
              "      <td>324</td>\n",
              "      <td>375</td>\n",
              "      <td>162</td>\n",
              "      <td>175</td>\n",
              "      <td>400</td>\n",
              "      <td>300</td>\n",
              "    </tr>\n",
              "  </tbody>\n",
              "</table>\n",
              "</div>"
            ],
            "text/plain": [
              "                                              img_path  xmin  xmax  ymin  \\\n",
              "423   C:\\Users\\nolan\\cse574proj\\data\\images\\Cars90.png    77   101   204   \n",
              "234  C:\\Users\\nolan\\cse574proj\\data\\images\\Cars309.png   152   252   122   \n",
              "165  C:\\Users\\nolan\\cse574proj\\data\\images\\Cars247.png   147   300    11   \n",
              "29   C:\\Users\\nolan\\cse574proj\\data\\images\\Cars124.png   305   320   256   \n",
              "388   C:\\Users\\nolan\\cse574proj\\data\\images\\Cars59.png   324   375   162   \n",
              "\n",
              "     ymax  img_w  img_h  \n",
              "423   225    400    300  \n",
              "234   207    400    225  \n",
              "165   149    400    225  \n",
              "29    267    400    267  \n",
              "388   175    400    300  "
            ]
          },
          "execution_count": 16,
          "metadata": {},
          "output_type": "execute_result"
        }
      ],
      "source": [
        "test.head()"
      ]
    },
    {
      "cell_type": "code",
      "execution_count": 17,
      "metadata": {
        "id": "A8yx9mYF14rT"
      },
      "outputs": [],
      "source": [
        "import shutil"
      ]
    },
    {
      "cell_type": "code",
      "execution_count": 18,
      "metadata": {
        "id": "8kTXFyBayESq"
      },
      "outputs": [],
      "source": [
        "def split_yolo_format(split_name, split_df):\n",
        "    # Set base directory relative to current file/notebook\n",
        "    base_dir = Path().resolve() / 'datasets' / 'car_license_plates' / split_name\n",
        "\n",
        "    annotations_path = base_dir / 'labels'\n",
        "    images_path = base_dir / 'images'\n",
        "\n",
        "    # Create directories\n",
        "    annotations_path.mkdir(parents=True, exist_ok=True)\n",
        "    images_path.mkdir(parents=True, exist_ok=True)\n",
        "\n",
        "    for _, row in split_df.iterrows():\n",
        "        img_path = Path(row['img_path'])\n",
        "        img_name = img_path.stem\n",
        "        img_extension = img_path.suffix\n",
        "\n",
        "        # Normalize bounding box to YOLO format\n",
        "        x_center = (row['xmin'] + row['xmax']) / 2 / row['img_w']\n",
        "        y_center = (row['ymin'] + row['ymax']) / 2 / row['img_h']\n",
        "        width = (row['xmax'] - row['xmin']) / row['img_w']\n",
        "        height = (row['ymax'] - row['ymin']) / row['img_h']\n",
        "\n",
        "        # Write YOLO annotation\n",
        "        annotation_file = annotations_path / f'{img_name}.txt'\n",
        "        with open(annotation_file, 'w') as f:\n",
        "            f.write(f\"0 {x_center:.4f} {y_center:.4f} {width:.4f} {height:.4f}\\n\")\n",
        "\n",
        "        # Copy image to images folder\n",
        "        shutil.copy(img_path, images_path / (img_name + img_extension))\n",
        "\n",
        "    print(f\"Created:\\n- Images: {images_path}\\n- Labels: {annotations_path}\")\n"
      ]
    },
    {
      "cell_type": "code",
      "execution_count": 19,
      "metadata": {
        "colab": {
          "base_uri": "https://localhost:8080/"
        },
        "id": "UtaN83fXS8RJ",
        "outputId": "a5be8aeb-b945-4c31-a387-ce4176ea8b63"
      },
      "outputs": [
        {
          "name": "stdout",
          "output_type": "stream",
          "text": [
            "Created:\n",
            "- Images: C:\\Users\\nolan\\cse574proj\\datasets\\car_license_plates\\train\\images\n",
            "- Labels: C:\\Users\\nolan\\cse574proj\\datasets\\car_license_plates\\train\\labels\n",
            "Created:\n",
            "- Images: C:\\Users\\nolan\\cse574proj\\datasets\\car_license_plates\\val\\images\n",
            "- Labels: C:\\Users\\nolan\\cse574proj\\datasets\\car_license_plates\\val\\labels\n",
            "Created:\n",
            "- Images: C:\\Users\\nolan\\cse574proj\\datasets\\car_license_plates\\test\\images\n",
            "- Labels: C:\\Users\\nolan\\cse574proj\\datasets\\car_license_plates\\test\\labels\n"
          ]
        }
      ],
      "source": [
        "split_yolo_format(\"train\", train)\n",
        "split_yolo_format(\"val\", val)\n",
        "split_yolo_format(\"test\", test)"
      ]
    },
    {
      "cell_type": "code",
      "execution_count": 20,
      "metadata": {
        "id": "ix6PNslwUmpL"
      },
      "outputs": [],
      "source": [
        "yolo_yaml = '''\n",
        "path: car_license_plates\n",
        "\n",
        "train: train/images\n",
        "val: val/images\n",
        "test: test/images\n",
        "\n",
        "# number of classes\n",
        "nc: 1\n",
        "\n",
        "# class names\n",
        "names: ['license_plate']\n",
        "'''\n",
        "\n",
        "with open('datasets.yaml', 'w') as file:\n",
        "  file.write(yolo_yaml)"
      ]
    },
    {
      "cell_type": "code",
      "execution_count": 21,
      "metadata": {},
      "outputs": [
        {
          "data": {
            "image/png": "[encoded data removed]",
            "text/plain": [
              "<Figure size 640x480 with 1 Axes>"
            ]
          },
          "metadata": {},
          "output_type": "display_data"
        }
      ],
      "source": [
        "import cv2\n",
        "import os\n",
        "from pathlib import Path\n",
        "import matplotlib.pyplot as plt\n",
        "\n",
        "# Set paths relative to notebook location\n",
        "base_dir = Path().resolve() / 'datasets' / 'car_license_plates' / 'train'\n",
        "image_dir = base_dir / 'images'\n",
        "label_dir = base_dir / 'labels'\n",
        "\n",
        "# Get first image file\n",
        "image_files = sorted(os.listdir(image_dir))\n",
        "first_image_file = image_files[0]\n",
        "\n",
        "# Full image and label paths\n",
        "image_path = image_dir / first_image_file\n",
        "label_path = label_dir / (Path(first_image_file).stem + \".txt\")\n",
        "\n",
        "# Read and prepare the image\n",
        "image = cv2.imread(str(image_path))\n",
        "image = cv2.cvtColor(image, cv2.COLOR_BGR2RGB)\n",
        "\n",
        "# Read YOLO label\n",
        "with open(label_path, 'r') as file:\n",
        "    lines = file.readlines()\n",
        "\n",
        "# Draw bounding boxes\n",
        "for line in lines:\n",
        "    class_id, x_center, y_center, width, height = map(float, line.strip().split())\n",
        "    img_height, img_width, _ = image.shape\n",
        "\n",
        "    x_center *= img_width\n",
        "    y_center *= img_height\n",
        "    width *= img_width\n",
        "    height *= img_height\n",
        "\n",
        "    x1 = int(x_center - width / 2)\n",
        "    y1 = int(y_center - height / 2)\n",
        "    x2 = int(x_center + width / 2)\n",
        "    y2 = int(y_center + height / 2)\n",
        "\n",
        "    cv2.rectangle(image, (x1, y1), (x2, y2), (0, 255, 0), 2)\n",
        "\n",
        "# Show image with bounding box\n",
        "plt.imshow(image)\n",
        "plt.axis('off')\n",
        "plt.title(first_image_file)\n",
        "plt.show()\n"
      ]
    },
    {
      "cell_type": "code",
      "execution_count": 22,
      "metadata": {
        "id": "yk7azkB4Zn8v"
      },
      "outputs": [],
      "source": [
        "import time\n",
        "import warnings\n",
        "warnings.filterwarnings('ignore')"
      ]
    },
    {
      "cell_type": "code",
      "execution_count": 23,
      "metadata": {
        "colab": {
          "base_uri": "https://localhost:8080/"
        },
        "id": "ErylEB9XcU-e",
        "outputId": "757ed814-8635-446a-cbaf-0fdbe8fe1dcf"
      },
      "outputs": [
        {
          "name": "stdout",
          "output_type": "stream",
          "text": [
            "True\n",
            "1\n",
            "11.8\n"
          ]
        }
      ],
      "source": [
        "import torch\n",
        "\n",
        "print(torch.cuda.is_available())\n",
        "print(torch.cuda.device_count())\n",
        "print(torch.version.cuda)"
      ]
    },
    {
      "cell_type": "code",
      "execution_count": 24,
      "metadata": {
        "colab": {
          "base_uri": "https://localhost:8080/"
        },
        "id": "dFIffWoyYBej",
        "outputId": "9020a1d8-2e31-4135-b778-db8b05b653de"
      },
      "outputs": [
        {
          "name": "stdout",
          "output_type": "stream",
          "text": [
            "Ultralytics 8.3.116  Python-3.13.3 torch-2.7.0+cu118 CUDA:0 (NVIDIA GeForce RTX 4070, 12282MiB)\n",
            "\u001b[34m\u001b[1mengine\\trainer: \u001b[0mtask=detect, mode=train, model=yolo12n.pt, data=datasets.yaml, epochs=100, time=None, patience=100, batch=16, imgsz=320, save=True, save_period=-1, cache=True, device=cuda, workers=8, project=None, name=train9, exist_ok=False, pretrained=True, optimizer=auto, verbose=True, seed=0, deterministic=True, single_cls=False, rect=False, cos_lr=False, close_mosaic=10, resume=False, amp=True, fraction=1.0, profile=False, freeze=None, multi_scale=False, overlap_mask=True, mask_ratio=4, dropout=0.0, val=True, split=val, save_json=False, conf=None, iou=0.7, max_det=300, half=False, dnn=False, plots=True, source=None, vid_stride=1, stream_buffer=False, visualize=False, augment=False, agnostic_nms=False, classes=None, retina_masks=False, embed=None, show=False, save_frames=False, save_txt=False, save_conf=False, save_crop=False, show_labels=True, show_conf=True, show_boxes=True, line_width=None, format=torchscript, keras=False, optimize=False, int8=False, dynamic=False, simplify=True, opset=None, workspace=None, nms=False, lr0=0.01, lrf=0.01, momentum=0.937, weight_decay=0.0005, warmup_epochs=3.0, warmup_momentum=0.8, warmup_bias_lr=0.1, box=7.5, cls=0.5, dfl=1.5, pose=12.0, kobj=1.0, nbs=64, hsv_h=0.015, hsv_s=0.7, hsv_v=0.4, degrees=0.0, translate=0.1, scale=0.5, shear=0.0, perspective=0.0, flipud=0.0, fliplr=0.5, bgr=0.0, mosaic=1.0, mixup=0.0, copy_paste=0.0, copy_paste_mode=flip, auto_augment=randaugment, erasing=0.4, cfg=None, tracker=botsort.yaml, save_dir=runs\\detect\\train9\n",
            "Overriding model.yaml nc=80 with nc=1\n",
            "\n",
            "                   from  n    params  module                                       arguments                     \n",
            "  0                  -1  1       464  ultralytics.nn.modules.conv.Conv             [3, 16, 3, 2]                 \n",
            "  1                  -1  1      4672  ultralytics.nn.modules.conv.Conv             [16, 32, 3, 2]                \n",
            "  2                  -1  1      6640  ultralytics.nn.modules.block.C3k2            [32, 64, 1, False, 0.25]      \n",
            "  3                  -1  1     36992  ultralytics.nn.modules.conv.Conv             [64, 64, 3, 2]                \n",
            "  4                  -1  1     26080  ultralytics.nn.modules.block.C3k2            [64, 128, 1, False, 0.25]     \n",
            "  5                  -1  1    147712  ultralytics.nn.modules.conv.Conv             [128, 128, 3, 2]              \n",
            "  6                  -1  2    180864  ultralytics.nn.modules.block.A2C2f           [128, 128, 2, True, 4]        \n",
            "  7                  -1  1    295424  ultralytics.nn.modules.conv.Conv             [128, 256, 3, 2]              \n",
            "  8                  -1  2    689408  ultralytics.nn.modules.block.A2C2f           [256, 256, 2, True, 1]        \n",
            "  9                  -1  1         0  torch.nn.modules.upsampling.Upsample         [None, 2, 'nearest']          \n",
            " 10             [-1, 6]  1         0  ultralytics.nn.modules.conv.Concat           [1]                           \n",
            " 11                  -1  1     86912  ultralytics.nn.modules.block.A2C2f           [384, 128, 1, False, -1]      \n",
            " 12                  -1  1         0  torch.nn.modules.upsampling.Upsample         [None, 2, 'nearest']          \n",
            " 13             [-1, 4]  1         0  ultralytics.nn.modules.conv.Concat           [1]                           \n",
            " 14                  -1  1     24000  ultralytics.nn.modules.block.A2C2f           [256, 64, 1, False, -1]       \n",
            " 15                  -1  1     36992  ultralytics.nn.modules.conv.Conv             [64, 64, 3, 2]                \n",
            " 16            [-1, 11]  1         0  ultralytics.nn.modules.conv.Concat           [1]                           \n",
            " 17                  -1  1     74624  ultralytics.nn.modules.block.A2C2f           [192, 128, 1, False, -1]      \n",
            " 18                  -1  1    147712  ultralytics.nn.modules.conv.Conv             [128, 128, 3, 2]              \n",
            " 19             [-1, 8]  1         0  ultralytics.nn.modules.conv.Concat           [1]                           \n",
            " 20                  -1  1    378880  ultralytics.nn.modules.block.C3k2            [384, 256, 1, True]           \n",
            " 21        [14, 17, 20]  1    430867  ultralytics.nn.modules.head.Detect           [1, [64, 128, 256]]           \n",
            "YOLOv12n summary: 272 layers, 2,568,243 parameters, 2,568,227 gradients, 6.5 GFLOPs\n",
            "\n",
            "Transferred 640/691 items from pretrained weights\n",
            "Freezing layer 'model.21.dfl.conv.weight'\n",
            "\u001b[34m\u001b[1mAMP: \u001b[0mrunning Automatic Mixed Precision (AMP) checks...\n",
            "\u001b[34m\u001b[1mAMP: \u001b[0mchecks passed \n",
            "\u001b[34m\u001b[1mtrain: \u001b[0mFast image access  (ping: 0.00.0 ms, read: 2874.21412.0 MB/s, size: 502.8 KB)\n"
          ]
        },
        {
          "name": "stderr",
          "output_type": "stream",
          "text": [
            "\u001b[34m\u001b[1mtrain: \u001b[0mScanning C:\\Users\\nolan\\cse574proj\\datasets\\car_license_plates\\train\\labels.cache... 345 images, 0 backgrounds, 0 corrupt: 100%|██████████| 345/345 [00:00<?, ?it/s]\n"
          ]
        },
        {
          "name": "stdout",
          "output_type": "stream",
          "text": [
            "WARNING cache='ram' may produce non-deterministic training results. Consider cache='disk' as a deterministic alternative if your disk space allows.\n"
          ]
        },
        {
          "name": "stderr",
          "output_type": "stream",
          "text": [
            "\u001b[34m\u001b[1mtrain: \u001b[0mCaching images (0.1GB RAM): 100%|██████████| 345/345 [00:00<00:00, 754.00it/s]\n"
          ]
        },
        {
          "name": "stdout",
          "output_type": "stream",
          "text": [
            "\u001b[34m\u001b[1mval: \u001b[0mFast image access  (ping: 0.00.0 ms, read: 1809.3720.1 MB/s, size: 492.8 KB)\n"
          ]
        },
        {
          "name": "stderr",
          "output_type": "stream",
          "text": [
            "\u001b[34m\u001b[1mval: \u001b[0mScanning C:\\Users\\nolan\\cse574proj\\datasets\\car_license_plates\\val\\labels.cache... 44 images, 0 backgrounds, 0 corrupt: 100%|██████████| 44/44 [00:00<?, ?it/s]\n"
          ]
        },
        {
          "name": "stdout",
          "output_type": "stream",
          "text": [
            "WARNING cache='ram' may produce non-deterministic training results. Consider cache='disk' as a deterministic alternative if your disk space allows.\n"
          ]
        },
        {
          "name": "stderr",
          "output_type": "stream",
          "text": [
            "\u001b[34m\u001b[1mval: \u001b[0mCaching images (0.0GB RAM): 100%|██████████| 44/44 [00:00<00:00, 735.88it/s]\n"
          ]
        },
        {
          "name": "stdout",
          "output_type": "stream",
          "text": [
            "Plotting labels to runs\\detect\\train9\\labels.jpg... \n",
            "\u001b[34m\u001b[1moptimizer:\u001b[0m 'optimizer=auto' found, ignoring 'lr0=0.01' and 'momentum=0.937' and determining best 'optimizer', 'lr0' and 'momentum' automatically... \n",
            "\u001b[34m\u001b[1moptimizer:\u001b[0m AdamW(lr=0.002, momentum=0.9) with parameter groups 113 weight(decay=0.0), 120 weight(decay=0.0005), 119 bias(decay=0.0)\n",
            "Image sizes 320 train, 320 val\n",
            "Using 8 dataloader workers\n",
            "Logging results to \u001b[1mruns\\detect\\train9\u001b[0m\n",
            "Starting training for 100 epochs...\n",
            "\n",
            "      Epoch    GPU_mem   box_loss   cls_loss   dfl_loss  Instances       Size\n"
          ]
        },
        {
          "name": "stderr",
          "output_type": "stream",
          "text": [
            "      1/100      0.74G      1.776      2.999      1.328         13        320: 100%|██████████| 22/22 [00:05<00:00,  4.11it/s]\n",
            "                 Class     Images  Instances      Box(P          R      mAP50  mAP50-95): 100%|██████████| 2/2 [00:00<00:00,  4.37it/s]"
          ]
        },
        {
          "name": "stdout",
          "output_type": "stream",
          "text": [
            "                   all         44         44    0.00408      0.977      0.223     0.0698\n"
          ]
        },
        {
          "name": "stderr",
          "output_type": "stream",
          "text": [
            "\n"
          ]
        },
        {
          "name": "stdout",
          "output_type": "stream",
          "text": [
            "\n",
            "      Epoch    GPU_mem   box_loss   cls_loss   dfl_loss  Instances       Size\n"
          ]
        },
        {
          "name": "stderr",
          "output_type": "stream",
          "text": [
            "      2/100     0.811G      1.557        1.6      1.152         14        320: 100%|██████████| 22/22 [00:03<00:00,  6.27it/s]\n",
            "                 Class     Images  Instances      Box(P          R      mAP50  mAP50-95): 100%|██████████| 2/2 [00:00<00:00,  7.30it/s]"
          ]
        },
        {
          "name": "stdout",
          "output_type": "stream",
          "text": [
            "                   all         44         44    0.00377      0.977      0.057     0.0207\n"
          ]
        },
        {
          "name": "stderr",
          "output_type": "stream",
          "text": [
            "\n"
          ]
        },
        {
          "name": "stdout",
          "output_type": "stream",
          "text": [
            "\n",
            "      Epoch    GPU_mem   box_loss   cls_loss   dfl_loss  Instances       Size\n"
          ]
        },
        {
          "name": "stderr",
          "output_type": "stream",
          "text": [
            "      3/100     0.811G      1.577      1.463      1.196         12        320: 100%|██████████| 22/22 [00:03<00:00,  7.10it/s]\n",
            "                 Class     Images  Instances      Box(P          R      mAP50  mAP50-95): 100%|██████████| 2/2 [00:00<00:00,  7.75it/s]"
          ]
        },
        {
          "name": "stdout",
          "output_type": "stream",
          "text": [
            "                   all         44         44    0.00333      0.932     0.0139    0.00567\n"
          ]
        },
        {
          "name": "stderr",
          "output_type": "stream",
          "text": [
            "\n"
          ]
        },
        {
          "name": "stdout",
          "output_type": "stream",
          "text": [
            "\n",
            "      Epoch    GPU_mem   box_loss   cls_loss   dfl_loss  Instances       Size\n"
          ]
        },
        {
          "name": "stderr",
          "output_type": "stream",
          "text": [
            "      4/100     0.826G      1.625      1.418      1.259         19        320: 100%|██████████| 22/22 [00:03<00:00,  6.49it/s]\n",
            "                 Class     Images  Instances      Box(P          R      mAP50  mAP50-95): 100%|██████████| 2/2 [00:00<00:00,  7.05it/s]"
          ]
        },
        {
          "name": "stdout",
          "output_type": "stream",
          "text": [
            "                   all         44         44     0.0916      0.205      0.068     0.0251\n"
          ]
        },
        {
          "name": "stderr",
          "output_type": "stream",
          "text": [
            "\n"
          ]
        },
        {
          "name": "stdout",
          "output_type": "stream",
          "text": [
            "\n",
            "      Epoch    GPU_mem   box_loss   cls_loss   dfl_loss  Instances       Size\n"
          ]
        },
        {
          "name": "stderr",
          "output_type": "stream",
          "text": [
            "      5/100     0.826G      1.556      1.303      1.242         10        320: 100%|██████████| 22/22 [00:03<00:00,  6.88it/s]\n",
            "                 Class     Images  Instances      Box(P          R      mAP50  mAP50-95): 100%|██████████| 2/2 [00:00<00:00,  6.33it/s]"
          ]
        },
        {
          "name": "stdout",
          "output_type": "stream",
          "text": [
            "                   all         44         44     0.0146      0.432     0.0129    0.00562\n"
          ]
        },
        {
          "name": "stderr",
          "output_type": "stream",
          "text": [
            "\n"
          ]
        },
        {
          "name": "stdout",
          "output_type": "stream",
          "text": [
            "\n",
            "      Epoch    GPU_mem   box_loss   cls_loss   dfl_loss  Instances       Size\n"
          ]
        },
        {
          "name": "stderr",
          "output_type": "stream",
          "text": [
            "      6/100     0.826G      1.565      1.319      1.203         10        320: 100%|██████████| 22/22 [00:02<00:00,  7.51it/s]\n",
            "                 Class     Images  Instances      Box(P          R      mAP50  mAP50-95): 100%|██████████| 2/2 [00:00<00:00,  7.72it/s]"
          ]
        },
        {
          "name": "stdout",
          "output_type": "stream",
          "text": [
            "                   all         44         44    0.00541      0.477    0.00394    0.00194\n"
          ]
        },
        {
          "name": "stderr",
          "output_type": "stream",
          "text": [
            "\n"
          ]
        },
        {
          "name": "stdout",
          "output_type": "stream",
          "text": [
            "\n",
            "      Epoch    GPU_mem   box_loss   cls_loss   dfl_loss  Instances       Size\n"
          ]
        },
        {
          "name": "stderr",
          "output_type": "stream",
          "text": [
            "      7/100     0.826G      1.476      1.203      1.189         21        320: 100%|██████████| 22/22 [00:03<00:00,  6.97it/s]\n",
            "                 Class     Images  Instances      Box(P          R      mAP50  mAP50-95): 100%|██████████| 2/2 [00:00<00:00,  7.70it/s]"
          ]
        },
        {
          "name": "stdout",
          "output_type": "stream",
          "text": [
            "                   all         44         44      0.639      0.362      0.404      0.197\n"
          ]
        },
        {
          "name": "stderr",
          "output_type": "stream",
          "text": [
            "\n"
          ]
        },
        {
          "name": "stdout",
          "output_type": "stream",
          "text": [
            "\n",
            "      Epoch    GPU_mem   box_loss   cls_loss   dfl_loss  Instances       Size\n"
          ]
        },
        {
          "name": "stderr",
          "output_type": "stream",
          "text": [
            "      8/100     0.826G      1.524      1.162      1.194         20        320: 100%|██████████| 22/22 [00:03<00:00,  6.81it/s]\n",
            "                 Class     Images  Instances      Box(P          R      mAP50  mAP50-95): 100%|██████████| 2/2 [00:00<00:00,  7.05it/s]"
          ]
        },
        {
          "name": "stdout",
          "output_type": "stream",
          "text": [
            "                   all         44         44      0.817      0.591      0.727      0.334\n"
          ]
        },
        {
          "name": "stderr",
          "output_type": "stream",
          "text": [
            "\n"
          ]
        },
        {
          "name": "stdout",
          "output_type": "stream",
          "text": [
            "\n",
            "      Epoch    GPU_mem   box_loss   cls_loss   dfl_loss  Instances       Size\n"
          ]
        },
        {
          "name": "stderr",
          "output_type": "stream",
          "text": [
            "      9/100     0.826G      1.507      1.154      1.215         11        320: 100%|██████████| 22/22 [00:02<00:00,  7.73it/s]\n",
            "                 Class     Images  Instances      Box(P          R      mAP50  mAP50-95): 100%|██████████| 2/2 [00:00<00:00,  8.01it/s]"
          ]
        },
        {
          "name": "stdout",
          "output_type": "stream",
          "text": [
            "                   all         44         44      0.809      0.636      0.755      0.374\n"
          ]
        },
        {
          "name": "stderr",
          "output_type": "stream",
          "text": [
            "\n"
          ]
        },
        {
          "name": "stdout",
          "output_type": "stream",
          "text": [
            "\n",
            "      Epoch    GPU_mem   box_loss   cls_loss   dfl_loss  Instances       Size\n"
          ]
        },
        {
          "name": "stderr",
          "output_type": "stream",
          "text": [
            "     10/100     0.832G      1.471      1.078      1.185         17        320: 100%|██████████| 22/22 [00:03<00:00,  6.80it/s]\n",
            "                 Class     Images  Instances      Box(P          R      mAP50  mAP50-95): 100%|██████████| 2/2 [00:00<00:00,  7.00it/s]"
          ]
        },
        {
          "name": "stdout",
          "output_type": "stream",
          "text": [
            "                   all         44         44      0.756      0.818      0.811      0.387\n"
          ]
        },
        {
          "name": "stderr",
          "output_type": "stream",
          "text": [
            "\n"
          ]
        },
        {
          "name": "stdout",
          "output_type": "stream",
          "text": [
            "\n",
            "      Epoch    GPU_mem   box_loss   cls_loss   dfl_loss  Instances       Size\n"
          ]
        },
        {
          "name": "stderr",
          "output_type": "stream",
          "text": [
            "     11/100     0.832G      1.434      1.038      1.162         18        320: 100%|██████████| 22/22 [00:03<00:00,  6.90it/s]\n",
            "                 Class     Images  Instances      Box(P          R      mAP50  mAP50-95): 100%|██████████| 2/2 [00:00<00:00,  7.83it/s]"
          ]
        },
        {
          "name": "stdout",
          "output_type": "stream",
          "text": [
            "                   all         44         44      0.767      0.747      0.795      0.366\n"
          ]
        },
        {
          "name": "stderr",
          "output_type": "stream",
          "text": [
            "\n"
          ]
        },
        {
          "name": "stdout",
          "output_type": "stream",
          "text": [
            "\n",
            "      Epoch    GPU_mem   box_loss   cls_loss   dfl_loss  Instances       Size\n"
          ]
        },
        {
          "name": "stderr",
          "output_type": "stream",
          "text": [
            "     12/100     0.832G      1.401      1.008      1.118         13        320: 100%|██████████| 22/22 [00:02<00:00,  7.63it/s]\n",
            "                 Class     Images  Instances      Box(P          R      mAP50  mAP50-95): 100%|██████████| 2/2 [00:00<00:00,  7.41it/s]"
          ]
        },
        {
          "name": "stdout",
          "output_type": "stream",
          "text": [
            "                   all         44         44      0.809      0.773      0.795      0.378\n"
          ]
        },
        {
          "name": "stderr",
          "output_type": "stream",
          "text": [
            "\n"
          ]
        },
        {
          "name": "stdout",
          "output_type": "stream",
          "text": [
            "\n",
            "      Epoch    GPU_mem   box_loss   cls_loss   dfl_loss  Instances       Size\n"
          ]
        },
        {
          "name": "stderr",
          "output_type": "stream",
          "text": [
            "     13/100     0.832G      1.433      1.021      1.183         19        320: 100%|██████████| 22/22 [00:03<00:00,  7.08it/s]\n",
            "                 Class     Images  Instances      Box(P          R      mAP50  mAP50-95): 100%|██████████| 2/2 [00:00<00:00,  7.11it/s]"
          ]
        },
        {
          "name": "stdout",
          "output_type": "stream",
          "text": [
            "                   all         44         44      0.759       0.75      0.789       0.37\n"
          ]
        },
        {
          "name": "stderr",
          "output_type": "stream",
          "text": [
            "\n"
          ]
        },
        {
          "name": "stdout",
          "output_type": "stream",
          "text": [
            "\n",
            "      Epoch    GPU_mem   box_loss   cls_loss   dfl_loss  Instances       Size\n"
          ]
        },
        {
          "name": "stderr",
          "output_type": "stream",
          "text": [
            "     14/100     0.832G      1.329      0.958      1.121         24        320: 100%|██████████| 22/22 [00:03<00:00,  6.90it/s]\n",
            "                 Class     Images  Instances      Box(P          R      mAP50  mAP50-95): 100%|██████████| 2/2 [00:00<00:00,  8.29it/s]"
          ]
        },
        {
          "name": "stdout",
          "output_type": "stream",
          "text": [
            "                   all         44         44      0.818      0.816      0.856      0.419\n"
          ]
        },
        {
          "name": "stderr",
          "output_type": "stream",
          "text": [
            "\n"
          ]
        },
        {
          "name": "stdout",
          "output_type": "stream",
          "text": [
            "\n",
            "      Epoch    GPU_mem   box_loss   cls_loss   dfl_loss  Instances       Size\n"
          ]
        },
        {
          "name": "stderr",
          "output_type": "stream",
          "text": [
            "     15/100     0.846G      1.343      0.969      1.134         15        320: 100%|██████████| 22/22 [00:02<00:00,  8.13it/s]\n",
            "                 Class     Images  Instances      Box(P          R      mAP50  mAP50-95): 100%|██████████| 2/2 [00:00<00:00,  8.01it/s]"
          ]
        },
        {
          "name": "stdout",
          "output_type": "stream",
          "text": [
            "                   all         44         44      0.925      0.795      0.894      0.419\n"
          ]
        },
        {
          "name": "stderr",
          "output_type": "stream",
          "text": [
            "\n"
          ]
        },
        {
          "name": "stdout",
          "output_type": "stream",
          "text": [
            "\n",
            "      Epoch    GPU_mem   box_loss   cls_loss   dfl_loss  Instances       Size\n"
          ]
        },
        {
          "name": "stderr",
          "output_type": "stream",
          "text": [
            "     16/100     0.846G      1.446     0.9584      1.166         13        320: 100%|██████████| 22/22 [00:03<00:00,  7.33it/s]\n",
            "                 Class     Images  Instances      Box(P          R      mAP50  mAP50-95): 100%|██████████| 2/2 [00:00<00:00,  7.74it/s]"
          ]
        },
        {
          "name": "stdout",
          "output_type": "stream",
          "text": [
            "                   all         44         44       0.88      0.795       0.86      0.424\n"
          ]
        },
        {
          "name": "stderr",
          "output_type": "stream",
          "text": [
            "\n"
          ]
        },
        {
          "name": "stdout",
          "output_type": "stream",
          "text": [
            "\n",
            "      Epoch    GPU_mem   box_loss   cls_loss   dfl_loss  Instances       Size\n"
          ]
        },
        {
          "name": "stderr",
          "output_type": "stream",
          "text": [
            "     17/100     0.846G      1.365     0.9624       1.14         15        320: 100%|██████████| 22/22 [00:02<00:00,  7.34it/s]\n",
            "                 Class     Images  Instances      Box(P          R      mAP50  mAP50-95): 100%|██████████| 2/2 [00:00<00:00,  8.22it/s]"
          ]
        },
        {
          "name": "stdout",
          "output_type": "stream",
          "text": [
            "                   all         44         44      0.842      0.849      0.888      0.436\n"
          ]
        },
        {
          "name": "stderr",
          "output_type": "stream",
          "text": [
            "\n"
          ]
        },
        {
          "name": "stdout",
          "output_type": "stream",
          "text": [
            "\n",
            "      Epoch    GPU_mem   box_loss   cls_loss   dfl_loss  Instances       Size\n"
          ]
        },
        {
          "name": "stderr",
          "output_type": "stream",
          "text": [
            "     18/100     0.846G      1.353     0.9176       1.15         17        320: 100%|██████████| 22/22 [00:02<00:00,  7.95it/s]\n",
            "                 Class     Images  Instances      Box(P          R      mAP50  mAP50-95): 100%|██████████| 2/2 [00:00<00:00,  7.73it/s]"
          ]
        },
        {
          "name": "stdout",
          "output_type": "stream",
          "text": [
            "                   all         44         44      0.852      0.773      0.849      0.411\n"
          ]
        },
        {
          "name": "stderr",
          "output_type": "stream",
          "text": [
            "\n"
          ]
        },
        {
          "name": "stdout",
          "output_type": "stream",
          "text": [
            "\n",
            "      Epoch    GPU_mem   box_loss   cls_loss   dfl_loss  Instances       Size\n"
          ]
        },
        {
          "name": "stderr",
          "output_type": "stream",
          "text": [
            "     19/100     0.846G      1.303     0.8597      1.107         23        320: 100%|██████████| 22/22 [00:02<00:00,  7.54it/s]\n",
            "                 Class     Images  Instances      Box(P          R      mAP50  mAP50-95): 100%|██████████| 2/2 [00:00<00:00,  7.56it/s]"
          ]
        },
        {
          "name": "stdout",
          "output_type": "stream",
          "text": [
            "                   all         44         44      0.848      0.841      0.863      0.467\n"
          ]
        },
        {
          "name": "stderr",
          "output_type": "stream",
          "text": [
            "\n"
          ]
        },
        {
          "name": "stdout",
          "output_type": "stream",
          "text": [
            "\n",
            "      Epoch    GPU_mem   box_loss   cls_loss   dfl_loss  Instances       Size\n"
          ]
        },
        {
          "name": "stderr",
          "output_type": "stream",
          "text": [
            "     20/100     0.846G       1.32     0.8774      1.136         20        320: 100%|██████████| 22/22 [00:02<00:00,  7.38it/s]\n",
            "                 Class     Images  Instances      Box(P          R      mAP50  mAP50-95): 100%|██████████| 2/2 [00:00<00:00,  8.46it/s]"
          ]
        },
        {
          "name": "stdout",
          "output_type": "stream",
          "text": [
            "                   all         44         44      0.863      0.773      0.821      0.437\n"
          ]
        },
        {
          "name": "stderr",
          "output_type": "stream",
          "text": [
            "\n"
          ]
        },
        {
          "name": "stdout",
          "output_type": "stream",
          "text": [
            "\n",
            "      Epoch    GPU_mem   box_loss   cls_loss   dfl_loss  Instances       Size\n"
          ]
        },
        {
          "name": "stderr",
          "output_type": "stream",
          "text": [
            "     21/100     0.846G      1.246      0.844      1.091         18        320: 100%|██████████| 22/22 [00:02<00:00,  8.11it/s]\n",
            "                 Class     Images  Instances      Box(P          R      mAP50  mAP50-95): 100%|██████████| 2/2 [00:00<00:00,  8.19it/s]"
          ]
        },
        {
          "name": "stdout",
          "output_type": "stream",
          "text": [
            "                   all         44         44      0.933      0.773      0.892       0.44\n"
          ]
        },
        {
          "name": "stderr",
          "output_type": "stream",
          "text": [
            "\n"
          ]
        },
        {
          "name": "stdout",
          "output_type": "stream",
          "text": [
            "\n",
            "      Epoch    GPU_mem   box_loss   cls_loss   dfl_loss  Instances       Size\n"
          ]
        },
        {
          "name": "stderr",
          "output_type": "stream",
          "text": [
            "     22/100     0.846G      1.243     0.8395      1.091         12        320: 100%|██████████| 22/22 [00:02<00:00,  7.35it/s]\n",
            "                 Class     Images  Instances      Box(P          R      mAP50  mAP50-95): 100%|██████████| 2/2 [00:00<00:00,  7.84it/s]"
          ]
        },
        {
          "name": "stdout",
          "output_type": "stream",
          "text": [
            "                   all         44         44      0.774      0.795      0.822      0.444\n"
          ]
        },
        {
          "name": "stderr",
          "output_type": "stream",
          "text": [
            "\n"
          ]
        },
        {
          "name": "stdout",
          "output_type": "stream",
          "text": [
            "\n",
            "      Epoch    GPU_mem   box_loss   cls_loss   dfl_loss  Instances       Size\n"
          ]
        },
        {
          "name": "stderr",
          "output_type": "stream",
          "text": [
            "     23/100     0.846G      1.295      0.827      1.097         22        320: 100%|██████████| 22/22 [00:02<00:00,  7.54it/s]\n",
            "                 Class     Images  Instances      Box(P          R      mAP50  mAP50-95): 100%|██████████| 2/2 [00:00<00:00,  7.58it/s]"
          ]
        },
        {
          "name": "stdout",
          "output_type": "stream",
          "text": [
            "                   all         44         44      0.809      0.909       0.93      0.487\n"
          ]
        },
        {
          "name": "stderr",
          "output_type": "stream",
          "text": [
            "\n"
          ]
        },
        {
          "name": "stdout",
          "output_type": "stream",
          "text": [
            "\n",
            "      Epoch    GPU_mem   box_loss   cls_loss   dfl_loss  Instances       Size\n"
          ]
        },
        {
          "name": "stderr",
          "output_type": "stream",
          "text": [
            "     24/100     0.846G      1.299     0.8006      1.122         19        320: 100%|██████████| 22/22 [00:02<00:00,  8.09it/s]\n",
            "                 Class     Images  Instances      Box(P          R      mAP50  mAP50-95): 100%|██████████| 2/2 [00:00<00:00,  8.47it/s]"
          ]
        },
        {
          "name": "stdout",
          "output_type": "stream",
          "text": [
            "                   all         44         44      0.805      0.864       0.84      0.456\n"
          ]
        },
        {
          "name": "stderr",
          "output_type": "stream",
          "text": [
            "\n"
          ]
        },
        {
          "name": "stdout",
          "output_type": "stream",
          "text": [
            "\n",
            "      Epoch    GPU_mem   box_loss   cls_loss   dfl_loss  Instances       Size\n"
          ]
        },
        {
          "name": "stderr",
          "output_type": "stream",
          "text": [
            "     25/100     0.846G      1.271     0.8019      1.087         15        320: 100%|██████████| 22/22 [00:02<00:00,  7.50it/s]\n",
            "                 Class     Images  Instances      Box(P          R      mAP50  mAP50-95): 100%|██████████| 2/2 [00:00<00:00,  7.53it/s]"
          ]
        },
        {
          "name": "stdout",
          "output_type": "stream",
          "text": [
            "                   all         44         44      0.768      0.795      0.818      0.475\n"
          ]
        },
        {
          "name": "stderr",
          "output_type": "stream",
          "text": [
            "\n"
          ]
        },
        {
          "name": "stdout",
          "output_type": "stream",
          "text": [
            "\n",
            "      Epoch    GPU_mem   box_loss   cls_loss   dfl_loss  Instances       Size\n"
          ]
        },
        {
          "name": "stderr",
          "output_type": "stream",
          "text": [
            "     26/100     0.846G      1.218     0.7919      1.072         20        320: 100%|██████████| 22/22 [00:03<00:00,  7.32it/s]\n",
            "                 Class     Images  Instances      Box(P          R      mAP50  mAP50-95): 100%|██████████| 2/2 [00:00<00:00,  7.04it/s]"
          ]
        },
        {
          "name": "stdout",
          "output_type": "stream",
          "text": [
            "                   all         44         44      0.856      0.818      0.876      0.458\n"
          ]
        },
        {
          "name": "stderr",
          "output_type": "stream",
          "text": [
            "\n"
          ]
        },
        {
          "name": "stdout",
          "output_type": "stream",
          "text": [
            "\n",
            "      Epoch    GPU_mem   box_loss   cls_loss   dfl_loss  Instances       Size\n"
          ]
        },
        {
          "name": "stderr",
          "output_type": "stream",
          "text": [
            "     27/100     0.846G      1.293     0.7799      1.103         17        320: 100%|██████████| 22/22 [00:02<00:00,  8.21it/s]\n",
            "                 Class     Images  Instances      Box(P          R      mAP50  mAP50-95): 100%|██████████| 2/2 [00:00<00:00,  8.30it/s]"
          ]
        },
        {
          "name": "stdout",
          "output_type": "stream",
          "text": [
            "                   all         44         44      0.856      0.814       0.83      0.448\n"
          ]
        },
        {
          "name": "stderr",
          "output_type": "stream",
          "text": [
            "\n"
          ]
        },
        {
          "name": "stdout",
          "output_type": "stream",
          "text": [
            "\n",
            "      Epoch    GPU_mem   box_loss   cls_loss   dfl_loss  Instances       Size\n"
          ]
        },
        {
          "name": "stderr",
          "output_type": "stream",
          "text": [
            "     28/100     0.846G      1.267      0.805      1.098         16        320: 100%|██████████| 22/22 [00:02<00:00,  7.45it/s]\n",
            "                 Class     Images  Instances      Box(P          R      mAP50  mAP50-95): 100%|██████████| 2/2 [00:00<00:00,  7.91it/s]"
          ]
        },
        {
          "name": "stdout",
          "output_type": "stream",
          "text": [
            "                   all         44         44      0.934      0.841      0.892      0.472\n"
          ]
        },
        {
          "name": "stderr",
          "output_type": "stream",
          "text": [
            "\n"
          ]
        },
        {
          "name": "stdout",
          "output_type": "stream",
          "text": [
            "\n",
            "      Epoch    GPU_mem   box_loss   cls_loss   dfl_loss  Instances       Size\n"
          ]
        },
        {
          "name": "stderr",
          "output_type": "stream",
          "text": [
            "     29/100     0.861G      1.224     0.7949      1.075         17        320: 100%|██████████| 22/22 [00:02<00:00,  7.37it/s]\n",
            "                 Class     Images  Instances      Box(P          R      mAP50  mAP50-95): 100%|██████████| 2/2 [00:00<00:00,  7.76it/s]"
          ]
        },
        {
          "name": "stdout",
          "output_type": "stream",
          "text": [
            "                   all         44         44      0.939      0.909      0.937      0.478\n"
          ]
        },
        {
          "name": "stderr",
          "output_type": "stream",
          "text": [
            "\n"
          ]
        },
        {
          "name": "stdout",
          "output_type": "stream",
          "text": [
            "\n",
            "      Epoch    GPU_mem   box_loss   cls_loss   dfl_loss  Instances       Size\n"
          ]
        },
        {
          "name": "stderr",
          "output_type": "stream",
          "text": [
            "     30/100     0.861G       1.21       0.78      1.086         11        320: 100%|██████████| 22/22 [00:02<00:00,  7.84it/s]\n",
            "                 Class     Images  Instances      Box(P          R      mAP50  mAP50-95): 100%|██████████| 2/2 [00:00<00:00,  8.48it/s]"
          ]
        },
        {
          "name": "stdout",
          "output_type": "stream",
          "text": [
            "                   all         44         44      0.973      0.831      0.903      0.438\n"
          ]
        },
        {
          "name": "stderr",
          "output_type": "stream",
          "text": [
            "\n"
          ]
        },
        {
          "name": "stdout",
          "output_type": "stream",
          "text": [
            "\n",
            "      Epoch    GPU_mem   box_loss   cls_loss   dfl_loss  Instances       Size\n"
          ]
        },
        {
          "name": "stderr",
          "output_type": "stream",
          "text": [
            "     31/100     0.861G      1.269     0.7801      1.084         14        320: 100%|██████████| 22/22 [00:02<00:00,  7.73it/s]\n",
            "                 Class     Images  Instances      Box(P          R      mAP50  mAP50-95): 100%|██████████| 2/2 [00:00<00:00,  7.52it/s]"
          ]
        },
        {
          "name": "stdout",
          "output_type": "stream",
          "text": [
            "                   all         44         44      0.873      0.779      0.862      0.443\n"
          ]
        },
        {
          "name": "stderr",
          "output_type": "stream",
          "text": [
            "\n"
          ]
        },
        {
          "name": "stdout",
          "output_type": "stream",
          "text": [
            "\n",
            "      Epoch    GPU_mem   box_loss   cls_loss   dfl_loss  Instances       Size\n"
          ]
        },
        {
          "name": "stderr",
          "output_type": "stream",
          "text": [
            "     32/100     0.861G       1.18       0.75      1.056         19        320: 100%|██████████| 22/22 [00:03<00:00,  6.96it/s]\n",
            "                 Class     Images  Instances      Box(P          R      mAP50  mAP50-95): 100%|██████████| 2/2 [00:00<00:00,  7.89it/s]"
          ]
        },
        {
          "name": "stdout",
          "output_type": "stream",
          "text": [
            "                   all         44         44      0.903      0.843       0.88      0.477\n"
          ]
        },
        {
          "name": "stderr",
          "output_type": "stream",
          "text": [
            "\n"
          ]
        },
        {
          "name": "stdout",
          "output_type": "stream",
          "text": [
            "\n",
            "      Epoch    GPU_mem   box_loss   cls_loss   dfl_loss  Instances       Size\n"
          ]
        },
        {
          "name": "stderr",
          "output_type": "stream",
          "text": [
            "     33/100     0.861G      1.152     0.7177      1.025         17        320: 100%|██████████| 22/22 [00:02<00:00,  7.93it/s]\n",
            "                 Class     Images  Instances      Box(P          R      mAP50  mAP50-95): 100%|██████████| 2/2 [00:00<00:00,  8.36it/s]"
          ]
        },
        {
          "name": "stdout",
          "output_type": "stream",
          "text": [
            "                   all         44         44      0.857      0.886      0.883      0.437\n"
          ]
        },
        {
          "name": "stderr",
          "output_type": "stream",
          "text": [
            "\n"
          ]
        },
        {
          "name": "stdout",
          "output_type": "stream",
          "text": [
            "\n",
            "      Epoch    GPU_mem   box_loss   cls_loss   dfl_loss  Instances       Size\n"
          ]
        },
        {
          "name": "stderr",
          "output_type": "stream",
          "text": [
            "     34/100     0.861G      1.179     0.7537       1.05         14        320: 100%|██████████| 22/22 [00:02<00:00,  7.63it/s]\n",
            "                 Class     Images  Instances      Box(P          R      mAP50  mAP50-95): 100%|██████████| 2/2 [00:00<00:00,  7.79it/s]"
          ]
        },
        {
          "name": "stdout",
          "output_type": "stream",
          "text": [
            "                   all         44         44      0.782      0.897      0.886      0.474\n"
          ]
        },
        {
          "name": "stderr",
          "output_type": "stream",
          "text": [
            "\n"
          ]
        },
        {
          "name": "stdout",
          "output_type": "stream",
          "text": [
            "\n",
            "      Epoch    GPU_mem   box_loss   cls_loss   dfl_loss  Instances       Size\n"
          ]
        },
        {
          "name": "stderr",
          "output_type": "stream",
          "text": [
            "     35/100     0.861G       1.24     0.7505      1.073         13        320: 100%|██████████| 22/22 [00:02<00:00,  7.49it/s]\n",
            "                 Class     Images  Instances      Box(P          R      mAP50  mAP50-95): 100%|██████████| 2/2 [00:00<00:00,  7.97it/s]"
          ]
        },
        {
          "name": "stdout",
          "output_type": "stream",
          "text": [
            "                   all         44         44      0.849      0.886      0.904      0.497\n"
          ]
        },
        {
          "name": "stderr",
          "output_type": "stream",
          "text": [
            "\n"
          ]
        },
        {
          "name": "stdout",
          "output_type": "stream",
          "text": [
            "\n",
            "      Epoch    GPU_mem   box_loss   cls_loss   dfl_loss  Instances       Size\n"
          ]
        },
        {
          "name": "stderr",
          "output_type": "stream",
          "text": [
            "     36/100     0.861G      1.175     0.7117      1.045         16        320: 100%|██████████| 22/22 [00:02<00:00,  7.64it/s]\n",
            "                 Class     Images  Instances      Box(P          R      mAP50  mAP50-95): 100%|██████████| 2/2 [00:00<00:00,  8.31it/s]"
          ]
        },
        {
          "name": "stdout",
          "output_type": "stream",
          "text": [
            "                   all         44         44      0.929      0.795      0.866      0.455\n"
          ]
        },
        {
          "name": "stderr",
          "output_type": "stream",
          "text": [
            "\n"
          ]
        },
        {
          "name": "stdout",
          "output_type": "stream",
          "text": [
            "\n",
            "      Epoch    GPU_mem   box_loss   cls_loss   dfl_loss  Instances       Size\n"
          ]
        },
        {
          "name": "stderr",
          "output_type": "stream",
          "text": [
            "     37/100     0.861G       1.08      0.693       1.02         16        320: 100%|██████████| 22/22 [00:02<00:00,  7.78it/s]\n",
            "                 Class     Images  Instances      Box(P          R      mAP50  mAP50-95): 100%|██████████| 2/2 [00:00<00:00,  8.04it/s]"
          ]
        },
        {
          "name": "stdout",
          "output_type": "stream",
          "text": [
            "                   all         44         44      0.868      0.932      0.928      0.512\n"
          ]
        },
        {
          "name": "stderr",
          "output_type": "stream",
          "text": [
            "\n"
          ]
        },
        {
          "name": "stdout",
          "output_type": "stream",
          "text": [
            "\n",
            "      Epoch    GPU_mem   box_loss   cls_loss   dfl_loss  Instances       Size\n"
          ]
        },
        {
          "name": "stderr",
          "output_type": "stream",
          "text": [
            "     38/100     0.861G      1.161     0.6967      1.053         20        320: 100%|██████████| 22/22 [00:03<00:00,  7.27it/s]\n",
            "                 Class     Images  Instances      Box(P          R      mAP50  mAP50-95): 100%|██████████| 2/2 [00:00<00:00,  7.76it/s]"
          ]
        },
        {
          "name": "stdout",
          "output_type": "stream",
          "text": [
            "                   all         44         44        0.9      0.932      0.943      0.497\n"
          ]
        },
        {
          "name": "stderr",
          "output_type": "stream",
          "text": [
            "\n"
          ]
        },
        {
          "name": "stdout",
          "output_type": "stream",
          "text": [
            "\n",
            "      Epoch    GPU_mem   box_loss   cls_loss   dfl_loss  Instances       Size\n"
          ]
        },
        {
          "name": "stderr",
          "output_type": "stream",
          "text": [
            "     39/100     0.861G      1.133     0.7063      1.038         21        320: 100%|██████████| 22/22 [00:02<00:00,  7.86it/s]\n",
            "                 Class     Images  Instances      Box(P          R      mAP50  mAP50-95): 100%|██████████| 2/2 [00:00<00:00,  8.31it/s]"
          ]
        },
        {
          "name": "stdout",
          "output_type": "stream",
          "text": [
            "                   all         44         44      0.903      0.886      0.936      0.524\n"
          ]
        },
        {
          "name": "stderr",
          "output_type": "stream",
          "text": [
            "\n"
          ]
        },
        {
          "name": "stdout",
          "output_type": "stream",
          "text": [
            "\n",
            "      Epoch    GPU_mem   box_loss   cls_loss   dfl_loss  Instances       Size\n"
          ]
        },
        {
          "name": "stderr",
          "output_type": "stream",
          "text": [
            "     40/100     0.861G      1.162     0.7015       1.05         16        320: 100%|██████████| 22/22 [00:02<00:00,  7.61it/s]\n",
            "                 Class     Images  Instances      Box(P          R      mAP50  mAP50-95): 100%|██████████| 2/2 [00:00<00:00,  7.86it/s]"
          ]
        },
        {
          "name": "stdout",
          "output_type": "stream",
          "text": [
            "                   all         44         44       0.94      0.818      0.909      0.496\n"
          ]
        },
        {
          "name": "stderr",
          "output_type": "stream",
          "text": [
            "\n"
          ]
        },
        {
          "name": "stdout",
          "output_type": "stream",
          "text": [
            "\n",
            "      Epoch    GPU_mem   box_loss   cls_loss   dfl_loss  Instances       Size\n"
          ]
        },
        {
          "name": "stderr",
          "output_type": "stream",
          "text": [
            "     41/100     0.861G       1.14     0.6874      1.036         22        320: 100%|██████████| 22/22 [00:02<00:00,  7.35it/s]\n",
            "                 Class     Images  Instances      Box(P          R      mAP50  mAP50-95): 100%|██████████| 2/2 [00:00<00:00,  8.14it/s]"
          ]
        },
        {
          "name": "stdout",
          "output_type": "stream",
          "text": [
            "                   all         44         44      0.868      0.894      0.913      0.511\n"
          ]
        },
        {
          "name": "stderr",
          "output_type": "stream",
          "text": [
            "\n"
          ]
        },
        {
          "name": "stdout",
          "output_type": "stream",
          "text": [
            "\n",
            "      Epoch    GPU_mem   box_loss   cls_loss   dfl_loss  Instances       Size\n"
          ]
        },
        {
          "name": "stderr",
          "output_type": "stream",
          "text": [
            "     42/100     0.861G      1.127     0.6759      1.021         17        320: 100%|██████████| 22/22 [00:02<00:00,  7.57it/s]\n",
            "                 Class     Images  Instances      Box(P          R      mAP50  mAP50-95): 100%|██████████| 2/2 [00:00<00:00,  8.01it/s]"
          ]
        },
        {
          "name": "stdout",
          "output_type": "stream",
          "text": [
            "                   all         44         44      0.941      0.886      0.922      0.517\n"
          ]
        },
        {
          "name": "stderr",
          "output_type": "stream",
          "text": [
            "\n"
          ]
        },
        {
          "name": "stdout",
          "output_type": "stream",
          "text": [
            "\n",
            "      Epoch    GPU_mem   box_loss   cls_loss   dfl_loss  Instances       Size\n"
          ]
        },
        {
          "name": "stderr",
          "output_type": "stream",
          "text": [
            "     43/100     0.861G      1.092     0.6422      1.024         14        320: 100%|██████████| 22/22 [00:02<00:00,  8.00it/s]\n",
            "                 Class     Images  Instances      Box(P          R      mAP50  mAP50-95): 100%|██████████| 2/2 [00:00<00:00,  7.30it/s]"
          ]
        },
        {
          "name": "stdout",
          "output_type": "stream",
          "text": [
            "                   all         44         44      0.897      0.909      0.927      0.517\n"
          ]
        },
        {
          "name": "stderr",
          "output_type": "stream",
          "text": [
            "\n"
          ]
        },
        {
          "name": "stdout",
          "output_type": "stream",
          "text": [
            "\n",
            "      Epoch    GPU_mem   box_loss   cls_loss   dfl_loss  Instances       Size\n"
          ]
        },
        {
          "name": "stderr",
          "output_type": "stream",
          "text": [
            "     44/100     0.861G      1.099     0.6739      1.044         13        320: 100%|██████████| 22/22 [00:03<00:00,  7.26it/s]\n",
            "                 Class     Images  Instances      Box(P          R      mAP50  mAP50-95): 100%|██████████| 2/2 [00:00<00:00,  7.73it/s]"
          ]
        },
        {
          "name": "stdout",
          "output_type": "stream",
          "text": [
            "                   all         44         44      0.909      0.909       0.93      0.515\n"
          ]
        },
        {
          "name": "stderr",
          "output_type": "stream",
          "text": [
            "\n"
          ]
        },
        {
          "name": "stdout",
          "output_type": "stream",
          "text": [
            "\n",
            "      Epoch    GPU_mem   box_loss   cls_loss   dfl_loss  Instances       Size\n"
          ]
        },
        {
          "name": "stderr",
          "output_type": "stream",
          "text": [
            "     45/100     0.861G      1.042     0.6395      1.014         15        320: 100%|██████████| 22/22 [00:03<00:00,  7.26it/s]\n",
            "                 Class     Images  Instances      Box(P          R      mAP50  mAP50-95): 100%|██████████| 2/2 [00:00<00:00,  8.48it/s]"
          ]
        },
        {
          "name": "stdout",
          "output_type": "stream",
          "text": [
            "                   all         44         44      0.869      0.932      0.929       0.52\n"
          ]
        },
        {
          "name": "stderr",
          "output_type": "stream",
          "text": [
            "\n"
          ]
        },
        {
          "name": "stdout",
          "output_type": "stream",
          "text": [
            "\n",
            "      Epoch    GPU_mem   box_loss   cls_loss   dfl_loss  Instances       Size\n"
          ]
        },
        {
          "name": "stderr",
          "output_type": "stream",
          "text": [
            "     46/100     0.861G      1.095     0.6792      1.008         21        320: 100%|██████████| 22/22 [00:02<00:00,  7.89it/s]\n",
            "                 Class     Images  Instances      Box(P          R      mAP50  mAP50-95): 100%|██████████| 2/2 [00:00<00:00,  7.36it/s]"
          ]
        },
        {
          "name": "stdout",
          "output_type": "stream",
          "text": [
            "                   all         44         44      0.863      0.864      0.913      0.522\n"
          ]
        },
        {
          "name": "stderr",
          "output_type": "stream",
          "text": [
            "\n"
          ]
        },
        {
          "name": "stdout",
          "output_type": "stream",
          "text": [
            "\n",
            "      Epoch    GPU_mem   box_loss   cls_loss   dfl_loss  Instances       Size\n"
          ]
        },
        {
          "name": "stderr",
          "output_type": "stream",
          "text": [
            "     47/100     0.861G      1.099     0.6682      1.007         19        320: 100%|██████████| 22/22 [00:02<00:00,  7.41it/s]\n",
            "                 Class     Images  Instances      Box(P          R      mAP50  mAP50-95): 100%|██████████| 2/2 [00:00<00:00,  7.61it/s]"
          ]
        },
        {
          "name": "stdout",
          "output_type": "stream",
          "text": [
            "                   all         44         44      0.816      0.905       0.87      0.503\n"
          ]
        },
        {
          "name": "stderr",
          "output_type": "stream",
          "text": [
            "\n"
          ]
        },
        {
          "name": "stdout",
          "output_type": "stream",
          "text": [
            "\n",
            "      Epoch    GPU_mem   box_loss   cls_loss   dfl_loss  Instances       Size\n"
          ]
        },
        {
          "name": "stderr",
          "output_type": "stream",
          "text": [
            "     48/100     0.861G      1.101     0.6647      1.037         19        320: 100%|██████████| 22/22 [00:02<00:00,  7.40it/s]\n",
            "                 Class     Images  Instances      Box(P          R      mAP50  mAP50-95): 100%|██████████| 2/2 [00:00<00:00,  8.40it/s]"
          ]
        },
        {
          "name": "stdout",
          "output_type": "stream",
          "text": [
            "                   all         44         44      0.831      0.886      0.914      0.511\n"
          ]
        },
        {
          "name": "stderr",
          "output_type": "stream",
          "text": [
            "\n"
          ]
        },
        {
          "name": "stdout",
          "output_type": "stream",
          "text": [
            "\n",
            "      Epoch    GPU_mem   box_loss   cls_loss   dfl_loss  Instances       Size\n"
          ]
        },
        {
          "name": "stderr",
          "output_type": "stream",
          "text": [
            "     49/100     0.861G      1.102     0.6403      1.025         15        320: 100%|██████████| 22/22 [00:02<00:00,  8.05it/s]\n",
            "                 Class     Images  Instances      Box(P          R      mAP50  mAP50-95): 100%|██████████| 2/2 [00:00<00:00,  7.46it/s]"
          ]
        },
        {
          "name": "stdout",
          "output_type": "stream",
          "text": [
            "                   all         44         44      0.905      0.862      0.904      0.507\n"
          ]
        },
        {
          "name": "stderr",
          "output_type": "stream",
          "text": [
            "\n"
          ]
        },
        {
          "name": "stdout",
          "output_type": "stream",
          "text": [
            "\n",
            "      Epoch    GPU_mem   box_loss   cls_loss   dfl_loss  Instances       Size\n"
          ]
        },
        {
          "name": "stderr",
          "output_type": "stream",
          "text": [
            "     50/100     0.861G      1.074     0.6457       1.02         19        320: 100%|██████████| 22/22 [00:02<00:00,  7.34it/s]\n",
            "                 Class     Images  Instances      Box(P          R      mAP50  mAP50-95): 100%|██████████| 2/2 [00:00<00:00,  7.31it/s]"
          ]
        },
        {
          "name": "stdout",
          "output_type": "stream",
          "text": [
            "                   all         44         44      0.896      0.841      0.886        0.5\n"
          ]
        },
        {
          "name": "stderr",
          "output_type": "stream",
          "text": [
            "\n"
          ]
        },
        {
          "name": "stdout",
          "output_type": "stream",
          "text": [
            "\n",
            "      Epoch    GPU_mem   box_loss   cls_loss   dfl_loss  Instances       Size\n"
          ]
        },
        {
          "name": "stderr",
          "output_type": "stream",
          "text": [
            "     51/100     0.861G      1.081     0.6567      1.041         22        320: 100%|██████████| 22/22 [00:02<00:00,  7.45it/s]\n",
            "                 Class     Images  Instances      Box(P          R      mAP50  mAP50-95): 100%|██████████| 2/2 [00:00<00:00,  8.54it/s]"
          ]
        },
        {
          "name": "stdout",
          "output_type": "stream",
          "text": [
            "                   all         44         44      0.885      0.875      0.906      0.527\n"
          ]
        },
        {
          "name": "stderr",
          "output_type": "stream",
          "text": [
            "\n"
          ]
        },
        {
          "name": "stdout",
          "output_type": "stream",
          "text": [
            "\n",
            "      Epoch    GPU_mem   box_loss   cls_loss   dfl_loss  Instances       Size\n"
          ]
        },
        {
          "name": "stderr",
          "output_type": "stream",
          "text": [
            "     52/100     0.861G      1.032     0.6551      1.003         17        320: 100%|██████████| 22/22 [00:02<00:00,  7.94it/s]\n",
            "                 Class     Images  Instances      Box(P          R      mAP50  mAP50-95): 100%|██████████| 2/2 [00:00<00:00,  6.65it/s]"
          ]
        },
        {
          "name": "stdout",
          "output_type": "stream",
          "text": [
            "                   all         44         44      0.885      0.886      0.879      0.518\n"
          ]
        },
        {
          "name": "stderr",
          "output_type": "stream",
          "text": [
            "\n"
          ]
        },
        {
          "name": "stdout",
          "output_type": "stream",
          "text": [
            "\n",
            "      Epoch    GPU_mem   box_loss   cls_loss   dfl_loss  Instances       Size\n"
          ]
        },
        {
          "name": "stderr",
          "output_type": "stream",
          "text": [
            "     53/100     0.861G     0.9887     0.5949     0.9763         17        320: 100%|██████████| 22/22 [00:03<00:00,  6.66it/s]\n",
            "                 Class     Images  Instances      Box(P          R      mAP50  mAP50-95): 100%|██████████| 2/2 [00:00<00:00,  7.10it/s]"
          ]
        },
        {
          "name": "stdout",
          "output_type": "stream",
          "text": [
            "                   all         44         44      0.933      0.818      0.888      0.496\n"
          ]
        },
        {
          "name": "stderr",
          "output_type": "stream",
          "text": [
            "\n"
          ]
        },
        {
          "name": "stdout",
          "output_type": "stream",
          "text": [
            "\n",
            "      Epoch    GPU_mem   box_loss   cls_loss   dfl_loss  Instances       Size\n"
          ]
        },
        {
          "name": "stderr",
          "output_type": "stream",
          "text": [
            "     54/100     0.861G      1.037     0.6219     0.9986         20        320: 100%|██████████| 22/22 [00:03<00:00,  6.77it/s]\n",
            "                 Class     Images  Instances      Box(P          R      mAP50  mAP50-95): 100%|██████████| 2/2 [00:00<00:00,  8.29it/s]"
          ]
        },
        {
          "name": "stdout",
          "output_type": "stream",
          "text": [
            "                   all         44         44      0.888      0.909      0.933      0.509\n"
          ]
        },
        {
          "name": "stderr",
          "output_type": "stream",
          "text": [
            "\n"
          ]
        },
        {
          "name": "stdout",
          "output_type": "stream",
          "text": [
            "\n",
            "      Epoch    GPU_mem   box_loss   cls_loss   dfl_loss  Instances       Size\n"
          ]
        },
        {
          "name": "stderr",
          "output_type": "stream",
          "text": [
            "     55/100     0.861G      1.017     0.6231     0.9981         17        320: 100%|██████████| 22/22 [00:02<00:00,  7.95it/s]\n",
            "                 Class     Images  Instances      Box(P          R      mAP50  mAP50-95): 100%|██████████| 2/2 [00:00<00:00,  7.73it/s]"
          ]
        },
        {
          "name": "stdout",
          "output_type": "stream",
          "text": [
            "                   all         44         44      0.944      0.909       0.94       0.51\n"
          ]
        },
        {
          "name": "stderr",
          "output_type": "stream",
          "text": [
            "\n"
          ]
        },
        {
          "name": "stdout",
          "output_type": "stream",
          "text": [
            "\n",
            "      Epoch    GPU_mem   box_loss   cls_loss   dfl_loss  Instances       Size\n"
          ]
        },
        {
          "name": "stderr",
          "output_type": "stream",
          "text": [
            "     56/100     0.861G      1.033     0.6063      1.001         14        320: 100%|██████████| 22/22 [00:03<00:00,  7.29it/s]\n",
            "                 Class     Images  Instances      Box(P          R      mAP50  mAP50-95): 100%|██████████| 2/2 [00:00<00:00,  7.87it/s]"
          ]
        },
        {
          "name": "stdout",
          "output_type": "stream",
          "text": [
            "                   all         44         44      0.839      0.886      0.913      0.531\n"
          ]
        },
        {
          "name": "stderr",
          "output_type": "stream",
          "text": [
            "\n"
          ]
        },
        {
          "name": "stdout",
          "output_type": "stream",
          "text": [
            "\n",
            "      Epoch    GPU_mem   box_loss   cls_loss   dfl_loss  Instances       Size\n"
          ]
        },
        {
          "name": "stderr",
          "output_type": "stream",
          "text": [
            "     57/100     0.861G      1.001     0.6193      1.005         16        320: 100%|██████████| 22/22 [00:02<00:00,  7.56it/s]\n",
            "                 Class     Images  Instances      Box(P          R      mAP50  mAP50-95): 100%|██████████| 2/2 [00:00<00:00,  8.40it/s]"
          ]
        },
        {
          "name": "stdout",
          "output_type": "stream",
          "text": [
            "                   all         44         44      0.908      0.864      0.932       0.52\n"
          ]
        },
        {
          "name": "stderr",
          "output_type": "stream",
          "text": [
            "\n"
          ]
        },
        {
          "name": "stdout",
          "output_type": "stream",
          "text": [
            "\n",
            "      Epoch    GPU_mem   box_loss   cls_loss   dfl_loss  Instances       Size\n"
          ]
        },
        {
          "name": "stderr",
          "output_type": "stream",
          "text": [
            "     58/100     0.861G      1.035     0.6132     0.9998         14        320: 100%|██████████| 22/22 [00:02<00:00,  7.90it/s]\n",
            "                 Class     Images  Instances      Box(P          R      mAP50  mAP50-95): 100%|██████████| 2/2 [00:00<00:00,  7.77it/s]"
          ]
        },
        {
          "name": "stdout",
          "output_type": "stream",
          "text": [
            "                   all         44         44      0.906      0.879      0.922      0.505\n"
          ]
        },
        {
          "name": "stderr",
          "output_type": "stream",
          "text": [
            "\n"
          ]
        },
        {
          "name": "stdout",
          "output_type": "stream",
          "text": [
            "\n",
            "      Epoch    GPU_mem   box_loss   cls_loss   dfl_loss  Instances       Size\n"
          ]
        },
        {
          "name": "stderr",
          "output_type": "stream",
          "text": [
            "     59/100     0.861G      1.051     0.6373      1.022         12        320: 100%|██████████| 22/22 [00:03<00:00,  7.02it/s]\n",
            "                 Class     Images  Instances      Box(P          R      mAP50  mAP50-95): 100%|██████████| 2/2 [00:00<00:00,  8.25it/s]"
          ]
        },
        {
          "name": "stdout",
          "output_type": "stream",
          "text": [
            "                   all         44         44      0.877      0.886      0.901      0.513\n"
          ]
        },
        {
          "name": "stderr",
          "output_type": "stream",
          "text": [
            "\n"
          ]
        },
        {
          "name": "stdout",
          "output_type": "stream",
          "text": [
            "\n",
            "      Epoch    GPU_mem   box_loss   cls_loss   dfl_loss  Instances       Size\n"
          ]
        },
        {
          "name": "stderr",
          "output_type": "stream",
          "text": [
            "     60/100     0.861G     0.9936     0.5884     0.9767         16        320: 100%|██████████| 22/22 [00:03<00:00,  7.28it/s]\n",
            "                 Class     Images  Instances      Box(P          R      mAP50  mAP50-95): 100%|██████████| 2/2 [00:00<00:00,  8.27it/s]"
          ]
        },
        {
          "name": "stdout",
          "output_type": "stream",
          "text": [
            "                   all         44         44      0.855      0.932      0.919      0.517\n"
          ]
        },
        {
          "name": "stderr",
          "output_type": "stream",
          "text": [
            "\n"
          ]
        },
        {
          "name": "stdout",
          "output_type": "stream",
          "text": [
            "\n",
            "      Epoch    GPU_mem   box_loss   cls_loss   dfl_loss  Instances       Size\n"
          ]
        },
        {
          "name": "stderr",
          "output_type": "stream",
          "text": [
            "     61/100     0.861G     0.9837     0.5927     0.9849         18        320: 100%|██████████| 22/22 [00:02<00:00,  8.16it/s]\n",
            "                 Class     Images  Instances      Box(P          R      mAP50  mAP50-95): 100%|██████████| 2/2 [00:00<00:00,  8.56it/s]"
          ]
        },
        {
          "name": "stdout",
          "output_type": "stream",
          "text": [
            "                   all         44         44      0.883      0.909      0.915      0.522\n"
          ]
        },
        {
          "name": "stderr",
          "output_type": "stream",
          "text": [
            "\n"
          ]
        },
        {
          "name": "stdout",
          "output_type": "stream",
          "text": [
            "\n",
            "      Epoch    GPU_mem   box_loss   cls_loss   dfl_loss  Instances       Size\n"
          ]
        },
        {
          "name": "stderr",
          "output_type": "stream",
          "text": [
            "     62/100     0.861G     0.9941     0.5792     0.9907         19        320: 100%|██████████| 22/22 [00:03<00:00,  7.16it/s]\n",
            "                 Class     Images  Instances      Box(P          R      mAP50  mAP50-95): 100%|██████████| 2/2 [00:00<00:00,  7.30it/s]"
          ]
        },
        {
          "name": "stdout",
          "output_type": "stream",
          "text": [
            "                   all         44         44      0.866      0.955       0.94      0.539\n"
          ]
        },
        {
          "name": "stderr",
          "output_type": "stream",
          "text": [
            "\n"
          ]
        },
        {
          "name": "stdout",
          "output_type": "stream",
          "text": [
            "\n",
            "      Epoch    GPU_mem   box_loss   cls_loss   dfl_loss  Instances       Size\n"
          ]
        },
        {
          "name": "stderr",
          "output_type": "stream",
          "text": [
            "     63/100     0.861G     0.9491     0.5709     0.9804         20        320: 100%|██████████| 22/22 [00:02<00:00,  7.37it/s]\n",
            "                 Class     Images  Instances      Box(P          R      mAP50  mAP50-95): 100%|██████████| 2/2 [00:00<00:00,  8.52it/s]"
          ]
        },
        {
          "name": "stdout",
          "output_type": "stream",
          "text": [
            "                   all         44         44      0.905      0.955      0.945      0.562\n"
          ]
        },
        {
          "name": "stderr",
          "output_type": "stream",
          "text": [
            "\n"
          ]
        },
        {
          "name": "stdout",
          "output_type": "stream",
          "text": [
            "\n",
            "      Epoch    GPU_mem   box_loss   cls_loss   dfl_loss  Instances       Size\n"
          ]
        },
        {
          "name": "stderr",
          "output_type": "stream",
          "text": [
            "     64/100     0.861G     0.9712     0.5759     0.9797         14        320: 100%|██████████| 22/22 [00:02<00:00,  7.90it/s]\n",
            "                 Class     Images  Instances      Box(P          R      mAP50  mAP50-95): 100%|██████████| 2/2 [00:00<00:00,  8.10it/s]"
          ]
        },
        {
          "name": "stdout",
          "output_type": "stream",
          "text": [
            "                   all         44         44      0.848      0.909      0.907      0.546\n"
          ]
        },
        {
          "name": "stderr",
          "output_type": "stream",
          "text": [
            "\n"
          ]
        },
        {
          "name": "stdout",
          "output_type": "stream",
          "text": [
            "\n",
            "      Epoch    GPU_mem   box_loss   cls_loss   dfl_loss  Instances       Size\n"
          ]
        },
        {
          "name": "stderr",
          "output_type": "stream",
          "text": [
            "     65/100     0.861G     0.9732     0.5597     0.9864         20        320: 100%|██████████| 22/22 [00:03<00:00,  7.12it/s]\n",
            "                 Class     Images  Instances      Box(P          R      mAP50  mAP50-95): 100%|██████████| 2/2 [00:00<00:00,  8.11it/s]"
          ]
        },
        {
          "name": "stdout",
          "output_type": "stream",
          "text": [
            "                   all         44         44      0.906      0.879       0.92      0.562\n"
          ]
        },
        {
          "name": "stderr",
          "output_type": "stream",
          "text": [
            "\n"
          ]
        },
        {
          "name": "stdout",
          "output_type": "stream",
          "text": [
            "\n",
            "      Epoch    GPU_mem   box_loss   cls_loss   dfl_loss  Instances       Size\n"
          ]
        },
        {
          "name": "stderr",
          "output_type": "stream",
          "text": [
            "     66/100     0.861G     0.9751     0.6023     0.9741         21        320: 100%|██████████| 22/22 [00:03<00:00,  7.07it/s]\n",
            "                 Class     Images  Instances      Box(P          R      mAP50  mAP50-95): 100%|██████████| 2/2 [00:00<00:00,  7.70it/s]"
          ]
        },
        {
          "name": "stdout",
          "output_type": "stream",
          "text": [
            "                   all         44         44      0.888        0.9      0.901      0.544\n"
          ]
        },
        {
          "name": "stderr",
          "output_type": "stream",
          "text": [
            "\n"
          ]
        },
        {
          "name": "stdout",
          "output_type": "stream",
          "text": [
            "\n",
            "      Epoch    GPU_mem   box_loss   cls_loss   dfl_loss  Instances       Size\n"
          ]
        },
        {
          "name": "stderr",
          "output_type": "stream",
          "text": [
            "     67/100     0.861G      0.947     0.5711     0.9841         20        320: 100%|██████████| 22/22 [00:02<00:00,  8.04it/s]\n",
            "                 Class     Images  Instances      Box(P          R      mAP50  mAP50-95): 100%|██████████| 2/2 [00:00<00:00,  8.62it/s]"
          ]
        },
        {
          "name": "stdout",
          "output_type": "stream",
          "text": [
            "                   all         44         44      0.863      0.886      0.895      0.506\n"
          ]
        },
        {
          "name": "stderr",
          "output_type": "stream",
          "text": [
            "\n"
          ]
        },
        {
          "name": "stdout",
          "output_type": "stream",
          "text": [
            "\n",
            "      Epoch    GPU_mem   box_loss   cls_loss   dfl_loss  Instances       Size\n"
          ]
        },
        {
          "name": "stderr",
          "output_type": "stream",
          "text": [
            "     68/100     0.861G     0.9251     0.5625     0.9656         21        320: 100%|██████████| 22/22 [00:03<00:00,  7.26it/s]\n",
            "                 Class     Images  Instances      Box(P          R      mAP50  mAP50-95): 100%|██████████| 2/2 [00:00<00:00,  8.14it/s]"
          ]
        },
        {
          "name": "stdout",
          "output_type": "stream",
          "text": [
            "                   all         44         44      0.797      0.909      0.901      0.536\n"
          ]
        },
        {
          "name": "stderr",
          "output_type": "stream",
          "text": [
            "\n"
          ]
        },
        {
          "name": "stdout",
          "output_type": "stream",
          "text": [
            "\n",
            "      Epoch    GPU_mem   box_loss   cls_loss   dfl_loss  Instances       Size\n"
          ]
        },
        {
          "name": "stderr",
          "output_type": "stream",
          "text": [
            "     69/100     0.861G     0.9251     0.5514     0.9964         13        320: 100%|██████████| 22/22 [00:03<00:00,  7.25it/s]\n",
            "                 Class     Images  Instances      Box(P          R      mAP50  mAP50-95): 100%|██████████| 2/2 [00:00<00:00,  7.68it/s]"
          ]
        },
        {
          "name": "stdout",
          "output_type": "stream",
          "text": [
            "                   all         44         44       0.91      0.918      0.937      0.542\n"
          ]
        },
        {
          "name": "stderr",
          "output_type": "stream",
          "text": [
            "\n"
          ]
        },
        {
          "name": "stdout",
          "output_type": "stream",
          "text": [
            "\n",
            "      Epoch    GPU_mem   box_loss   cls_loss   dfl_loss  Instances       Size\n"
          ]
        },
        {
          "name": "stderr",
          "output_type": "stream",
          "text": [
            "     70/100     0.861G     0.8996     0.5388     0.9576         19        320: 100%|██████████| 22/22 [00:02<00:00,  7.85it/s]\n",
            "                 Class     Images  Instances      Box(P          R      mAP50  mAP50-95): 100%|██████████| 2/2 [00:00<00:00,  8.06it/s]"
          ]
        },
        {
          "name": "stdout",
          "output_type": "stream",
          "text": [
            "                   all         44         44       0.87      0.886      0.929      0.542\n"
          ]
        },
        {
          "name": "stderr",
          "output_type": "stream",
          "text": [
            "\n"
          ]
        },
        {
          "name": "stdout",
          "output_type": "stream",
          "text": [
            "\n",
            "      Epoch    GPU_mem   box_loss   cls_loss   dfl_loss  Instances       Size\n"
          ]
        },
        {
          "name": "stderr",
          "output_type": "stream",
          "text": [
            "     71/100     0.861G     0.9498     0.5658     0.9845         10        320: 100%|██████████| 22/22 [00:02<00:00,  7.44it/s]\n",
            "                 Class     Images  Instances      Box(P          R      mAP50  mAP50-95): 100%|██████████| 2/2 [00:00<00:00,  7.94it/s]"
          ]
        },
        {
          "name": "stdout",
          "output_type": "stream",
          "text": [
            "                   all         44         44      0.851      0.864       0.85      0.523\n"
          ]
        },
        {
          "name": "stderr",
          "output_type": "stream",
          "text": [
            "\n"
          ]
        },
        {
          "name": "stdout",
          "output_type": "stream",
          "text": [
            "\n",
            "      Epoch    GPU_mem   box_loss   cls_loss   dfl_loss  Instances       Size\n"
          ]
        },
        {
          "name": "stderr",
          "output_type": "stream",
          "text": [
            "     72/100     0.861G     0.9839     0.5567     0.9803         12        320: 100%|██████████| 22/22 [00:03<00:00,  6.97it/s]\n",
            "                 Class     Images  Instances      Box(P          R      mAP50  mAP50-95): 100%|██████████| 2/2 [00:00<00:00,  6.68it/s]"
          ]
        },
        {
          "name": "stdout",
          "output_type": "stream",
          "text": [
            "                   all         44         44       0.88      0.886      0.912      0.516\n"
          ]
        },
        {
          "name": "stderr",
          "output_type": "stream",
          "text": [
            "\n"
          ]
        },
        {
          "name": "stdout",
          "output_type": "stream",
          "text": [
            "\n",
            "      Epoch    GPU_mem   box_loss   cls_loss   dfl_loss  Instances       Size\n"
          ]
        },
        {
          "name": "stderr",
          "output_type": "stream",
          "text": [
            "     73/100     0.861G     0.9316     0.5479     0.9679         20        320: 100%|██████████| 22/22 [00:02<00:00,  8.08it/s]\n",
            "                 Class     Images  Instances      Box(P          R      mAP50  mAP50-95): 100%|██████████| 2/2 [00:00<00:00,  8.62it/s]"
          ]
        },
        {
          "name": "stdout",
          "output_type": "stream",
          "text": [
            "                   all         44         44      0.885      0.909       0.91      0.546\n"
          ]
        },
        {
          "name": "stderr",
          "output_type": "stream",
          "text": [
            "\n"
          ]
        },
        {
          "name": "stdout",
          "output_type": "stream",
          "text": [
            "\n",
            "      Epoch    GPU_mem   box_loss   cls_loss   dfl_loss  Instances       Size\n"
          ]
        },
        {
          "name": "stderr",
          "output_type": "stream",
          "text": [
            "     74/100     0.861G     0.9068     0.5379     0.9581         10        320: 100%|██████████| 22/22 [00:03<00:00,  7.26it/s]\n",
            "                 Class     Images  Instances      Box(P          R      mAP50  mAP50-95): 100%|██████████| 2/2 [00:00<00:00,  7.95it/s]"
          ]
        },
        {
          "name": "stdout",
          "output_type": "stream",
          "text": [
            "                   all         44         44      0.901      0.909      0.914      0.537\n"
          ]
        },
        {
          "name": "stderr",
          "output_type": "stream",
          "text": [
            "\n"
          ]
        },
        {
          "name": "stdout",
          "output_type": "stream",
          "text": [
            "\n",
            "      Epoch    GPU_mem   box_loss   cls_loss   dfl_loss  Instances       Size\n"
          ]
        },
        {
          "name": "stderr",
          "output_type": "stream",
          "text": [
            "     75/100     0.861G     0.9746     0.5745     0.9986         13        320: 100%|██████████| 22/22 [00:02<00:00,  7.34it/s]\n",
            "                 Class     Images  Instances      Box(P          R      mAP50  mAP50-95): 100%|██████████| 2/2 [00:00<00:00,  8.03it/s]"
          ]
        },
        {
          "name": "stdout",
          "output_type": "stream",
          "text": [
            "                   all         44         44      0.885      0.909      0.928      0.567\n"
          ]
        },
        {
          "name": "stderr",
          "output_type": "stream",
          "text": [
            "\n"
          ]
        },
        {
          "name": "stdout",
          "output_type": "stream",
          "text": [
            "\n",
            "      Epoch    GPU_mem   box_loss   cls_loss   dfl_loss  Instances       Size\n"
          ]
        },
        {
          "name": "stderr",
          "output_type": "stream",
          "text": [
            "     76/100     0.861G     0.9181      0.552     0.9654         19        320: 100%|██████████| 22/22 [00:02<00:00,  7.93it/s]\n",
            "                 Class     Images  Instances      Box(P          R      mAP50  mAP50-95): 100%|██████████| 2/2 [00:00<00:00,  8.39it/s]"
          ]
        },
        {
          "name": "stdout",
          "output_type": "stream",
          "text": [
            "                   all         44         44      0.885      0.909      0.929      0.553\n"
          ]
        },
        {
          "name": "stderr",
          "output_type": "stream",
          "text": [
            "\n"
          ]
        },
        {
          "name": "stdout",
          "output_type": "stream",
          "text": [
            "\n",
            "      Epoch    GPU_mem   box_loss   cls_loss   dfl_loss  Instances       Size\n"
          ]
        },
        {
          "name": "stderr",
          "output_type": "stream",
          "text": [
            "     77/100     0.861G     0.8688      0.524     0.9431         20        320: 100%|██████████| 22/22 [00:02<00:00,  7.49it/s]\n",
            "                 Class     Images  Instances      Box(P          R      mAP50  mAP50-95): 100%|██████████| 2/2 [00:00<00:00,  8.14it/s]"
          ]
        },
        {
          "name": "stdout",
          "output_type": "stream",
          "text": [
            "                   all         44         44      0.886      0.882      0.912      0.521\n"
          ]
        },
        {
          "name": "stderr",
          "output_type": "stream",
          "text": [
            "\n"
          ]
        },
        {
          "name": "stdout",
          "output_type": "stream",
          "text": [
            "\n",
            "      Epoch    GPU_mem   box_loss   cls_loss   dfl_loss  Instances       Size\n"
          ]
        },
        {
          "name": "stderr",
          "output_type": "stream",
          "text": [
            "     78/100     0.861G     0.8916     0.5367     0.9611         13        320: 100%|██████████| 22/22 [00:03<00:00,  7.08it/s]\n",
            "                 Class     Images  Instances      Box(P          R      mAP50  mAP50-95): 100%|██████████| 2/2 [00:00<00:00,  7.29it/s]"
          ]
        },
        {
          "name": "stdout",
          "output_type": "stream",
          "text": [
            "                   all         44         44      0.916      0.909      0.917      0.534\n"
          ]
        },
        {
          "name": "stderr",
          "output_type": "stream",
          "text": [
            "\n"
          ]
        },
        {
          "name": "stdout",
          "output_type": "stream",
          "text": [
            "\n",
            "      Epoch    GPU_mem   box_loss   cls_loss   dfl_loss  Instances       Size\n"
          ]
        },
        {
          "name": "stderr",
          "output_type": "stream",
          "text": [
            "     79/100     0.861G     0.9143     0.5305     0.9518         15        320: 100%|██████████| 22/22 [00:02<00:00,  7.96it/s]\n",
            "                 Class     Images  Instances      Box(P          R      mAP50  mAP50-95): 100%|██████████| 2/2 [00:00<00:00,  8.32it/s]"
          ]
        },
        {
          "name": "stdout",
          "output_type": "stream",
          "text": [
            "                   all         44         44      0.889      0.909      0.924      0.537\n"
          ]
        },
        {
          "name": "stderr",
          "output_type": "stream",
          "text": [
            "\n"
          ]
        },
        {
          "name": "stdout",
          "output_type": "stream",
          "text": [
            "\n",
            "      Epoch    GPU_mem   box_loss   cls_loss   dfl_loss  Instances       Size\n"
          ]
        },
        {
          "name": "stderr",
          "output_type": "stream",
          "text": [
            "     80/100     0.861G     0.8831     0.5254     0.9711         14        320: 100%|██████████| 22/22 [00:02<00:00,  7.36it/s]\n",
            "                 Class     Images  Instances      Box(P          R      mAP50  mAP50-95): 100%|██████████| 2/2 [00:00<00:00,  7.68it/s]"
          ]
        },
        {
          "name": "stdout",
          "output_type": "stream",
          "text": [
            "                   all         44         44      0.869      0.886       0.93      0.542\n"
          ]
        },
        {
          "name": "stderr",
          "output_type": "stream",
          "text": [
            "\n"
          ]
        },
        {
          "name": "stdout",
          "output_type": "stream",
          "text": [
            "\n",
            "      Epoch    GPU_mem   box_loss   cls_loss   dfl_loss  Instances       Size\n"
          ]
        },
        {
          "name": "stderr",
          "output_type": "stream",
          "text": [
            "     81/100     0.861G     0.9145     0.5332     0.9657         14        320: 100%|██████████| 22/22 [00:03<00:00,  7.29it/s]\n",
            "                 Class     Images  Instances      Box(P          R      mAP50  mAP50-95): 100%|██████████| 2/2 [00:00<00:00,  7.57it/s]"
          ]
        },
        {
          "name": "stdout",
          "output_type": "stream",
          "text": [
            "                   all         44         44      0.874      0.909      0.934      0.592\n"
          ]
        },
        {
          "name": "stderr",
          "output_type": "stream",
          "text": [
            "\n"
          ]
        },
        {
          "name": "stdout",
          "output_type": "stream",
          "text": [
            "\n",
            "      Epoch    GPU_mem   box_loss   cls_loss   dfl_loss  Instances       Size\n"
          ]
        },
        {
          "name": "stderr",
          "output_type": "stream",
          "text": [
            "     82/100     0.861G     0.9055     0.5445     0.9632         25        320: 100%|██████████| 22/22 [00:02<00:00,  7.77it/s]\n",
            "                 Class     Images  Instances      Box(P          R      mAP50  mAP50-95): 100%|██████████| 2/2 [00:00<00:00,  8.12it/s]"
          ]
        },
        {
          "name": "stdout",
          "output_type": "stream",
          "text": [
            "                   all         44         44      0.908      0.886      0.932      0.567\n"
          ]
        },
        {
          "name": "stderr",
          "output_type": "stream",
          "text": [
            "\n"
          ]
        },
        {
          "name": "stdout",
          "output_type": "stream",
          "text": [
            "\n",
            "      Epoch    GPU_mem   box_loss   cls_loss   dfl_loss  Instances       Size\n"
          ]
        },
        {
          "name": "stderr",
          "output_type": "stream",
          "text": [
            "     83/100     0.861G     0.8698     0.5164     0.9467         11        320: 100%|██████████| 22/22 [00:02<00:00,  7.68it/s]\n",
            "                 Class     Images  Instances      Box(P          R      mAP50  mAP50-95): 100%|██████████| 2/2 [00:00<00:00,  7.56it/s]"
          ]
        },
        {
          "name": "stdout",
          "output_type": "stream",
          "text": [
            "                   all         44         44      0.867      0.892      0.928      0.551\n"
          ]
        },
        {
          "name": "stderr",
          "output_type": "stream",
          "text": [
            "\n"
          ]
        },
        {
          "name": "stdout",
          "output_type": "stream",
          "text": [
            "\n",
            "      Epoch    GPU_mem   box_loss   cls_loss   dfl_loss  Instances       Size\n"
          ]
        },
        {
          "name": "stderr",
          "output_type": "stream",
          "text": [
            "     84/100     0.861G      0.885     0.5283     0.9534         19        320: 100%|██████████| 22/22 [00:03<00:00,  7.25it/s]\n",
            "                 Class     Images  Instances      Box(P          R      mAP50  mAP50-95): 100%|██████████| 2/2 [00:00<00:00,  7.99it/s]"
          ]
        },
        {
          "name": "stdout",
          "output_type": "stream",
          "text": [
            "                   all         44         44      0.903      0.909      0.925      0.557\n"
          ]
        },
        {
          "name": "stderr",
          "output_type": "stream",
          "text": [
            "\n"
          ]
        },
        {
          "name": "stdout",
          "output_type": "stream",
          "text": [
            "\n",
            "      Epoch    GPU_mem   box_loss   cls_loss   dfl_loss  Instances       Size\n"
          ]
        },
        {
          "name": "stderr",
          "output_type": "stream",
          "text": [
            "     85/100     0.861G     0.8579     0.5095     0.9551         21        320: 100%|██████████| 22/22 [00:02<00:00,  7.62it/s]\n",
            "                 Class     Images  Instances      Box(P          R      mAP50  mAP50-95): 100%|██████████| 2/2 [00:00<00:00,  8.38it/s]"
          ]
        },
        {
          "name": "stdout",
          "output_type": "stream",
          "text": [
            "                   all         44         44        0.9      0.909      0.925      0.547\n"
          ]
        },
        {
          "name": "stderr",
          "output_type": "stream",
          "text": [
            "\n"
          ]
        },
        {
          "name": "stdout",
          "output_type": "stream",
          "text": [
            "\n",
            "      Epoch    GPU_mem   box_loss   cls_loss   dfl_loss  Instances       Size\n"
          ]
        },
        {
          "name": "stderr",
          "output_type": "stream",
          "text": [
            "     86/100     0.861G     0.8351     0.4983     0.9401         10        320: 100%|██████████| 22/22 [00:03<00:00,  7.24it/s]\n",
            "                 Class     Images  Instances      Box(P          R      mAP50  mAP50-95): 100%|██████████| 2/2 [00:00<00:00,  8.12it/s]"
          ]
        },
        {
          "name": "stdout",
          "output_type": "stream",
          "text": [
            "                   all         44         44       0.89      0.909      0.924       0.55\n"
          ]
        },
        {
          "name": "stderr",
          "output_type": "stream",
          "text": [
            "\n"
          ]
        },
        {
          "name": "stdout",
          "output_type": "stream",
          "text": [
            "\n",
            "      Epoch    GPU_mem   box_loss   cls_loss   dfl_loss  Instances       Size\n"
          ]
        },
        {
          "name": "stderr",
          "output_type": "stream",
          "text": [
            "     87/100     0.861G     0.8339     0.5071     0.9341         11        320: 100%|██████████| 22/22 [00:02<00:00,  7.36it/s]\n",
            "                 Class     Images  Instances      Box(P          R      mAP50  mAP50-95): 100%|██████████| 2/2 [00:00<00:00,  7.94it/s]"
          ]
        },
        {
          "name": "stdout",
          "output_type": "stream",
          "text": [
            "                   all         44         44      0.891      0.929      0.932      0.569\n"
          ]
        },
        {
          "name": "stderr",
          "output_type": "stream",
          "text": [
            "\n"
          ]
        },
        {
          "name": "stdout",
          "output_type": "stream",
          "text": [
            "\n",
            "      Epoch    GPU_mem   box_loss   cls_loss   dfl_loss  Instances       Size\n"
          ]
        },
        {
          "name": "stderr",
          "output_type": "stream",
          "text": [
            "     88/100     0.861G     0.8506     0.5076     0.9459         18        320: 100%|██████████| 22/22 [00:02<00:00,  7.43it/s]\n",
            "                 Class     Images  Instances      Box(P          R      mAP50  mAP50-95): 100%|██████████| 2/2 [00:00<00:00,  8.34it/s]"
          ]
        },
        {
          "name": "stdout",
          "output_type": "stream",
          "text": [
            "                   all         44         44      0.889      0.909      0.936      0.564\n"
          ]
        },
        {
          "name": "stderr",
          "output_type": "stream",
          "text": [
            "\n"
          ]
        },
        {
          "name": "stdout",
          "output_type": "stream",
          "text": [
            "\n",
            "      Epoch    GPU_mem   box_loss   cls_loss   dfl_loss  Instances       Size\n"
          ]
        },
        {
          "name": "stderr",
          "output_type": "stream",
          "text": [
            "     89/100     0.861G     0.8467     0.5155     0.9485         19        320: 100%|██████████| 22/22 [00:02<00:00,  7.73it/s]\n",
            "                 Class     Images  Instances      Box(P          R      mAP50  mAP50-95): 100%|██████████| 2/2 [00:00<00:00,  8.01it/s]"
          ]
        },
        {
          "name": "stdout",
          "output_type": "stream",
          "text": [
            "                   all         44         44      0.895      0.909      0.935      0.572\n"
          ]
        },
        {
          "name": "stderr",
          "output_type": "stream",
          "text": [
            "\n"
          ]
        },
        {
          "name": "stdout",
          "output_type": "stream",
          "text": [
            "\n",
            "      Epoch    GPU_mem   box_loss   cls_loss   dfl_loss  Instances       Size\n"
          ]
        },
        {
          "name": "stderr",
          "output_type": "stream",
          "text": [
            "     90/100     0.861G     0.8097      0.487     0.9269         20        320: 100%|██████████| 22/22 [00:03<00:00,  7.30it/s]\n",
            "                 Class     Images  Instances      Box(P          R      mAP50  mAP50-95): 100%|██████████| 2/2 [00:00<00:00,  7.82it/s]"
          ]
        },
        {
          "name": "stdout",
          "output_type": "stream",
          "text": [
            "                   all         44         44       0.87      0.909      0.932       0.56\n"
          ]
        },
        {
          "name": "stderr",
          "output_type": "stream",
          "text": [
            "\n"
          ]
        },
        {
          "name": "stdout",
          "output_type": "stream",
          "text": [
            "Closing dataloader mosaic\n",
            "\n",
            "      Epoch    GPU_mem   box_loss   cls_loss   dfl_loss  Instances       Size\n"
          ]
        },
        {
          "name": "stderr",
          "output_type": "stream",
          "text": [
            "     91/100     0.861G      1.071      0.631      1.026          9        320: 100%|██████████| 22/22 [00:03<00:00,  6.71it/s]\n",
            "                 Class     Images  Instances      Box(P          R      mAP50  mAP50-95): 100%|██████████| 2/2 [00:00<00:00,  7.38it/s]"
          ]
        },
        {
          "name": "stdout",
          "output_type": "stream",
          "text": [
            "                   all         44         44      0.868      0.909      0.934      0.572\n"
          ]
        },
        {
          "name": "stderr",
          "output_type": "stream",
          "text": [
            "\n"
          ]
        },
        {
          "name": "stdout",
          "output_type": "stream",
          "text": [
            "\n",
            "      Epoch    GPU_mem   box_loss   cls_loss   dfl_loss  Instances       Size\n"
          ]
        },
        {
          "name": "stderr",
          "output_type": "stream",
          "text": [
            "     92/100     0.861G       1.04     0.5647       1.03          9        320: 100%|██████████| 22/22 [00:03<00:00,  7.26it/s]\n",
            "                 Class     Images  Instances      Box(P          R      mAP50  mAP50-95): 100%|██████████| 2/2 [00:00<00:00,  8.42it/s]"
          ]
        },
        {
          "name": "stdout",
          "output_type": "stream",
          "text": [
            "                   all         44         44      0.842      0.909      0.919      0.565\n"
          ]
        },
        {
          "name": "stderr",
          "output_type": "stream",
          "text": [
            "\n"
          ]
        },
        {
          "name": "stdout",
          "output_type": "stream",
          "text": [
            "\n",
            "      Epoch    GPU_mem   box_loss   cls_loss   dfl_loss  Instances       Size\n"
          ]
        },
        {
          "name": "stderr",
          "output_type": "stream",
          "text": [
            "     93/100     0.861G      1.037      0.563      1.031          9        320: 100%|██████████| 22/22 [00:02<00:00,  8.01it/s]\n",
            "                 Class     Images  Instances      Box(P          R      mAP50  mAP50-95): 100%|██████████| 2/2 [00:00<00:00,  9.19it/s]"
          ]
        },
        {
          "name": "stdout",
          "output_type": "stream",
          "text": [
            "                   all         44         44      0.892      0.886      0.926       0.57\n"
          ]
        },
        {
          "name": "stderr",
          "output_type": "stream",
          "text": [
            "\n"
          ]
        },
        {
          "name": "stdout",
          "output_type": "stream",
          "text": [
            "\n",
            "      Epoch    GPU_mem   box_loss   cls_loss   dfl_loss  Instances       Size\n"
          ]
        },
        {
          "name": "stderr",
          "output_type": "stream",
          "text": [
            "     94/100     0.861G      1.054     0.5486      1.035          8        320: 100%|██████████| 22/22 [00:02<00:00,  8.06it/s]\n",
            "                 Class     Images  Instances      Box(P          R      mAP50  mAP50-95): 100%|██████████| 2/2 [00:00<00:00,  8.20it/s]"
          ]
        },
        {
          "name": "stdout",
          "output_type": "stream",
          "text": [
            "                   all         44         44      0.911      0.932      0.928      0.583\n"
          ]
        },
        {
          "name": "stderr",
          "output_type": "stream",
          "text": [
            "\n"
          ]
        },
        {
          "name": "stdout",
          "output_type": "stream",
          "text": [
            "\n",
            "      Epoch    GPU_mem   box_loss   cls_loss   dfl_loss  Instances       Size\n"
          ]
        },
        {
          "name": "stderr",
          "output_type": "stream",
          "text": [
            "     95/100     0.861G      1.049     0.5457      1.029          9        320: 100%|██████████| 22/22 [00:03<00:00,  7.28it/s]\n",
            "                 Class     Images  Instances      Box(P          R      mAP50  mAP50-95): 100%|██████████| 2/2 [00:00<00:00,  6.97it/s]"
          ]
        },
        {
          "name": "stdout",
          "output_type": "stream",
          "text": [
            "                   all         44         44      0.891      0.932      0.924      0.573\n"
          ]
        },
        {
          "name": "stderr",
          "output_type": "stream",
          "text": [
            "\n"
          ]
        },
        {
          "name": "stdout",
          "output_type": "stream",
          "text": [
            "\n",
            "      Epoch    GPU_mem   box_loss   cls_loss   dfl_loss  Instances       Size\n"
          ]
        },
        {
          "name": "stderr",
          "output_type": "stream",
          "text": [
            "     96/100     0.861G      1.005      0.536      1.002          9        320: 100%|██████████| 22/22 [00:02<00:00,  7.48it/s]\n",
            "                 Class     Images  Instances      Box(P          R      mAP50  mAP50-95): 100%|██████████| 2/2 [00:00<00:00,  8.70it/s]"
          ]
        },
        {
          "name": "stdout",
          "output_type": "stream",
          "text": [
            "                   all         44         44      0.906      0.932      0.925      0.587\n"
          ]
        },
        {
          "name": "stderr",
          "output_type": "stream",
          "text": [
            "\n"
          ]
        },
        {
          "name": "stdout",
          "output_type": "stream",
          "text": [
            "\n",
            "      Epoch    GPU_mem   box_loss   cls_loss   dfl_loss  Instances       Size\n"
          ]
        },
        {
          "name": "stderr",
          "output_type": "stream",
          "text": [
            "     97/100     0.861G     0.9878       0.51     0.9916          9        320: 100%|██████████| 22/22 [00:02<00:00,  7.49it/s]\n",
            "                 Class     Images  Instances      Box(P          R      mAP50  mAP50-95): 100%|██████████| 2/2 [00:00<00:00,  7.86it/s]"
          ]
        },
        {
          "name": "stdout",
          "output_type": "stream",
          "text": [
            "                   all         44         44      0.926      0.932      0.925      0.584\n"
          ]
        },
        {
          "name": "stderr",
          "output_type": "stream",
          "text": [
            "\n"
          ]
        },
        {
          "name": "stdout",
          "output_type": "stream",
          "text": [
            "\n",
            "      Epoch    GPU_mem   box_loss   cls_loss   dfl_loss  Instances       Size\n"
          ]
        },
        {
          "name": "stderr",
          "output_type": "stream",
          "text": [
            "     98/100     0.861G     0.9836     0.5245      1.006          9        320: 100%|██████████| 22/22 [00:03<00:00,  7.28it/s]\n",
            "                 Class     Images  Instances      Box(P          R      mAP50  mAP50-95): 100%|██████████| 2/2 [00:00<00:00,  8.10it/s]"
          ]
        },
        {
          "name": "stdout",
          "output_type": "stream",
          "text": [
            "                   all         44         44      0.907      0.932      0.924       0.58\n"
          ]
        },
        {
          "name": "stderr",
          "output_type": "stream",
          "text": [
            "\n"
          ]
        },
        {
          "name": "stdout",
          "output_type": "stream",
          "text": [
            "\n",
            "      Epoch    GPU_mem   box_loss   cls_loss   dfl_loss  Instances       Size\n"
          ]
        },
        {
          "name": "stderr",
          "output_type": "stream",
          "text": [
            "     99/100     0.861G      1.011     0.5186      1.011          9        320: 100%|██████████| 22/22 [00:02<00:00,  7.66it/s]\n",
            "                 Class     Images  Instances      Box(P          R      mAP50  mAP50-95): 100%|██████████| 2/2 [00:00<00:00,  8.54it/s]"
          ]
        },
        {
          "name": "stdout",
          "output_type": "stream",
          "text": [
            "                   all         44         44      0.907      0.932      0.927      0.589\n"
          ]
        },
        {
          "name": "stderr",
          "output_type": "stream",
          "text": [
            "\n"
          ]
        },
        {
          "name": "stdout",
          "output_type": "stream",
          "text": [
            "\n",
            "      Epoch    GPU_mem   box_loss   cls_loss   dfl_loss  Instances       Size\n"
          ]
        },
        {
          "name": "stderr",
          "output_type": "stream",
          "text": [
            "    100/100     0.861G      1.003     0.5304       1.01          9        320: 100%|██████████| 22/22 [00:02<00:00,  7.49it/s]\n",
            "                 Class     Images  Instances      Box(P          R      mAP50  mAP50-95): 100%|██████████| 2/2 [00:00<00:00,  7.80it/s]"
          ]
        },
        {
          "name": "stdout",
          "output_type": "stream",
          "text": [
            "                   all         44         44      0.906      0.932      0.926      0.577\n"
          ]
        },
        {
          "name": "stderr",
          "output_type": "stream",
          "text": [
            "\n"
          ]
        },
        {
          "name": "stdout",
          "output_type": "stream",
          "text": [
            "\n",
            "100 epochs completed in 0.112 hours.\n",
            "Optimizer stripped from runs\\detect\\train9\\weights\\last.pt, 5.5MB\n",
            "Optimizer stripped from runs\\detect\\train9\\weights\\best.pt, 5.5MB\n",
            "\n",
            "Validating runs\\detect\\train9\\weights\\best.pt...\n",
            "Ultralytics 8.3.116  Python-3.13.3 torch-2.7.0+cu118 CUDA:0 (NVIDIA GeForce RTX 4070, 12282MiB)\n",
            "YOLOv12n summary (fused): 159 layers, 2,556,923 parameters, 0 gradients, 6.3 GFLOPs\n"
          ]
        },
        {
          "name": "stderr",
          "output_type": "stream",
          "text": [
            "                 Class     Images  Instances      Box(P          R      mAP50  mAP50-95): 100%|██████████| 2/2 [00:00<00:00,  5.90it/s]\n"
          ]
        },
        {
          "name": "stdout",
          "output_type": "stream",
          "text": [
            "                   all         44         44      0.874      0.909      0.934      0.592\n",
            "Speed: 0.1ms preprocess, 2.3ms inference, 0.0ms loss, 1.3ms postprocess per image\n",
            "Results saved to \u001b[1mruns\\detect\\train9\u001b[0m\n",
            "Training time: 483.7360918521881\n"
          ]
        }
      ],
      "source": [
        "t1 = time.time()\n",
        "model_12.train(\n",
        "    data='datasets.yaml',\n",
        "    epochs=100,\n",
        "    device='cuda',\n",
        "    imgsz=320,\n",
        "    cache=True\n",
        ")\n",
        "t2 = time.time()\n",
        "print(f\"Training time: {t2-t1}\")"
      ]
    },
    {
      "cell_type": "code",
      "execution_count": 25,
      "metadata": {
        "id": "cc1DV5xEmqGJ"
      },
      "outputs": [],
      "source": [
        "model_12.save(\"trained_model.pt\")"
      ]
    },
    {
      "cell_type": "code",
      "execution_count": 26,
      "metadata": {
        "id": "Iww8JlNRnbiB"
      },
      "outputs": [],
      "source": [
        "def predict_plot(test_path, model):\n",
        "  results = model.predict(test_path, device='cuda')\n",
        "  image = cv2.imread(test_path)\n",
        "  image = cv2.cvtColor(image, cv2.COLOR_BGR2RGB)\n",
        "\n",
        "  for result in results:\n",
        "    for box in result.boxes:\n",
        "      x1, y1, x2, y2 = map(int, box.xyxy[0])\n",
        "      confidence = box.conf[0]\n",
        "\n",
        "      cv2.rectangle(image, (x1, y1), (x2, y2), (0, 255, 0), 2)\n",
        "      cv2.putText(image, f\"Confidence: {confidence:.2f}\", (x1, y1 - 10), cv2.FONT_HERSHEY_SIMPLEX, 0.5, (0, 255, 0), 2)\n",
        "\n",
        "  plt.imshow(image)\n",
        "  plt.axis('off')\n",
        "  plt.show()"
      ]
    },
    {
      "cell_type": "code",
      "execution_count": 27,
      "metadata": {
        "id": "c7nY6wdGpkXR"
      },
      "outputs": [],
      "source": [
        "import locale\n",
        "locale.getpreferredencoding = lambda: \"UTF-8\""
      ]
    },
    {
      "cell_type": "code",
      "execution_count": 28,
      "metadata": {
        "colab": {
          "base_uri": "https://localhost:8080/",
          "height": 1000
        },
        "id": "csHkN7YDr9bM",
        "outputId": "88d89367-18a1-48de-a950-601ce397502b"
      },
      "outputs": [
        {
          "data": {
            "text/html": [
              "<div>\n",
              "<style scoped>\n",
              "    .dataframe tbody tr th:only-of-type {\n",
              "        vertical-align: middle;\n",
              "    }\n",
              "\n",
              "    .dataframe tbody tr th {\n",
              "        vertical-align: top;\n",
              "    }\n",
              "\n",
              "    .dataframe thead th {\n",
              "        text-align: right;\n",
              "    }\n",
              "</style>\n",
              "<table border=\"1\" class=\"dataframe\">\n",
              "  <thead>\n",
              "    <tr style=\"text-align: right;\">\n",
              "      <th></th>\n",
              "      <th>img_path</th>\n",
              "      <th>xmin</th>\n",
              "      <th>xmax</th>\n",
              "      <th>ymin</th>\n",
              "      <th>ymax</th>\n",
              "      <th>img_w</th>\n",
              "      <th>img_h</th>\n",
              "    </tr>\n",
              "  </thead>\n",
              "  <tbody>\n",
              "    <tr>\n",
              "      <th>423</th>\n",
              "      <td>C:\\Users\\nolan\\cse574proj\\data\\images\\Cars90.png</td>\n",
              "      <td>77</td>\n",
              "      <td>101</td>\n",
              "      <td>204</td>\n",
              "      <td>225</td>\n",
              "      <td>400</td>\n",
              "      <td>300</td>\n",
              "    </tr>\n",
              "    <tr>\n",
              "      <th>234</th>\n",
              "      <td>C:\\Users\\nolan\\cse574proj\\data\\images\\Cars309.png</td>\n",
              "      <td>152</td>\n",
              "      <td>252</td>\n",
              "      <td>122</td>\n",
              "      <td>207</td>\n",
              "      <td>400</td>\n",
              "      <td>225</td>\n",
              "    </tr>\n",
              "    <tr>\n",
              "      <th>165</th>\n",
              "      <td>C:\\Users\\nolan\\cse574proj\\data\\images\\Cars247.png</td>\n",
              "      <td>147</td>\n",
              "      <td>300</td>\n",
              "      <td>11</td>\n",
              "      <td>149</td>\n",
              "      <td>400</td>\n",
              "      <td>225</td>\n",
              "    </tr>\n",
              "    <tr>\n",
              "      <th>29</th>\n",
              "      <td>C:\\Users\\nolan\\cse574proj\\data\\images\\Cars124.png</td>\n",
              "      <td>305</td>\n",
              "      <td>320</td>\n",
              "      <td>256</td>\n",
              "      <td>267</td>\n",
              "      <td>400</td>\n",
              "      <td>267</td>\n",
              "    </tr>\n",
              "    <tr>\n",
              "      <th>388</th>\n",
              "      <td>C:\\Users\\nolan\\cse574proj\\data\\images\\Cars59.png</td>\n",
              "      <td>324</td>\n",
              "      <td>375</td>\n",
              "      <td>162</td>\n",
              "      <td>175</td>\n",
              "      <td>400</td>\n",
              "      <td>300</td>\n",
              "    </tr>\n",
              "    <tr>\n",
              "      <th>424</th>\n",
              "      <td>C:\\Users\\nolan\\cse574proj\\data\\images\\Cars91.png</td>\n",
              "      <td>269</td>\n",
              "      <td>317</td>\n",
              "      <td>170</td>\n",
              "      <td>189</td>\n",
              "      <td>400</td>\n",
              "      <td>253</td>\n",
              "    </tr>\n",
              "    <tr>\n",
              "      <th>361</th>\n",
              "      <td>C:\\Users\\nolan\\cse574proj\\data\\images\\Cars423.png</td>\n",
              "      <td>162</td>\n",
              "      <td>283</td>\n",
              "      <td>159</td>\n",
              "      <td>183</td>\n",
              "      <td>400</td>\n",
              "      <td>250</td>\n",
              "    </tr>\n",
              "    <tr>\n",
              "      <th>0</th>\n",
              "      <td>C:\\Users\\nolan\\cse574proj\\data\\images\\Cars0.png</td>\n",
              "      <td>226</td>\n",
              "      <td>419</td>\n",
              "      <td>125</td>\n",
              "      <td>173</td>\n",
              "      <td>500</td>\n",
              "      <td>268</td>\n",
              "    </tr>\n",
              "    <tr>\n",
              "      <th>79</th>\n",
              "      <td>C:\\Users\\nolan\\cse574proj\\data\\images\\Cars17.png</td>\n",
              "      <td>306</td>\n",
              "      <td>351</td>\n",
              "      <td>188</td>\n",
              "      <td>205</td>\n",
              "      <td>400</td>\n",
              "      <td>267</td>\n",
              "    </tr>\n",
              "    <tr>\n",
              "      <th>114</th>\n",
              "      <td>C:\\Users\\nolan\\cse574proj\\data\\images\\Cars200.png</td>\n",
              "      <td>95</td>\n",
              "      <td>195</td>\n",
              "      <td>189</td>\n",
              "      <td>217</td>\n",
              "      <td>400</td>\n",
              "      <td>246</td>\n",
              "    </tr>\n",
              "    <tr>\n",
              "      <th>71</th>\n",
              "      <td>C:\\Users\\nolan\\cse574proj\\data\\images\\Cars162.png</td>\n",
              "      <td>201</td>\n",
              "      <td>268</td>\n",
              "      <td>168</td>\n",
              "      <td>213</td>\n",
              "      <td>560</td>\n",
              "      <td>315</td>\n",
              "    </tr>\n",
              "    <tr>\n",
              "      <th>35</th>\n",
              "      <td>C:\\Users\\nolan\\cse574proj\\data\\images\\Cars13.png</td>\n",
              "      <td>191</td>\n",
              "      <td>242</td>\n",
              "      <td>147</td>\n",
              "      <td>169</td>\n",
              "      <td>400</td>\n",
              "      <td>268</td>\n",
              "    </tr>\n",
              "    <tr>\n",
              "      <th>333</th>\n",
              "      <td>C:\\Users\\nolan\\cse574proj\\data\\images\\Cars399.png</td>\n",
              "      <td>106</td>\n",
              "      <td>309</td>\n",
              "      <td>62</td>\n",
              "      <td>161</td>\n",
              "      <td>400</td>\n",
              "      <td>225</td>\n",
              "    </tr>\n",
              "    <tr>\n",
              "      <th>288</th>\n",
              "      <td>C:\\Users\\nolan\\cse574proj\\data\\images\\Cars358.png</td>\n",
              "      <td>44</td>\n",
              "      <td>107</td>\n",
              "      <td>94</td>\n",
              "      <td>107</td>\n",
              "      <td>400</td>\n",
              "      <td>200</td>\n",
              "    </tr>\n",
              "    <tr>\n",
              "      <th>323</th>\n",
              "      <td>C:\\Users\\nolan\\cse574proj\\data\\images\\Cars39.png</td>\n",
              "      <td>225</td>\n",
              "      <td>328</td>\n",
              "      <td>180</td>\n",
              "      <td>213</td>\n",
              "      <td>400</td>\n",
              "      <td>300</td>\n",
              "    </tr>\n",
              "    <tr>\n",
              "      <th>227</th>\n",
              "      <td>C:\\Users\\nolan\\cse574proj\\data\\images\\Cars302.png</td>\n",
              "      <td>222</td>\n",
              "      <td>425</td>\n",
              "      <td>98</td>\n",
              "      <td>149</td>\n",
              "      <td>500</td>\n",
              "      <td>234</td>\n",
              "    </tr>\n",
              "    <tr>\n",
              "      <th>432</th>\n",
              "      <td>C:\\Users\\nolan\\cse574proj\\data\\images\\Cars99.png</td>\n",
              "      <td>70</td>\n",
              "      <td>262</td>\n",
              "      <td>198</td>\n",
              "      <td>271</td>\n",
              "      <td>375</td>\n",
              "      <td>500</td>\n",
              "    </tr>\n",
              "    <tr>\n",
              "      <th>78</th>\n",
              "      <td>C:\\Users\\nolan\\cse574proj\\data\\images\\Cars169.png</td>\n",
              "      <td>114</td>\n",
              "      <td>229</td>\n",
              "      <td>79</td>\n",
              "      <td>101</td>\n",
              "      <td>400</td>\n",
              "      <td>200</td>\n",
              "    </tr>\n",
              "    <tr>\n",
              "      <th>7</th>\n",
              "      <td>C:\\Users\\nolan\\cse574proj\\data\\images\\Cars104.png</td>\n",
              "      <td>195</td>\n",
              "      <td>244</td>\n",
              "      <td>266</td>\n",
              "      <td>282</td>\n",
              "      <td>500</td>\n",
              "      <td>374</td>\n",
              "    </tr>\n",
              "    <tr>\n",
              "      <th>44</th>\n",
              "      <td>C:\\Users\\nolan\\cse574proj\\data\\images\\Cars138.png</td>\n",
              "      <td>153</td>\n",
              "      <td>254</td>\n",
              "      <td>141</td>\n",
              "      <td>185</td>\n",
              "      <td>400</td>\n",
              "      <td>301</td>\n",
              "    </tr>\n",
              "    <tr>\n",
              "      <th>27</th>\n",
              "      <td>C:\\Users\\nolan\\cse574proj\\data\\images\\Cars122.png</td>\n",
              "      <td>195</td>\n",
              "      <td>254</td>\n",
              "      <td>147</td>\n",
              "      <td>169</td>\n",
              "      <td>400</td>\n",
              "      <td>300</td>\n",
              "    </tr>\n",
              "    <tr>\n",
              "      <th>321</th>\n",
              "      <td>C:\\Users\\nolan\\cse574proj\\data\\images\\Cars388.png</td>\n",
              "      <td>149</td>\n",
              "      <td>255</td>\n",
              "      <td>130</td>\n",
              "      <td>158</td>\n",
              "      <td>400</td>\n",
              "      <td>300</td>\n",
              "    </tr>\n",
              "    <tr>\n",
              "      <th>66</th>\n",
              "      <td>C:\\Users\\nolan\\cse574proj\\data\\images\\Cars158.png</td>\n",
              "      <td>97</td>\n",
              "      <td>296</td>\n",
              "      <td>118</td>\n",
              "      <td>210</td>\n",
              "      <td>400</td>\n",
              "      <td>300</td>\n",
              "    </tr>\n",
              "    <tr>\n",
              "      <th>245</th>\n",
              "      <td>C:\\Users\\nolan\\cse574proj\\data\\images\\Cars319.png</td>\n",
              "      <td>167</td>\n",
              "      <td>232</td>\n",
              "      <td>228</td>\n",
              "      <td>259</td>\n",
              "      <td>400</td>\n",
              "      <td>342</td>\n",
              "    </tr>\n",
              "    <tr>\n",
              "      <th>224</th>\n",
              "      <td>C:\\Users\\nolan\\cse574proj\\data\\images\\Cars30.png</td>\n",
              "      <td>155</td>\n",
              "      <td>200</td>\n",
              "      <td>169</td>\n",
              "      <td>182</td>\n",
              "      <td>400</td>\n",
              "      <td>240</td>\n",
              "    </tr>\n",
              "    <tr>\n",
              "      <th>299</th>\n",
              "      <td>C:\\Users\\nolan\\cse574proj\\data\\images\\Cars368.png</td>\n",
              "      <td>173</td>\n",
              "      <td>223</td>\n",
              "      <td>173</td>\n",
              "      <td>203</td>\n",
              "      <td>400</td>\n",
              "      <td>300</td>\n",
              "    </tr>\n",
              "    <tr>\n",
              "      <th>302</th>\n",
              "      <td>C:\\Users\\nolan\\cse574proj\\data\\images\\Cars370.png</td>\n",
              "      <td>285</td>\n",
              "      <td>425</td>\n",
              "      <td>249</td>\n",
              "      <td>276</td>\n",
              "      <td>435</td>\n",
              "      <td>290</td>\n",
              "    </tr>\n",
              "    <tr>\n",
              "      <th>264</th>\n",
              "      <td>C:\\Users\\nolan\\cse574proj\\data\\images\\Cars336.png</td>\n",
              "      <td>122</td>\n",
              "      <td>265</td>\n",
              "      <td>195</td>\n",
              "      <td>234</td>\n",
              "      <td>400</td>\n",
              "      <td>300</td>\n",
              "    </tr>\n",
              "    <tr>\n",
              "      <th>30</th>\n",
              "      <td>C:\\Users\\nolan\\cse574proj\\data\\images\\Cars125.png</td>\n",
              "      <td>280</td>\n",
              "      <td>355</td>\n",
              "      <td>196</td>\n",
              "      <td>257</td>\n",
              "      <td>400</td>\n",
              "      <td>260</td>\n",
              "    </tr>\n",
              "    <tr>\n",
              "      <th>391</th>\n",
              "      <td>C:\\Users\\nolan\\cse574proj\\data\\images\\Cars61.png</td>\n",
              "      <td>71</td>\n",
              "      <td>198</td>\n",
              "      <td>124</td>\n",
              "      <td>231</td>\n",
              "      <td>400</td>\n",
              "      <td>300</td>\n",
              "    </tr>\n",
              "    <tr>\n",
              "      <th>335</th>\n",
              "      <td>C:\\Users\\nolan\\cse574proj\\data\\images\\Cars40.png</td>\n",
              "      <td>261</td>\n",
              "      <td>317</td>\n",
              "      <td>186</td>\n",
              "      <td>211</td>\n",
              "      <td>400</td>\n",
              "      <td>225</td>\n",
              "    </tr>\n",
              "    <tr>\n",
              "      <th>267</th>\n",
              "      <td>C:\\Users\\nolan\\cse574proj\\data\\images\\Cars339.png</td>\n",
              "      <td>209</td>\n",
              "      <td>283</td>\n",
              "      <td>135</td>\n",
              "      <td>169</td>\n",
              "      <td>500</td>\n",
              "      <td>300</td>\n",
              "    </tr>\n",
              "    <tr>\n",
              "      <th>362</th>\n",
              "      <td>C:\\Users\\nolan\\cse574proj\\data\\images\\Cars424.png</td>\n",
              "      <td>128</td>\n",
              "      <td>461</td>\n",
              "      <td>173</td>\n",
              "      <td>242</td>\n",
              "      <td>600</td>\n",
              "      <td>450</td>\n",
              "    </tr>\n",
              "    <tr>\n",
              "      <th>231</th>\n",
              "      <td>C:\\Users\\nolan\\cse574proj\\data\\images\\Cars306.png</td>\n",
              "      <td>139</td>\n",
              "      <td>249</td>\n",
              "      <td>282</td>\n",
              "      <td>310</td>\n",
              "      <td>400</td>\n",
              "      <td>400</td>\n",
              "    </tr>\n",
              "    <tr>\n",
              "      <th>420</th>\n",
              "      <td>C:\\Users\\nolan\\cse574proj\\data\\images\\Cars88.png</td>\n",
              "      <td>168</td>\n",
              "      <td>242</td>\n",
              "      <td>148</td>\n",
              "      <td>171</td>\n",
              "      <td>400</td>\n",
              "      <td>300</td>\n",
              "    </tr>\n",
              "    <tr>\n",
              "      <th>12</th>\n",
              "      <td>C:\\Users\\nolan\\cse574proj\\data\\images\\Cars109.png</td>\n",
              "      <td>115</td>\n",
              "      <td>278</td>\n",
              "      <td>116</td>\n",
              "      <td>153</td>\n",
              "      <td>400</td>\n",
              "      <td>267</td>\n",
              "    </tr>\n",
              "    <tr>\n",
              "      <th>101</th>\n",
              "      <td>C:\\Users\\nolan\\cse574proj\\data\\images\\Cars19.png</td>\n",
              "      <td>148</td>\n",
              "      <td>221</td>\n",
              "      <td>195</td>\n",
              "      <td>232</td>\n",
              "      <td>400</td>\n",
              "      <td>240</td>\n",
              "    </tr>\n",
              "    <tr>\n",
              "      <th>67</th>\n",
              "      <td>C:\\Users\\nolan\\cse574proj\\data\\images\\Cars159.png</td>\n",
              "      <td>149</td>\n",
              "      <td>261</td>\n",
              "      <td>184</td>\n",
              "      <td>211</td>\n",
              "      <td>400</td>\n",
              "      <td>332</td>\n",
              "    </tr>\n",
              "    <tr>\n",
              "      <th>51</th>\n",
              "      <td>C:\\Users\\nolan\\cse574proj\\data\\images\\Cars144.png</td>\n",
              "      <td>101</td>\n",
              "      <td>215</td>\n",
              "      <td>114</td>\n",
              "      <td>154</td>\n",
              "      <td>320</td>\n",
              "      <td>260</td>\n",
              "    </tr>\n",
              "    <tr>\n",
              "      <th>18</th>\n",
              "      <td>C:\\Users\\nolan\\cse574proj\\data\\images\\Cars114.png</td>\n",
              "      <td>7</td>\n",
              "      <td>493</td>\n",
              "      <td>16</td>\n",
              "      <td>256</td>\n",
              "      <td>500</td>\n",
              "      <td>300</td>\n",
              "    </tr>\n",
              "    <tr>\n",
              "      <th>357</th>\n",
              "      <td>C:\\Users\\nolan\\cse574proj\\data\\images\\Cars42.png</td>\n",
              "      <td>177</td>\n",
              "      <td>217</td>\n",
              "      <td>140</td>\n",
              "      <td>159</td>\n",
              "      <td>400</td>\n",
              "      <td>225</td>\n",
              "    </tr>\n",
              "    <tr>\n",
              "      <th>304</th>\n",
              "      <td>C:\\Users\\nolan\\cse574proj\\data\\images\\Cars372.png</td>\n",
              "      <td>221</td>\n",
              "      <td>353</td>\n",
              "      <td>275</td>\n",
              "      <td>309</td>\n",
              "      <td>560</td>\n",
              "      <td>420</td>\n",
              "    </tr>\n",
              "    <tr>\n",
              "      <th>105</th>\n",
              "      <td>C:\\Users\\nolan\\cse574proj\\data\\images\\Cars193.png</td>\n",
              "      <td>306</td>\n",
              "      <td>344</td>\n",
              "      <td>193</td>\n",
              "      <td>214</td>\n",
              "      <td>400</td>\n",
              "      <td>267</td>\n",
              "    </tr>\n",
              "    <tr>\n",
              "      <th>287</th>\n",
              "      <td>C:\\Users\\nolan\\cse574proj\\data\\images\\Cars357.png</td>\n",
              "      <td>92</td>\n",
              "      <td>137</td>\n",
              "      <td>187</td>\n",
              "      <td>207</td>\n",
              "      <td>400</td>\n",
              "      <td>267</td>\n",
              "    </tr>\n",
              "  </tbody>\n",
              "</table>\n",
              "</div>"
            ],
            "text/plain": [
              "                                              img_path  xmin  xmax  ymin  \\\n",
              "423   C:\\Users\\nolan\\cse574proj\\data\\images\\Cars90.png    77   101   204   \n",
              "234  C:\\Users\\nolan\\cse574proj\\data\\images\\Cars309.png   152   252   122   \n",
              "165  C:\\Users\\nolan\\cse574proj\\data\\images\\Cars247.png   147   300    11   \n",
              "29   C:\\Users\\nolan\\cse574proj\\data\\images\\Cars124.png   305   320   256   \n",
              "388   C:\\Users\\nolan\\cse574proj\\data\\images\\Cars59.png   324   375   162   \n",
              "424   C:\\Users\\nolan\\cse574proj\\data\\images\\Cars91.png   269   317   170   \n",
              "361  C:\\Users\\nolan\\cse574proj\\data\\images\\Cars423.png   162   283   159   \n",
              "0      C:\\Users\\nolan\\cse574proj\\data\\images\\Cars0.png   226   419   125   \n",
              "79    C:\\Users\\nolan\\cse574proj\\data\\images\\Cars17.png   306   351   188   \n",
              "114  C:\\Users\\nolan\\cse574proj\\data\\images\\Cars200.png    95   195   189   \n",
              "71   C:\\Users\\nolan\\cse574proj\\data\\images\\Cars162.png   201   268   168   \n",
              "35    C:\\Users\\nolan\\cse574proj\\data\\images\\Cars13.png   191   242   147   \n",
              "333  C:\\Users\\nolan\\cse574proj\\data\\images\\Cars399.png   106   309    62   \n",
              "288  C:\\Users\\nolan\\cse574proj\\data\\images\\Cars358.png    44   107    94   \n",
              "323   C:\\Users\\nolan\\cse574proj\\data\\images\\Cars39.png   225   328   180   \n",
              "227  C:\\Users\\nolan\\cse574proj\\data\\images\\Cars302.png   222   425    98   \n",
              "432   C:\\Users\\nolan\\cse574proj\\data\\images\\Cars99.png    70   262   198   \n",
              "78   C:\\Users\\nolan\\cse574proj\\data\\images\\Cars169.png   114   229    79   \n",
              "7    C:\\Users\\nolan\\cse574proj\\data\\images\\Cars104.png   195   244   266   \n",
              "44   C:\\Users\\nolan\\cse574proj\\data\\images\\Cars138.png   153   254   141   \n",
              "27   C:\\Users\\nolan\\cse574proj\\data\\images\\Cars122.png   195   254   147   \n",
              "321  C:\\Users\\nolan\\cse574proj\\data\\images\\Cars388.png   149   255   130   \n",
              "66   C:\\Users\\nolan\\cse574proj\\data\\images\\Cars158.png    97   296   118   \n",
              "245  C:\\Users\\nolan\\cse574proj\\data\\images\\Cars319.png   167   232   228   \n",
              "224   C:\\Users\\nolan\\cse574proj\\data\\images\\Cars30.png   155   200   169   \n",
              "299  C:\\Users\\nolan\\cse574proj\\data\\images\\Cars368.png   173   223   173   \n",
              "302  C:\\Users\\nolan\\cse574proj\\data\\images\\Cars370.png   285   425   249   \n",
              "264  C:\\Users\\nolan\\cse574proj\\data\\images\\Cars336.png   122   265   195   \n",
              "30   C:\\Users\\nolan\\cse574proj\\data\\images\\Cars125.png   280   355   196   \n",
              "391   C:\\Users\\nolan\\cse574proj\\data\\images\\Cars61.png    71   198   124   \n",
              "335   C:\\Users\\nolan\\cse574proj\\data\\images\\Cars40.png   261   317   186   \n",
              "267  C:\\Users\\nolan\\cse574proj\\data\\images\\Cars339.png   209   283   135   \n",
              "362  C:\\Users\\nolan\\cse574proj\\data\\images\\Cars424.png   128   461   173   \n",
              "231  C:\\Users\\nolan\\cse574proj\\data\\images\\Cars306.png   139   249   282   \n",
              "420   C:\\Users\\nolan\\cse574proj\\data\\images\\Cars88.png   168   242   148   \n",
              "12   C:\\Users\\nolan\\cse574proj\\data\\images\\Cars109.png   115   278   116   \n",
              "101   C:\\Users\\nolan\\cse574proj\\data\\images\\Cars19.png   148   221   195   \n",
              "67   C:\\Users\\nolan\\cse574proj\\data\\images\\Cars159.png   149   261   184   \n",
              "51   C:\\Users\\nolan\\cse574proj\\data\\images\\Cars144.png   101   215   114   \n",
              "18   C:\\Users\\nolan\\cse574proj\\data\\images\\Cars114.png     7   493    16   \n",
              "357   C:\\Users\\nolan\\cse574proj\\data\\images\\Cars42.png   177   217   140   \n",
              "304  C:\\Users\\nolan\\cse574proj\\data\\images\\Cars372.png   221   353   275   \n",
              "105  C:\\Users\\nolan\\cse574proj\\data\\images\\Cars193.png   306   344   193   \n",
              "287  C:\\Users\\nolan\\cse574proj\\data\\images\\Cars357.png    92   137   187   \n",
              "\n",
              "     ymax  img_w  img_h  \n",
              "423   225    400    300  \n",
              "234   207    400    225  \n",
              "165   149    400    225  \n",
              "29    267    400    267  \n",
              "388   175    400    300  \n",
              "424   189    400    253  \n",
              "361   183    400    250  \n",
              "0     173    500    268  \n",
              "79    205    400    267  \n",
              "114   217    400    246  \n",
              "71    213    560    315  \n",
              "35    169    400    268  \n",
              "333   161    400    225  \n",
              "288   107    400    200  \n",
              "323   213    400    300  \n",
              "227   149    500    234  \n",
              "432   271    375    500  \n",
              "78    101    400    200  \n",
              "7     282    500    374  \n",
              "44    185    400    301  \n",
              "27    169    400    300  \n",
              "321   158    400    300  \n",
              "66    210    400    300  \n",
              "245   259    400    342  \n",
              "224   182    400    240  \n",
              "299   203    400    300  \n",
              "302   276    435    290  \n",
              "264   234    400    300  \n",
              "30    257    400    260  \n",
              "391   231    400    300  \n",
              "335   211    400    225  \n",
              "267   169    500    300  \n",
              "362   242    600    450  \n",
              "231   310    400    400  \n",
              "420   171    400    300  \n",
              "12    153    400    267  \n",
              "101   232    400    240  \n",
              "67    211    400    332  \n",
              "51    154    320    260  \n",
              "18    256    500    300  \n",
              "357   159    400    225  \n",
              "304   309    560    420  \n",
              "105   214    400    267  \n",
              "287   207    400    267  "
            ]
          },
          "execution_count": 28,
          "metadata": {},
          "output_type": "execute_result"
        }
      ],
      "source": [
        "test"
      ]
    },
    {
      "cell_type": "code",
      "execution_count": 29,
      "metadata": {},
      "outputs": [
        {
          "data": {
            "text/plain": [
              "Index(['img_path', 'xmin', 'xmax', 'ymin', 'ymax', 'img_w', 'img_h'], dtype='object')"
            ]
          },
          "execution_count": 29,
          "metadata": {},
          "output_type": "execute_result"
        }
      ],
      "source": [
        "test.columns"
      ]
    },
    {
      "cell_type": "code",
      "execution_count": 30,
      "metadata": {},
      "outputs": [
        {
          "data": {
            "text/plain": [
              "YOLO(\n",
              "  (model): DetectionModel(\n",
              "    (model): Sequential(\n",
              "      (0): Conv(\n",
              "        (conv): Conv2d(3, 16, kernel_size=(3, 3), stride=(2, 2), padding=(1, 1), bias=False)\n",
              "        (bn): BatchNorm2d(16, eps=0.001, momentum=0.03, affine=True, track_running_stats=True)\n",
              "        (act): SiLU(inplace=True)\n",
              "      )\n",
              "      (1): Conv(\n",
              "        (conv): Conv2d(16, 32, kernel_size=(3, 3), stride=(2, 2), padding=(1, 1), bias=False)\n",
              "        (bn): BatchNorm2d(32, eps=0.001, momentum=0.03, affine=True, track_running_stats=True)\n",
              "        (act): SiLU(inplace=True)\n",
              "      )\n",
              "      (2): C3k2(\n",
              "        (cv1): Conv(\n",
              "          (conv): Conv2d(32, 32, kernel_size=(1, 1), stride=(1, 1), bias=False)\n",
              "          (bn): BatchNorm2d(32, eps=0.001, momentum=0.03, affine=True, track_running_stats=True)\n",
              "          (act): SiLU(inplace=True)\n",
              "        )\n",
              "        (cv2): Conv(\n",
              "          (conv): Conv2d(48, 64, kernel_size=(1, 1), stride=(1, 1), bias=False)\n",
              "          (bn): BatchNorm2d(64, eps=0.001, momentum=0.03, affine=True, track_running_stats=True)\n",
              "          (act): SiLU(inplace=True)\n",
              "        )\n",
              "        (m): ModuleList(\n",
              "          (0): Bottleneck(\n",
              "            (cv1): Conv(\n",
              "              (conv): Conv2d(16, 8, kernel_size=(3, 3), stride=(1, 1), padding=(1, 1), bias=False)\n",
              "              (bn): BatchNorm2d(8, eps=0.001, momentum=0.03, affine=True, track_running_stats=True)\n",
              "              (act): SiLU(inplace=True)\n",
              "            )\n",
              "            (cv2): Conv(\n",
              "              (conv): Conv2d(8, 16, kernel_size=(3, 3), stride=(1, 1), padding=(1, 1), bias=False)\n",
              "              (bn): BatchNorm2d(16, eps=0.001, momentum=0.03, affine=True, track_running_stats=True)\n",
              "              (act): SiLU(inplace=True)\n",
              "            )\n",
              "          )\n",
              "        )\n",
              "      )\n",
              "      (3): Conv(\n",
              "        (conv): Conv2d(64, 64, kernel_size=(3, 3), stride=(2, 2), padding=(1, 1), bias=False)\n",
              "        (bn): BatchNorm2d(64, eps=0.001, momentum=0.03, affine=True, track_running_stats=True)\n",
              "        (act): SiLU(inplace=True)\n",
              "      )\n",
              "      (4): C3k2(\n",
              "        (cv1): Conv(\n",
              "          (conv): Conv2d(64, 64, kernel_size=(1, 1), stride=(1, 1), bias=False)\n",
              "          (bn): BatchNorm2d(64, eps=0.001, momentum=0.03, affine=True, track_running_stats=True)\n",
              "          (act): SiLU(inplace=True)\n",
              "        )\n",
              "        (cv2): Conv(\n",
              "          (conv): Conv2d(96, 128, kernel_size=(1, 1), stride=(1, 1), bias=False)\n",
              "          (bn): BatchNorm2d(128, eps=0.001, momentum=0.03, affine=True, track_running_stats=True)\n",
              "          (act): SiLU(inplace=True)\n",
              "        )\n",
              "        (m): ModuleList(\n",
              "          (0): Bottleneck(\n",
              "            (cv1): Conv(\n",
              "              (conv): Conv2d(32, 16, kernel_size=(3, 3), stride=(1, 1), padding=(1, 1), bias=False)\n",
              "              (bn): BatchNorm2d(16, eps=0.001, momentum=0.03, affine=True, track_running_stats=True)\n",
              "              (act): SiLU(inplace=True)\n",
              "            )\n",
              "            (cv2): Conv(\n",
              "              (conv): Conv2d(16, 32, kernel_size=(3, 3), stride=(1, 1), padding=(1, 1), bias=False)\n",
              "              (bn): BatchNorm2d(32, eps=0.001, momentum=0.03, affine=True, track_running_stats=True)\n",
              "              (act): SiLU(inplace=True)\n",
              "            )\n",
              "          )\n",
              "        )\n",
              "      )\n",
              "      (5): Conv(\n",
              "        (conv): Conv2d(128, 128, kernel_size=(3, 3), stride=(2, 2), padding=(1, 1), bias=False)\n",
              "        (bn): BatchNorm2d(128, eps=0.001, momentum=0.03, affine=True, track_running_stats=True)\n",
              "        (act): SiLU(inplace=True)\n",
              "      )\n",
              "      (6): A2C2f(\n",
              "        (cv1): Conv(\n",
              "          (conv): Conv2d(128, 64, kernel_size=(1, 1), stride=(1, 1), bias=False)\n",
              "          (bn): BatchNorm2d(64, eps=0.001, momentum=0.03, affine=True, track_running_stats=True)\n",
              "          (act): SiLU(inplace=True)\n",
              "        )\n",
              "        (cv2): Conv(\n",
              "          (conv): Conv2d(192, 128, kernel_size=(1, 1), stride=(1, 1), bias=False)\n",
              "          (bn): BatchNorm2d(128, eps=0.001, momentum=0.03, affine=True, track_running_stats=True)\n",
              "          (act): SiLU(inplace=True)\n",
              "        )\n",
              "        (m): ModuleList(\n",
              "          (0-1): 2 x Sequential(\n",
              "            (0): ABlock(\n",
              "              (attn): AAttn(\n",
              "                (qkv): Conv(\n",
              "                  (conv): Conv2d(64, 192, kernel_size=(1, 1), stride=(1, 1), bias=False)\n",
              "                  (bn): BatchNorm2d(192, eps=0.001, momentum=0.03, affine=True, track_running_stats=True)\n",
              "                  (act): Identity()\n",
              "                )\n",
              "                (proj): Conv(\n",
              "                  (conv): Conv2d(64, 64, kernel_size=(1, 1), stride=(1, 1), bias=False)\n",
              "                  (bn): BatchNorm2d(64, eps=0.001, momentum=0.03, affine=True, track_running_stats=True)\n",
              "                  (act): Identity()\n",
              "                )\n",
              "                (pe): Conv(\n",
              "                  (conv): Conv2d(64, 64, kernel_size=(7, 7), stride=(1, 1), padding=(3, 3), groups=64, bias=False)\n",
              "                  (bn): BatchNorm2d(64, eps=0.001, momentum=0.03, affine=True, track_running_stats=True)\n",
              "                  (act): Identity()\n",
              "                )\n",
              "              )\n",
              "              (mlp): Sequential(\n",
              "                (0): Conv(\n",
              "                  (conv): Conv2d(64, 128, kernel_size=(1, 1), stride=(1, 1), bias=False)\n",
              "                  (bn): BatchNorm2d(128, eps=0.001, momentum=0.03, affine=True, track_running_stats=True)\n",
              "                  (act): SiLU(inplace=True)\n",
              "                )\n",
              "                (1): Conv(\n",
              "                  (conv): Conv2d(128, 64, kernel_size=(1, 1), stride=(1, 1), bias=False)\n",
              "                  (bn): BatchNorm2d(64, eps=0.001, momentum=0.03, affine=True, track_running_stats=True)\n",
              "                  (act): Identity()\n",
              "                )\n",
              "              )\n",
              "            )\n",
              "            (1): ABlock(\n",
              "              (attn): AAttn(\n",
              "                (qkv): Conv(\n",
              "                  (conv): Conv2d(64, 192, kernel_size=(1, 1), stride=(1, 1), bias=False)\n",
              "                  (bn): BatchNorm2d(192, eps=0.001, momentum=0.03, affine=True, track_running_stats=True)\n",
              "                  (act): Identity()\n",
              "                )\n",
              "                (proj): Conv(\n",
              "                  (conv): Conv2d(64, 64, kernel_size=(1, 1), stride=(1, 1), bias=False)\n",
              "                  (bn): BatchNorm2d(64, eps=0.001, momentum=0.03, affine=True, track_running_stats=True)\n",
              "                  (act): Identity()\n",
              "                )\n",
              "                (pe): Conv(\n",
              "                  (conv): Conv2d(64, 64, kernel_size=(7, 7), stride=(1, 1), padding=(3, 3), groups=64, bias=False)\n",
              "                  (bn): BatchNorm2d(64, eps=0.001, momentum=0.03, affine=True, track_running_stats=True)\n",
              "                  (act): Identity()\n",
              "                )\n",
              "              )\n",
              "              (mlp): Sequential(\n",
              "                (0): Conv(\n",
              "                  (conv): Conv2d(64, 128, kernel_size=(1, 1), stride=(1, 1), bias=False)\n",
              "                  (bn): BatchNorm2d(128, eps=0.001, momentum=0.03, affine=True, track_running_stats=True)\n",
              "                  (act): SiLU(inplace=True)\n",
              "                )\n",
              "                (1): Conv(\n",
              "                  (conv): Conv2d(128, 64, kernel_size=(1, 1), stride=(1, 1), bias=False)\n",
              "                  (bn): BatchNorm2d(64, eps=0.001, momentum=0.03, affine=True, track_running_stats=True)\n",
              "                  (act): Identity()\n",
              "                )\n",
              "              )\n",
              "            )\n",
              "          )\n",
              "        )\n",
              "      )\n",
              "      (7): Conv(\n",
              "        (conv): Conv2d(128, 256, kernel_size=(3, 3), stride=(2, 2), padding=(1, 1), bias=False)\n",
              "        (bn): BatchNorm2d(256, eps=0.001, momentum=0.03, affine=True, track_running_stats=True)\n",
              "        (act): SiLU(inplace=True)\n",
              "      )\n",
              "      (8): A2C2f(\n",
              "        (cv1): Conv(\n",
              "          (conv): Conv2d(256, 128, kernel_size=(1, 1), stride=(1, 1), bias=False)\n",
              "          (bn): BatchNorm2d(128, eps=0.001, momentum=0.03, affine=True, track_running_stats=True)\n",
              "          (act): SiLU(inplace=True)\n",
              "        )\n",
              "        (cv2): Conv(\n",
              "          (conv): Conv2d(384, 256, kernel_size=(1, 1), stride=(1, 1), bias=False)\n",
              "          (bn): BatchNorm2d(256, eps=0.001, momentum=0.03, affine=True, track_running_stats=True)\n",
              "          (act): SiLU(inplace=True)\n",
              "        )\n",
              "        (m): ModuleList(\n",
              "          (0-1): 2 x Sequential(\n",
              "            (0): ABlock(\n",
              "              (attn): AAttn(\n",
              "                (qkv): Conv(\n",
              "                  (conv): Conv2d(128, 384, kernel_size=(1, 1), stride=(1, 1), bias=False)\n",
              "                  (bn): BatchNorm2d(384, eps=0.001, momentum=0.03, affine=True, track_running_stats=True)\n",
              "                  (act): Identity()\n",
              "                )\n",
              "                (proj): Conv(\n",
              "                  (conv): Conv2d(128, 128, kernel_size=(1, 1), stride=(1, 1), bias=False)\n",
              "                  (bn): BatchNorm2d(128, eps=0.001, momentum=0.03, affine=True, track_running_stats=True)\n",
              "                  (act): Identity()\n",
              "                )\n",
              "                (pe): Conv(\n",
              "                  (conv): Conv2d(128, 128, kernel_size=(7, 7), stride=(1, 1), padding=(3, 3), groups=128, bias=False)\n",
              "                  (bn): BatchNorm2d(128, eps=0.001, momentum=0.03, affine=True, track_running_stats=True)\n",
              "                  (act): Identity()\n",
              "                )\n",
              "              )\n",
              "              (mlp): Sequential(\n",
              "                (0): Conv(\n",
              "                  (conv): Conv2d(128, 256, kernel_size=(1, 1), stride=(1, 1), bias=False)\n",
              "                  (bn): BatchNorm2d(256, eps=0.001, momentum=0.03, affine=True, track_running_stats=True)\n",
              "                  (act): SiLU(inplace=True)\n",
              "                )\n",
              "                (1): Conv(\n",
              "                  (conv): Conv2d(256, 128, kernel_size=(1, 1), stride=(1, 1), bias=False)\n",
              "                  (bn): BatchNorm2d(128, eps=0.001, momentum=0.03, affine=True, track_running_stats=True)\n",
              "                  (act): Identity()\n",
              "                )\n",
              "              )\n",
              "            )\n",
              "            (1): ABlock(\n",
              "              (attn): AAttn(\n",
              "                (qkv): Conv(\n",
              "                  (conv): Conv2d(128, 384, kernel_size=(1, 1), stride=(1, 1), bias=False)\n",
              "                  (bn): BatchNorm2d(384, eps=0.001, momentum=0.03, affine=True, track_running_stats=True)\n",
              "                  (act): Identity()\n",
              "                )\n",
              "                (proj): Conv(\n",
              "                  (conv): Conv2d(128, 128, kernel_size=(1, 1), stride=(1, 1), bias=False)\n",
              "                  (bn): BatchNorm2d(128, eps=0.001, momentum=0.03, affine=True, track_running_stats=True)\n",
              "                  (act): Identity()\n",
              "                )\n",
              "                (pe): Conv(\n",
              "                  (conv): Conv2d(128, 128, kernel_size=(7, 7), stride=(1, 1), padding=(3, 3), groups=128, bias=False)\n",
              "                  (bn): BatchNorm2d(128, eps=0.001, momentum=0.03, affine=True, track_running_stats=True)\n",
              "                  (act): Identity()\n",
              "                )\n",
              "              )\n",
              "              (mlp): Sequential(\n",
              "                (0): Conv(\n",
              "                  (conv): Conv2d(128, 256, kernel_size=(1, 1), stride=(1, 1), bias=False)\n",
              "                  (bn): BatchNorm2d(256, eps=0.001, momentum=0.03, affine=True, track_running_stats=True)\n",
              "                  (act): SiLU(inplace=True)\n",
              "                )\n",
              "                (1): Conv(\n",
              "                  (conv): Conv2d(256, 128, kernel_size=(1, 1), stride=(1, 1), bias=False)\n",
              "                  (bn): BatchNorm2d(128, eps=0.001, momentum=0.03, affine=True, track_running_stats=True)\n",
              "                  (act): Identity()\n",
              "                )\n",
              "              )\n",
              "            )\n",
              "          )\n",
              "        )\n",
              "      )\n",
              "      (9): Upsample(scale_factor=2.0, mode='nearest')\n",
              "      (10): Concat()\n",
              "      (11): A2C2f(\n",
              "        (cv1): Conv(\n",
              "          (conv): Conv2d(384, 64, kernel_size=(1, 1), stride=(1, 1), bias=False)\n",
              "          (bn): BatchNorm2d(64, eps=0.001, momentum=0.03, affine=True, track_running_stats=True)\n",
              "          (act): SiLU(inplace=True)\n",
              "        )\n",
              "        (cv2): Conv(\n",
              "          (conv): Conv2d(128, 128, kernel_size=(1, 1), stride=(1, 1), bias=False)\n",
              "          (bn): BatchNorm2d(128, eps=0.001, momentum=0.03, affine=True, track_running_stats=True)\n",
              "          (act): SiLU(inplace=True)\n",
              "        )\n",
              "        (m): ModuleList(\n",
              "          (0): C3k(\n",
              "            (cv1): Conv(\n",
              "              (conv): Conv2d(64, 32, kernel_size=(1, 1), stride=(1, 1), bias=False)\n",
              "              (bn): BatchNorm2d(32, eps=0.001, momentum=0.03, affine=True, track_running_stats=True)\n",
              "              (act): SiLU(inplace=True)\n",
              "            )\n",
              "            (cv2): Conv(\n",
              "              (conv): Conv2d(64, 32, kernel_size=(1, 1), stride=(1, 1), bias=False)\n",
              "              (bn): BatchNorm2d(32, eps=0.001, momentum=0.03, affine=True, track_running_stats=True)\n",
              "              (act): SiLU(inplace=True)\n",
              "            )\n",
              "            (cv3): Conv(\n",
              "              (conv): Conv2d(64, 64, kernel_size=(1, 1), stride=(1, 1), bias=False)\n",
              "              (bn): BatchNorm2d(64, eps=0.001, momentum=0.03, affine=True, track_running_stats=True)\n",
              "              (act): SiLU(inplace=True)\n",
              "            )\n",
              "            (m): Sequential(\n",
              "              (0): Bottleneck(\n",
              "                (cv1): Conv(\n",
              "                  (conv): Conv2d(32, 32, kernel_size=(3, 3), stride=(1, 1), padding=(1, 1), bias=False)\n",
              "                  (bn): BatchNorm2d(32, eps=0.001, momentum=0.03, affine=True, track_running_stats=True)\n",
              "                  (act): SiLU(inplace=True)\n",
              "                )\n",
              "                (cv2): Conv(\n",
              "                  (conv): Conv2d(32, 32, kernel_size=(3, 3), stride=(1, 1), padding=(1, 1), bias=False)\n",
              "                  (bn): BatchNorm2d(32, eps=0.001, momentum=0.03, affine=True, track_running_stats=True)\n",
              "                  (act): SiLU(inplace=True)\n",
              "                )\n",
              "              )\n",
              "              (1): Bottleneck(\n",
              "                (cv1): Conv(\n",
              "                  (conv): Conv2d(32, 32, kernel_size=(3, 3), stride=(1, 1), padding=(1, 1), bias=False)\n",
              "                  (bn): BatchNorm2d(32, eps=0.001, momentum=0.03, affine=True, track_running_stats=True)\n",
              "                  (act): SiLU(inplace=True)\n",
              "                )\n",
              "                (cv2): Conv(\n",
              "                  (conv): Conv2d(32, 32, kernel_size=(3, 3), stride=(1, 1), padding=(1, 1), bias=False)\n",
              "                  (bn): BatchNorm2d(32, eps=0.001, momentum=0.03, affine=True, track_running_stats=True)\n",
              "                  (act): SiLU(inplace=True)\n",
              "                )\n",
              "              )\n",
              "            )\n",
              "          )\n",
              "        )\n",
              "      )\n",
              "      (12): Upsample(scale_factor=2.0, mode='nearest')\n",
              "      (13): Concat()\n",
              "      (14): A2C2f(\n",
              "        (cv1): Conv(\n",
              "          (conv): Conv2d(256, 32, kernel_size=(1, 1), stride=(1, 1), bias=False)\n",
              "          (bn): BatchNorm2d(32, eps=0.001, momentum=0.03, affine=True, track_running_stats=True)\n",
              "          (act): SiLU(inplace=True)\n",
              "        )\n",
              "        (cv2): Conv(\n",
              "          (conv): Conv2d(64, 64, kernel_size=(1, 1), stride=(1, 1), bias=False)\n",
              "          (bn): BatchNorm2d(64, eps=0.001, momentum=0.03, affine=True, track_running_stats=True)\n",
              "          (act): SiLU(inplace=True)\n",
              "        )\n",
              "        (m): ModuleList(\n",
              "          (0): C3k(\n",
              "            (cv1): Conv(\n",
              "              (conv): Conv2d(32, 16, kernel_size=(1, 1), stride=(1, 1), bias=False)\n",
              "              (bn): BatchNorm2d(16, eps=0.001, momentum=0.03, affine=True, track_running_stats=True)\n",
              "              (act): SiLU(inplace=True)\n",
              "            )\n",
              "            (cv2): Conv(\n",
              "              (conv): Conv2d(32, 16, kernel_size=(1, 1), stride=(1, 1), bias=False)\n",
              "              (bn): BatchNorm2d(16, eps=0.001, momentum=0.03, affine=True, track_running_stats=True)\n",
              "              (act): SiLU(inplace=True)\n",
              "            )\n",
              "            (cv3): Conv(\n",
              "              (conv): Conv2d(32, 32, kernel_size=(1, 1), stride=(1, 1), bias=False)\n",
              "              (bn): BatchNorm2d(32, eps=0.001, momentum=0.03, affine=True, track_running_stats=True)\n",
              "              (act): SiLU(inplace=True)\n",
              "            )\n",
              "            (m): Sequential(\n",
              "              (0): Bottleneck(\n",
              "                (cv1): Conv(\n",
              "                  (conv): Conv2d(16, 16, kernel_size=(3, 3), stride=(1, 1), padding=(1, 1), bias=False)\n",
              "                  (bn): BatchNorm2d(16, eps=0.001, momentum=0.03, affine=True, track_running_stats=True)\n",
              "                  (act): SiLU(inplace=True)\n",
              "                )\n",
              "                (cv2): Conv(\n",
              "                  (conv): Conv2d(16, 16, kernel_size=(3, 3), stride=(1, 1), padding=(1, 1), bias=False)\n",
              "                  (bn): BatchNorm2d(16, eps=0.001, momentum=0.03, affine=True, track_running_stats=True)\n",
              "                  (act): SiLU(inplace=True)\n",
              "                )\n",
              "              )\n",
              "              (1): Bottleneck(\n",
              "                (cv1): Conv(\n",
              "                  (conv): Conv2d(16, 16, kernel_size=(3, 3), stride=(1, 1), padding=(1, 1), bias=False)\n",
              "                  (bn): BatchNorm2d(16, eps=0.001, momentum=0.03, affine=True, track_running_stats=True)\n",
              "                  (act): SiLU(inplace=True)\n",
              "                )\n",
              "                (cv2): Conv(\n",
              "                  (conv): Conv2d(16, 16, kernel_size=(3, 3), stride=(1, 1), padding=(1, 1), bias=False)\n",
              "                  (bn): BatchNorm2d(16, eps=0.001, momentum=0.03, affine=True, track_running_stats=True)\n",
              "                  (act): SiLU(inplace=True)\n",
              "                )\n",
              "              )\n",
              "            )\n",
              "          )\n",
              "        )\n",
              "      )\n",
              "      (15): Conv(\n",
              "        (conv): Conv2d(64, 64, kernel_size=(3, 3), stride=(2, 2), padding=(1, 1), bias=False)\n",
              "        (bn): BatchNorm2d(64, eps=0.001, momentum=0.03, affine=True, track_running_stats=True)\n",
              "        (act): SiLU(inplace=True)\n",
              "      )\n",
              "      (16): Concat()\n",
              "      (17): A2C2f(\n",
              "        (cv1): Conv(\n",
              "          (conv): Conv2d(192, 64, kernel_size=(1, 1), stride=(1, 1), bias=False)\n",
              "          (bn): BatchNorm2d(64, eps=0.001, momentum=0.03, affine=True, track_running_stats=True)\n",
              "          (act): SiLU(inplace=True)\n",
              "        )\n",
              "        (cv2): Conv(\n",
              "          (conv): Conv2d(128, 128, kernel_size=(1, 1), stride=(1, 1), bias=False)\n",
              "          (bn): BatchNorm2d(128, eps=0.001, momentum=0.03, affine=True, track_running_stats=True)\n",
              "          (act): SiLU(inplace=True)\n",
              "        )\n",
              "        (m): ModuleList(\n",
              "          (0): C3k(\n",
              "            (cv1): Conv(\n",
              "              (conv): Conv2d(64, 32, kernel_size=(1, 1), stride=(1, 1), bias=False)\n",
              "              (bn): BatchNorm2d(32, eps=0.001, momentum=0.03, affine=True, track_running_stats=True)\n",
              "              (act): SiLU(inplace=True)\n",
              "            )\n",
              "            (cv2): Conv(\n",
              "              (conv): Conv2d(64, 32, kernel_size=(1, 1), stride=(1, 1), bias=False)\n",
              "              (bn): BatchNorm2d(32, eps=0.001, momentum=0.03, affine=True, track_running_stats=True)\n",
              "              (act): SiLU(inplace=True)\n",
              "            )\n",
              "            (cv3): Conv(\n",
              "              (conv): Conv2d(64, 64, kernel_size=(1, 1), stride=(1, 1), bias=False)\n",
              "              (bn): BatchNorm2d(64, eps=0.001, momentum=0.03, affine=True, track_running_stats=True)\n",
              "              (act): SiLU(inplace=True)\n",
              "            )\n",
              "            (m): Sequential(\n",
              "              (0): Bottleneck(\n",
              "                (cv1): Conv(\n",
              "                  (conv): Conv2d(32, 32, kernel_size=(3, 3), stride=(1, 1), padding=(1, 1), bias=False)\n",
              "                  (bn): BatchNorm2d(32, eps=0.001, momentum=0.03, affine=True, track_running_stats=True)\n",
              "                  (act): SiLU(inplace=True)\n",
              "                )\n",
              "                (cv2): Conv(\n",
              "                  (conv): Conv2d(32, 32, kernel_size=(3, 3), stride=(1, 1), padding=(1, 1), bias=False)\n",
              "                  (bn): BatchNorm2d(32, eps=0.001, momentum=0.03, affine=True, track_running_stats=True)\n",
              "                  (act): SiLU(inplace=True)\n",
              "                )\n",
              "              )\n",
              "              (1): Bottleneck(\n",
              "                (cv1): Conv(\n",
              "                  (conv): Conv2d(32, 32, kernel_size=(3, 3), stride=(1, 1), padding=(1, 1), bias=False)\n",
              "                  (bn): BatchNorm2d(32, eps=0.001, momentum=0.03, affine=True, track_running_stats=True)\n",
              "                  (act): SiLU(inplace=True)\n",
              "                )\n",
              "                (cv2): Conv(\n",
              "                  (conv): Conv2d(32, 32, kernel_size=(3, 3), stride=(1, 1), padding=(1, 1), bias=False)\n",
              "                  (bn): BatchNorm2d(32, eps=0.001, momentum=0.03, affine=True, track_running_stats=True)\n",
              "                  (act): SiLU(inplace=True)\n",
              "                )\n",
              "              )\n",
              "            )\n",
              "          )\n",
              "        )\n",
              "      )\n",
              "      (18): Conv(\n",
              "        (conv): Conv2d(128, 128, kernel_size=(3, 3), stride=(2, 2), padding=(1, 1), bias=False)\n",
              "        (bn): BatchNorm2d(128, eps=0.001, momentum=0.03, affine=True, track_running_stats=True)\n",
              "        (act): SiLU(inplace=True)\n",
              "      )\n",
              "      (19): Concat()\n",
              "      (20): C3k2(\n",
              "        (cv1): Conv(\n",
              "          (conv): Conv2d(384, 256, kernel_size=(1, 1), stride=(1, 1), bias=False)\n",
              "          (bn): BatchNorm2d(256, eps=0.001, momentum=0.03, affine=True, track_running_stats=True)\n",
              "          (act): SiLU(inplace=True)\n",
              "        )\n",
              "        (cv2): Conv(\n",
              "          (conv): Conv2d(384, 256, kernel_size=(1, 1), stride=(1, 1), bias=False)\n",
              "          (bn): BatchNorm2d(256, eps=0.001, momentum=0.03, affine=True, track_running_stats=True)\n",
              "          (act): SiLU(inplace=True)\n",
              "        )\n",
              "        (m): ModuleList(\n",
              "          (0): C3k(\n",
              "            (cv1): Conv(\n",
              "              (conv): Conv2d(128, 64, kernel_size=(1, 1), stride=(1, 1), bias=False)\n",
              "              (bn): BatchNorm2d(64, eps=0.001, momentum=0.03, affine=True, track_running_stats=True)\n",
              "              (act): SiLU(inplace=True)\n",
              "            )\n",
              "            (cv2): Conv(\n",
              "              (conv): Conv2d(128, 64, kernel_size=(1, 1), stride=(1, 1), bias=False)\n",
              "              (bn): BatchNorm2d(64, eps=0.001, momentum=0.03, affine=True, track_running_stats=True)\n",
              "              (act): SiLU(inplace=True)\n",
              "            )\n",
              "            (cv3): Conv(\n",
              "              (conv): Conv2d(128, 128, kernel_size=(1, 1), stride=(1, 1), bias=False)\n",
              "              (bn): BatchNorm2d(128, eps=0.001, momentum=0.03, affine=True, track_running_stats=True)\n",
              "              (act): SiLU(inplace=True)\n",
              "            )\n",
              "            (m): Sequential(\n",
              "              (0): Bottleneck(\n",
              "                (cv1): Conv(\n",
              "                  (conv): Conv2d(64, 64, kernel_size=(3, 3), stride=(1, 1), padding=(1, 1), bias=False)\n",
              "                  (bn): BatchNorm2d(64, eps=0.001, momentum=0.03, affine=True, track_running_stats=True)\n",
              "                  (act): SiLU(inplace=True)\n",
              "                )\n",
              "                (cv2): Conv(\n",
              "                  (conv): Conv2d(64, 64, kernel_size=(3, 3), stride=(1, 1), padding=(1, 1), bias=False)\n",
              "                  (bn): BatchNorm2d(64, eps=0.001, momentum=0.03, affine=True, track_running_stats=True)\n",
              "                  (act): SiLU(inplace=True)\n",
              "                )\n",
              "              )\n",
              "              (1): Bottleneck(\n",
              "                (cv1): Conv(\n",
              "                  (conv): Conv2d(64, 64, kernel_size=(3, 3), stride=(1, 1), padding=(1, 1), bias=False)\n",
              "                  (bn): BatchNorm2d(64, eps=0.001, momentum=0.03, affine=True, track_running_stats=True)\n",
              "                  (act): SiLU(inplace=True)\n",
              "                )\n",
              "                (cv2): Conv(\n",
              "                  (conv): Conv2d(64, 64, kernel_size=(3, 3), stride=(1, 1), padding=(1, 1), bias=False)\n",
              "                  (bn): BatchNorm2d(64, eps=0.001, momentum=0.03, affine=True, track_running_stats=True)\n",
              "                  (act): SiLU(inplace=True)\n",
              "                )\n",
              "              )\n",
              "            )\n",
              "          )\n",
              "        )\n",
              "      )\n",
              "      (21): Detect(\n",
              "        (cv2): ModuleList(\n",
              "          (0): Sequential(\n",
              "            (0): Conv(\n",
              "              (conv): Conv2d(64, 64, kernel_size=(3, 3), stride=(1, 1), padding=(1, 1), bias=False)\n",
              "              (bn): BatchNorm2d(64, eps=0.001, momentum=0.03, affine=True, track_running_stats=True)\n",
              "              (act): SiLU(inplace=True)\n",
              "            )\n",
              "            (1): Conv(\n",
              "              (conv): Conv2d(64, 64, kernel_size=(3, 3), stride=(1, 1), padding=(1, 1), bias=False)\n",
              "              (bn): BatchNorm2d(64, eps=0.001, momentum=0.03, affine=True, track_running_stats=True)\n",
              "              (act): SiLU(inplace=True)\n",
              "            )\n",
              "            (2): Conv2d(64, 64, kernel_size=(1, 1), stride=(1, 1))\n",
              "          )\n",
              "          (1): Sequential(\n",
              "            (0): Conv(\n",
              "              (conv): Conv2d(128, 64, kernel_size=(3, 3), stride=(1, 1), padding=(1, 1), bias=False)\n",
              "              (bn): BatchNorm2d(64, eps=0.001, momentum=0.03, affine=True, track_running_stats=True)\n",
              "              (act): SiLU(inplace=True)\n",
              "            )\n",
              "            (1): Conv(\n",
              "              (conv): Conv2d(64, 64, kernel_size=(3, 3), stride=(1, 1), padding=(1, 1), bias=False)\n",
              "              (bn): BatchNorm2d(64, eps=0.001, momentum=0.03, affine=True, track_running_stats=True)\n",
              "              (act): SiLU(inplace=True)\n",
              "            )\n",
              "            (2): Conv2d(64, 64, kernel_size=(1, 1), stride=(1, 1))\n",
              "          )\n",
              "          (2): Sequential(\n",
              "            (0): Conv(\n",
              "              (conv): Conv2d(256, 64, kernel_size=(3, 3), stride=(1, 1), padding=(1, 1), bias=False)\n",
              "              (bn): BatchNorm2d(64, eps=0.001, momentum=0.03, affine=True, track_running_stats=True)\n",
              "              (act): SiLU(inplace=True)\n",
              "            )\n",
              "            (1): Conv(\n",
              "              (conv): Conv2d(64, 64, kernel_size=(3, 3), stride=(1, 1), padding=(1, 1), bias=False)\n",
              "              (bn): BatchNorm2d(64, eps=0.001, momentum=0.03, affine=True, track_running_stats=True)\n",
              "              (act): SiLU(inplace=True)\n",
              "            )\n",
              "            (2): Conv2d(64, 64, kernel_size=(1, 1), stride=(1, 1))\n",
              "          )\n",
              "        )\n",
              "        (cv3): ModuleList(\n",
              "          (0): Sequential(\n",
              "            (0): Sequential(\n",
              "              (0): DWConv(\n",
              "                (conv): Conv2d(64, 64, kernel_size=(3, 3), stride=(1, 1), padding=(1, 1), groups=64, bias=False)\n",
              "                (bn): BatchNorm2d(64, eps=0.001, momentum=0.03, affine=True, track_running_stats=True)\n",
              "                (act): SiLU(inplace=True)\n",
              "              )\n",
              "              (1): Conv(\n",
              "                (conv): Conv2d(64, 64, kernel_size=(1, 1), stride=(1, 1), bias=False)\n",
              "                (bn): BatchNorm2d(64, eps=0.001, momentum=0.03, affine=True, track_running_stats=True)\n",
              "                (act): SiLU(inplace=True)\n",
              "              )\n",
              "            )\n",
              "            (1): Sequential(\n",
              "              (0): DWConv(\n",
              "                (conv): Conv2d(64, 64, kernel_size=(3, 3), stride=(1, 1), padding=(1, 1), groups=64, bias=False)\n",
              "                (bn): BatchNorm2d(64, eps=0.001, momentum=0.03, affine=True, track_running_stats=True)\n",
              "                (act): SiLU(inplace=True)\n",
              "              )\n",
              "              (1): Conv(\n",
              "                (conv): Conv2d(64, 64, kernel_size=(1, 1), stride=(1, 1), bias=False)\n",
              "                (bn): BatchNorm2d(64, eps=0.001, momentum=0.03, affine=True, track_running_stats=True)\n",
              "                (act): SiLU(inplace=True)\n",
              "              )\n",
              "            )\n",
              "            (2): Conv2d(64, 1, kernel_size=(1, 1), stride=(1, 1))\n",
              "          )\n",
              "          (1): Sequential(\n",
              "            (0): Sequential(\n",
              "              (0): DWConv(\n",
              "                (conv): Conv2d(128, 128, kernel_size=(3, 3), stride=(1, 1), padding=(1, 1), groups=128, bias=False)\n",
              "                (bn): BatchNorm2d(128, eps=0.001, momentum=0.03, affine=True, track_running_stats=True)\n",
              "                (act): SiLU(inplace=True)\n",
              "              )\n",
              "              (1): Conv(\n",
              "                (conv): Conv2d(128, 64, kernel_size=(1, 1), stride=(1, 1), bias=False)\n",
              "                (bn): BatchNorm2d(64, eps=0.001, momentum=0.03, affine=True, track_running_stats=True)\n",
              "                (act): SiLU(inplace=True)\n",
              "              )\n",
              "            )\n",
              "            (1): Sequential(\n",
              "              (0): DWConv(\n",
              "                (conv): Conv2d(64, 64, kernel_size=(3, 3), stride=(1, 1), padding=(1, 1), groups=64, bias=False)\n",
              "                (bn): BatchNorm2d(64, eps=0.001, momentum=0.03, affine=True, track_running_stats=True)\n",
              "                (act): SiLU(inplace=True)\n",
              "              )\n",
              "              (1): Conv(\n",
              "                (conv): Conv2d(64, 64, kernel_size=(1, 1), stride=(1, 1), bias=False)\n",
              "                (bn): BatchNorm2d(64, eps=0.001, momentum=0.03, affine=True, track_running_stats=True)\n",
              "                (act): SiLU(inplace=True)\n",
              "              )\n",
              "            )\n",
              "            (2): Conv2d(64, 1, kernel_size=(1, 1), stride=(1, 1))\n",
              "          )\n",
              "          (2): Sequential(\n",
              "            (0): Sequential(\n",
              "              (0): DWConv(\n",
              "                (conv): Conv2d(256, 256, kernel_size=(3, 3), stride=(1, 1), padding=(1, 1), groups=256, bias=False)\n",
              "                (bn): BatchNorm2d(256, eps=0.001, momentum=0.03, affine=True, track_running_stats=True)\n",
              "                (act): SiLU(inplace=True)\n",
              "              )\n",
              "              (1): Conv(\n",
              "                (conv): Conv2d(256, 64, kernel_size=(1, 1), stride=(1, 1), bias=False)\n",
              "                (bn): BatchNorm2d(64, eps=0.001, momentum=0.03, affine=True, track_running_stats=True)\n",
              "                (act): SiLU(inplace=True)\n",
              "              )\n",
              "            )\n",
              "            (1): Sequential(\n",
              "              (0): DWConv(\n",
              "                (conv): Conv2d(64, 64, kernel_size=(3, 3), stride=(1, 1), padding=(1, 1), groups=64, bias=False)\n",
              "                (bn): BatchNorm2d(64, eps=0.001, momentum=0.03, affine=True, track_running_stats=True)\n",
              "                (act): SiLU(inplace=True)\n",
              "              )\n",
              "              (1): Conv(\n",
              "                (conv): Conv2d(64, 64, kernel_size=(1, 1), stride=(1, 1), bias=False)\n",
              "                (bn): BatchNorm2d(64, eps=0.001, momentum=0.03, affine=True, track_running_stats=True)\n",
              "                (act): SiLU(inplace=True)\n",
              "              )\n",
              "            )\n",
              "            (2): Conv2d(64, 1, kernel_size=(1, 1), stride=(1, 1))\n",
              "          )\n",
              "        )\n",
              "        (dfl): DFL(\n",
              "          (conv): Conv2d(16, 1, kernel_size=(1, 1), stride=(1, 1), bias=False)\n",
              "        )\n",
              "      )\n",
              "    )\n",
              "  )\n",
              ")"
            ]
          },
          "execution_count": 30,
          "metadata": {},
          "output_type": "execute_result"
        }
      ],
      "source": [
        "model_12"
      ]
    },
    {
      "cell_type": "code",
      "execution_count": 31,
      "metadata": {
        "colab": {
          "base_uri": "https://localhost:8080/",
          "height": 458
        },
        "id": "Ie4fSHS3oje7",
        "outputId": "60cb281d-4828-4f13-b8fe-4fb5a57a3a4b"
      },
      "outputs": [
        {
          "name": "stdout",
          "output_type": "stream",
          "text": [
            "\n",
            "image 1/1 C:\\Users\\nolan\\cse574proj\\data\\images\\Cars319.png: 288x320 1 license_plate, 56.3ms\n",
            "Speed: 4.0ms preprocess, 56.3ms inference, 3.2ms postprocess per image at shape (1, 3, 288, 320)\n"
          ]
        },
        {
          "data": {
            "image/png": "[encoded data removed]",
            "text/plain": [
              "<Figure size 640x480 with 1 Axes>"
            ]
          },
          "metadata": {},
          "output_type": "display_data"
        }
      ],
      "source": [
        "predict_plot(r\"C:\\Users\\nolan\\cse574proj\\data\\images\\Cars319.png\", model_12)"
      ]
    },
    {
      "cell_type": "code",
      "execution_count": 32,
      "metadata": {
        "id": "TXnC6NzH3c5g"
      },
      "outputs": [],
      "source": [
        "import pytesseract\n",
        "\n",
        "# Set the full path to the tesseract executable\n",
        "pytesseract.pytesseract.tesseract_cmd = r\"C:\\Program Files\\Tesseract-OCR\\tesseract.exe\""
      ]
    },
    {
      "cell_type": "code",
      "execution_count": 33,
      "metadata": {
        "colab": {
          "base_uri": "https://localhost:8080/"
        },
        "id": "pwyTpFnc4D4U",
        "outputId": "a6d53e26-adfe-42de-9d64-c51de35a7c55"
      },
      "outputs": [],
      "source": [
        "def detect_and_extract_text(image_path, model):\n",
        "    img = cv2.imread(image_path)\n",
        "    results = model.predict(image_path, device='cuda')\n",
        "    extracted_texts = []\n",
        "\n",
        "    for result in results:\n",
        "        for box in result.boxes:\n",
        "            x1, y1, x2, y2 = map(int, box.xyxy[0])\n",
        "            roi = img[y1:y2, x1:x2]\n",
        "\n",
        "            if roi.shape[0] < 10 or roi.shape[1] < 10:\n",
        "                continue\n",
        "\n",
        "            gray = cv2.cvtColor(roi, cv2.COLOR_BGR2GRAY)\n",
        "            gray = cv2.medianBlur(gray, 3)\n",
        "            thresh = cv2.adaptiveThreshold(\n",
        "                gray, 255, cv2.ADAPTIVE_THRESH_GAUSSIAN_C,\n",
        "                cv2.THRESH_BINARY, 11, 2\n",
        "            )\n",
        "\n",
        "            config = '--psm 11 -c tessedit_char_whitelist=ABCDEFGHIJKLMNOPQRSTUVWXYZ0123456789'\n",
        "            text = pytesseract.image_to_string(thresh, config=config)\n",
        "            extracted_texts.append(text.strip())\n",
        "\n",
        "    return extracted_texts"
      ]
    },
    {
      "cell_type": "code",
      "execution_count": 34,
      "metadata": {},
      "outputs": [
        {
          "name": "stdout",
          "output_type": "stream",
          "text": [
            "\n",
            "image 1/1 C:\\Users\\nolan\\cse574proj\\data\\images\\Cars61.png: 256x320 1 license_plate, 55.5ms\n",
            "Speed: 1.1ms preprocess, 55.5ms inference, 1.7ms postprocess per image at shape (1, 3, 256, 320)\n"
          ]
        }
      ],
      "source": [
        "results = model_12.predict(r\"C:\\Users\\nolan\\cse574proj\\data\\images\\Cars61.png\", device='cuda')"
      ]
    },
    {
      "cell_type": "code",
      "execution_count": 35,
      "metadata": {},
      "outputs": [],
      "source": [
        "import cv2\n",
        "import pytesseract\n",
        "import pandas as pd\n",
        "\n",
        "# Optional: Set Tesseract executable path if needed (for Windows)\n",
        "# pytesseract.pytesseract.tesseract_cmd = r'C:\\Program Files\\Tesseract-OCR\\tesseract.exe'\n",
        "\n",
        "def extract_text_from_roi(image_path, xmin, xmax, ymin, ymax):\n",
        "    img = cv2.imread(image_path)\n",
        "\n",
        "    if img is None:\n",
        "        return \"\"  # In case the image path is invalid\n",
        "\n",
        "    roi = img[ymin:ymax, xmin:xmax]\n",
        "\n",
        "    if roi.shape[0] < 10 or roi.shape[1] < 10:\n",
        "        return \"\"\n",
        "\n",
        "    # Convert to grayscale\n",
        "    gray = cv2.cvtColor(roi, cv2.COLOR_BGR2GRAY)\n",
        "\n",
        "    # Apply adaptive thresholding\n",
        "    thresh = cv2.adaptiveThreshold(\n",
        "        gray, 255, cv2.ADAPTIVE_THRESH_GAUSSIAN_C,\n",
        "        cv2.THRESH_BINARY, 11, 2\n",
        "    )\n",
        "\n",
        "    # OCR config\n",
        "    config = '--psm 11 -c tessedit_char_whitelist=ABCDEFGHIJKLMNOPQRSTUVWXYZ0123456789'\n",
        "\n",
        "    # OCR\n",
        "    text = pytesseract.image_to_string(thresh, config=config)\n",
        "\n",
        "    return text.strip()\n",
        "\n",
        "# Assuming 'test' is your DataFrame\n",
        "texts = []\n",
        "test2 = test.copy()\n",
        "\n",
        "for index, row in test2.iterrows():\n",
        "    text = extract_text_from_roi(\n",
        "        row['img_path'],\n",
        "        int(row['xmin']),\n",
        "        int(row['xmax']),\n",
        "        int(row['ymin']),\n",
        "        int(row['ymax'])\n",
        "    )\n",
        "    texts.append(text)\n",
        "\n",
        "# Add text column\n",
        "test2['text'] = texts\n"
      ]
    },
    {
      "cell_type": "code",
      "execution_count": 41,
      "metadata": {},
      "outputs": [
        {
          "name": "stdout",
          "output_type": "stream",
          "text": [
            "\n",
            "image 1/1 C:\\Users\\nolan\\cse574proj\\data\\images\\Cars90.png: 256x320 2 license_plates, 100.3ms\n",
            "Speed: 1.3ms preprocess, 100.3ms inference, 1.5ms postprocess per image at shape (1, 3, 256, 320)\n",
            "\n",
            "image 1/1 C:\\Users\\nolan\\cse574proj\\data\\images\\Cars309.png: 192x320 1 license_plate, 15.8ms\n",
            "Speed: 0.6ms preprocess, 15.8ms inference, 1.6ms postprocess per image at shape (1, 3, 192, 320)\n",
            "\n",
            "image 1/1 C:\\Users\\nolan\\cse574proj\\data\\images\\Cars247.png: 192x320 1 license_plate, 16.1ms\n",
            "Speed: 0.8ms preprocess, 16.1ms inference, 1.7ms postprocess per image at shape (1, 3, 192, 320)\n",
            "\n",
            "image 1/1 C:\\Users\\nolan\\cse574proj\\data\\images\\Cars124.png: 224x320 2 license_plates, 19.0ms\n",
            "Speed: 0.6ms preprocess, 19.0ms inference, 2.1ms postprocess per image at shape (1, 3, 224, 320)\n",
            "\n",
            "image 1/1 C:\\Users\\nolan\\cse574proj\\data\\images\\Cars59.png: 256x320 1 license_plate, 14.6ms\n",
            "Speed: 0.6ms preprocess, 14.6ms inference, 1.6ms postprocess per image at shape (1, 3, 256, 320)\n",
            "\n",
            "image 1/1 C:\\Users\\nolan\\cse574proj\\data\\images\\Cars91.png: 224x320 1 license_plate, 16.0ms\n",
            "Speed: 0.6ms preprocess, 16.0ms inference, 1.8ms postprocess per image at shape (1, 3, 224, 320)\n",
            "\n",
            "image 1/1 C:\\Users\\nolan\\cse574proj\\data\\images\\Cars423.png: 224x320 1 license_plate, 14.5ms\n",
            "Speed: 0.6ms preprocess, 14.5ms inference, 1.9ms postprocess per image at shape (1, 3, 224, 320)\n",
            "\n",
            "image 1/1 C:\\Users\\nolan\\cse574proj\\data\\images\\Cars0.png: 192x320 1 license_plate, 17.1ms\n",
            "Speed: 0.6ms preprocess, 17.1ms inference, 1.6ms postprocess per image at shape (1, 3, 192, 320)\n",
            "\n",
            "image 1/1 C:\\Users\\nolan\\cse574proj\\data\\images\\Cars17.png: 224x320 1 license_plate, 14.7ms\n",
            "Speed: 0.8ms preprocess, 14.7ms inference, 1.6ms postprocess per image at shape (1, 3, 224, 320)\n",
            "\n",
            "image 1/1 C:\\Users\\nolan\\cse574proj\\data\\images\\Cars200.png: 224x320 1 license_plate, 14.9ms\n",
            "Speed: 0.6ms preprocess, 14.9ms inference, 1.5ms postprocess per image at shape (1, 3, 224, 320)\n",
            "\n",
            "image 1/1 C:\\Users\\nolan\\cse574proj\\data\\images\\Cars162.png: 192x320 (no detections), 14.9ms\n",
            "Speed: 0.6ms preprocess, 14.9ms inference, 0.7ms postprocess per image at shape (1, 3, 192, 320)\n",
            "⚠️ No license plate detected in C:\\Users\\nolan\\cse574proj\\data\\images\\Cars162.png\n",
            "\n",
            "image 1/1 C:\\Users\\nolan\\cse574proj\\data\\images\\Cars13.png: 224x320 1 license_plate, 14.9ms\n",
            "Speed: 0.6ms preprocess, 14.9ms inference, 1.5ms postprocess per image at shape (1, 3, 224, 320)\n",
            "\n",
            "image 1/1 C:\\Users\\nolan\\cse574proj\\data\\images\\Cars399.png: 192x320 1 license_plate, 15.9ms\n",
            "Speed: 0.6ms preprocess, 15.9ms inference, 1.7ms postprocess per image at shape (1, 3, 192, 320)\n",
            "\n",
            "image 1/1 C:\\Users\\nolan\\cse574proj\\data\\images\\Cars358.png: 160x320 2 license_plates, 54.8ms\n",
            "Speed: 0.5ms preprocess, 54.8ms inference, 1.7ms postprocess per image at shape (1, 3, 160, 320)\n",
            "\n",
            "image 1/1 C:\\Users\\nolan\\cse574proj\\data\\images\\Cars39.png: 256x320 1 license_plate, 18.0ms\n",
            "Speed: 0.7ms preprocess, 18.0ms inference, 1.7ms postprocess per image at shape (1, 3, 256, 320)\n",
            "\n",
            "image 1/1 C:\\Users\\nolan\\cse574proj\\data\\images\\Cars302.png: 160x320 2 license_plates, 22.6ms\n",
            "Speed: 1.1ms preprocess, 22.6ms inference, 2.0ms postprocess per image at shape (1, 3, 160, 320)\n",
            "\n",
            "image 1/1 C:\\Users\\nolan\\cse574proj\\data\\images\\Cars99.png: 320x256 1 license_plate, 52.5ms\n",
            "Speed: 0.7ms preprocess, 52.5ms inference, 1.6ms postprocess per image at shape (1, 3, 320, 256)\n",
            "\n",
            "image 1/1 C:\\Users\\nolan\\cse574proj\\data\\images\\Cars169.png: 160x320 1 license_plate, 15.5ms\n",
            "Speed: 0.8ms preprocess, 15.5ms inference, 1.8ms postprocess per image at shape (1, 3, 160, 320)\n",
            "\n",
            "image 1/1 C:\\Users\\nolan\\cse574proj\\data\\images\\Cars104.png: 256x320 1 license_plate, 14.7ms\n",
            "Speed: 0.9ms preprocess, 14.7ms inference, 1.9ms postprocess per image at shape (1, 3, 256, 320)\n",
            "\n",
            "image 1/1 C:\\Users\\nolan\\cse574proj\\data\\images\\Cars138.png: 256x320 3 license_plates, 16.0ms\n",
            "Speed: 1.0ms preprocess, 16.0ms inference, 1.9ms postprocess per image at shape (1, 3, 256, 320)\n",
            "\n",
            "image 1/1 C:\\Users\\nolan\\cse574proj\\data\\images\\Cars122.png: 256x320 1 license_plate, 16.2ms\n",
            "Speed: 1.0ms preprocess, 16.2ms inference, 2.7ms postprocess per image at shape (1, 3, 256, 320)\n",
            "\n",
            "image 1/1 C:\\Users\\nolan\\cse574proj\\data\\images\\Cars388.png: 256x320 (no detections), 14.5ms\n",
            "Speed: 2.5ms preprocess, 14.5ms inference, 0.8ms postprocess per image at shape (1, 3, 256, 320)\n",
            "⚠️ No license plate detected in C:\\Users\\nolan\\cse574proj\\data\\images\\Cars388.png\n",
            "\n",
            "image 1/1 C:\\Users\\nolan\\cse574proj\\data\\images\\Cars158.png: 256x320 1 license_plate, 14.9ms\n",
            "Speed: 0.9ms preprocess, 14.9ms inference, 2.4ms postprocess per image at shape (1, 3, 256, 320)\n",
            "\n",
            "image 1/1 C:\\Users\\nolan\\cse574proj\\data\\images\\Cars319.png: 288x320 1 license_plate, 16.0ms\n",
            "Speed: 1.2ms preprocess, 16.0ms inference, 3.0ms postprocess per image at shape (1, 3, 288, 320)\n",
            "\n",
            "image 1/1 C:\\Users\\nolan\\cse574proj\\data\\images\\Cars30.png: 192x320 2 license_plates, 16.7ms\n",
            "Speed: 0.8ms preprocess, 16.7ms inference, 3.0ms postprocess per image at shape (1, 3, 192, 320)\n",
            "\n",
            "image 1/1 C:\\Users\\nolan\\cse574proj\\data\\images\\Cars368.png: 256x320 1 license_plate, 16.4ms\n",
            "Speed: 3.1ms preprocess, 16.4ms inference, 4.0ms postprocess per image at shape (1, 3, 256, 320)\n",
            "\n",
            "image 1/1 C:\\Users\\nolan\\cse574proj\\data\\images\\Cars370.png: 224x320 1 license_plate, 19.3ms\n",
            "Speed: 0.9ms preprocess, 19.3ms inference, 4.8ms postprocess per image at shape (1, 3, 224, 320)\n",
            "\n",
            "image 1/1 C:\\Users\\nolan\\cse574proj\\data\\images\\Cars336.png: 256x320 1 license_plate, 27.2ms\n",
            "Speed: 1.6ms preprocess, 27.2ms inference, 2.7ms postprocess per image at shape (1, 3, 256, 320)\n",
            "\n",
            "image 1/1 C:\\Users\\nolan\\cse574proj\\data\\images\\Cars125.png: 224x320 1 license_plate, 24.8ms\n",
            "Speed: 2.0ms preprocess, 24.8ms inference, 6.2ms postprocess per image at shape (1, 3, 224, 320)\n",
            "\n",
            "image 1/1 C:\\Users\\nolan\\cse574proj\\data\\images\\Cars61.png: 256x320 1 license_plate, 30.0ms\n",
            "Speed: 1.0ms preprocess, 30.0ms inference, 1.7ms postprocess per image at shape (1, 3, 256, 320)\n",
            "\n",
            "image 1/1 C:\\Users\\nolan\\cse574proj\\data\\images\\Cars40.png: 192x320 1 license_plate, 24.9ms\n",
            "Speed: 2.3ms preprocess, 24.9ms inference, 1.8ms postprocess per image at shape (1, 3, 192, 320)\n",
            "\n",
            "image 1/1 C:\\Users\\nolan\\cse574proj\\data\\images\\Cars339.png: 192x320 1 license_plate, 31.3ms\n",
            "Speed: 0.9ms preprocess, 31.3ms inference, 3.9ms postprocess per image at shape (1, 3, 192, 320)\n",
            "\n",
            "image 1/1 C:\\Users\\nolan\\cse574proj\\data\\images\\Cars424.png: 256x320 1 license_plate, 29.4ms\n",
            "Speed: 1.0ms preprocess, 29.4ms inference, 2.6ms postprocess per image at shape (1, 3, 256, 320)\n",
            "\n",
            "image 1/1 C:\\Users\\nolan\\cse574proj\\data\\images\\Cars306.png: 320x320 1 license_plate, 30.3ms\n",
            "Speed: 1.1ms preprocess, 30.3ms inference, 1.8ms postprocess per image at shape (1, 3, 320, 320)\n",
            "\n",
            "image 1/1 C:\\Users\\nolan\\cse574proj\\data\\images\\Cars88.png: 256x320 1 license_plate, 24.0ms\n",
            "Speed: 0.9ms preprocess, 24.0ms inference, 2.6ms postprocess per image at shape (1, 3, 256, 320)\n",
            "\n",
            "image 1/1 C:\\Users\\nolan\\cse574proj\\data\\images\\Cars109.png: 224x320 1 license_plate, 30.0ms\n",
            "Speed: 1.0ms preprocess, 30.0ms inference, 1.7ms postprocess per image at shape (1, 3, 224, 320)\n",
            "\n",
            "image 1/1 C:\\Users\\nolan\\cse574proj\\data\\images\\Cars19.png: 192x320 1 license_plate, 42.5ms\n",
            "Speed: 1.1ms preprocess, 42.5ms inference, 4.5ms postprocess per image at shape (1, 3, 192, 320)\n",
            "\n",
            "image 1/1 C:\\Users\\nolan\\cse574proj\\data\\images\\Cars159.png: 288x320 1 license_plate, 29.2ms\n",
            "Speed: 1.5ms preprocess, 29.2ms inference, 3.7ms postprocess per image at shape (1, 3, 288, 320)\n",
            "\n",
            "image 1/1 C:\\Users\\nolan\\cse574proj\\data\\images\\Cars144.png: 288x320 1 license_plate, 21.5ms\n",
            "Speed: 1.6ms preprocess, 21.5ms inference, 4.6ms postprocess per image at shape (1, 3, 288, 320)\n",
            "\n",
            "image 1/1 C:\\Users\\nolan\\cse574proj\\data\\images\\Cars114.png: 192x320 1 license_plate, 19.9ms\n",
            "Speed: 1.0ms preprocess, 19.9ms inference, 3.8ms postprocess per image at shape (1, 3, 192, 320)\n",
            "\n",
            "image 1/1 C:\\Users\\nolan\\cse574proj\\data\\images\\Cars42.png: 192x320 1 license_plate, 22.2ms\n",
            "Speed: 0.9ms preprocess, 22.2ms inference, 4.5ms postprocess per image at shape (1, 3, 192, 320)\n",
            "\n",
            "image 1/1 C:\\Users\\nolan\\cse574proj\\data\\images\\Cars372.png: 256x320 1 license_plate, 21.1ms\n",
            "Speed: 1.1ms preprocess, 21.1ms inference, 5.6ms postprocess per image at shape (1, 3, 256, 320)\n",
            "\n",
            "image 1/1 C:\\Users\\nolan\\cse574proj\\data\\images\\Cars193.png: 224x320 1 license_plate, 18.9ms\n",
            "Speed: 1.1ms preprocess, 18.9ms inference, 1.9ms postprocess per image at shape (1, 3, 224, 320)\n",
            "\n",
            "image 1/1 C:\\Users\\nolan\\cse574proj\\data\\images\\Cars357.png: 224x320 1 license_plate, 25.9ms\n",
            "Speed: 1.8ms preprocess, 25.9ms inference, 6.7ms postprocess per image at shape (1, 3, 224, 320)\n"
          ]
        }
      ],
      "source": [
        "import cv2\n",
        "import pytesseract\n",
        "import pandas as pd\n",
        "import re\n",
        "\n",
        "# Optional: Set Tesseract executable path if needed (for Windows)\n",
        "# pytesseract.pytesseract.tesseract_cmd = r'C:\\Program Files\\Tesseract-OCR\\tesseract.exe'\n",
        "\n",
        "def extract_text_from_roi(image_path, xmin, xmax, ymin, ymax):\n",
        "    img = cv2.imread(image_path)\n",
        "\n",
        "    if img is None:\n",
        "        print(f\"⚠️ Failed to load image: {image_path}\")\n",
        "        return \"\"\n",
        "\n",
        "    h, w = img.shape[:2]\n",
        "\n",
        "    # Clamp coordinates to image bounds\n",
        "    xmin, xmax = max(0, xmin), min(w, xmax)\n",
        "    ymin, ymax = max(0, ymin), min(h, ymax)\n",
        "\n",
        "    if xmax <= xmin or ymax <= ymin:\n",
        "        print(f\"⚠️ Invalid bounding box: {(xmin, xmax, ymin, ymax)}\")\n",
        "        return \"\"\n",
        "\n",
        "    roi = img[ymin:ymax, xmin:xmax]\n",
        "\n",
        "    if roi is None or roi.size == 0 or roi.shape[0] < 10 or roi.shape[1] < 10:\n",
        "        print(f\"⚠️ Skipping empty/too-small ROI at {image_path}\")\n",
        "        return \"\"\n",
        "\n",
        "    # Convert to grayscale\n",
        "    gray = cv2.cvtColor(roi, cv2.COLOR_BGR2GRAY)\n",
        "\n",
        "    # Resize (double size)\n",
        "    gray = cv2.resize(gray, (gray.shape[1]*2, gray.shape[0]*2), interpolation=cv2.INTER_CUBIC)\n",
        "\n",
        "    # Apply adaptive thresholding\n",
        "    thresh = cv2.adaptiveThreshold(\n",
        "        gray, 255, cv2.ADAPTIVE_THRESH_GAUSSIAN_C,\n",
        "        cv2.THRESH_BINARY, 11, 2\n",
        "    )\n",
        "\n",
        "    # OCR config\n",
        "    config = '--psm 6 -c tessedit_char_whitelist=ABCDEFGHIJKLMNOPQRSTUVWXYZ0123456789'\n",
        "\n",
        "    # OCR\n",
        "    text = pytesseract.image_to_string(thresh, config=config)\n",
        "\n",
        "    return text.strip()\n",
        "\n",
        "def extract_text_from_predicted_roi(image_path, model=model_12):\n",
        "    results = model.predict(image_path, device='cuda')\n",
        "    result = results[0]\n",
        "    image = cv2.imread(image_path)\n",
        "    image = cv2.cvtColor(image, cv2.COLOR_BGR2RGB)\n",
        "    # Check if any boxes were detected\n",
        "    if not hasattr(result, 'boxes') or result.boxes is None or len(result.boxes) == 0:\n",
        "        print(f\"⚠️ No license plate detected in {image_path}\")\n",
        "        return \"\"\n",
        "\n",
        "    box = result.boxes[0]  # Just get the first (and only) box\n",
        "    xmin, ymin, xmax, ymax = map(int, box.xyxy[0])\n",
        "\n",
        "# Now you can crop or run OCR\n",
        "    roi = image[ymin:ymax, xmin:xmax]\n",
        "\n",
        "    if img is None:\n",
        "        print(f\"⚠️ Failed to load image: {image_path}\")\n",
        "        return \"\"\n",
        "\n",
        "    # Convert to grayscale\n",
        "    gray = cv2.cvtColor(roi, cv2.COLOR_BGR2GRAY)\n",
        "\n",
        "    # Resize (double size)\n",
        "    gray = cv2.resize(gray, (gray.shape[1]*2, gray.shape[0]*2), interpolation=cv2.INTER_CUBIC)\n",
        "\n",
        "    # Apply adaptive thresholding\n",
        "    thresh = cv2.adaptiveThreshold(\n",
        "        gray, 255, cv2.ADAPTIVE_THRESH_GAUSSIAN_C,\n",
        "        cv2.THRESH_BINARY, 11, 2\n",
        "    )\n",
        "\n",
        "    # OCR config\n",
        "    config = '--psm 11 -c tessedit_char_whitelist=ABCDEFGHIJKLMNOPQRSTUVWXYZ0123456789'\n",
        "\n",
        "    # OCR\n",
        "    text = pytesseract.image_to_string(thresh, config=config)\n",
        "\n",
        "    return text.strip()\n",
        "\n",
        "# Assuming 'test' is your DataFrame with correct columns\n",
        "texts = []\n",
        "pred_texts = []\n",
        "test2 = test.copy()\n",
        "\n",
        "for _, row in test2.iterrows():\n",
        "    text = extract_text_from_roi(\n",
        "        row['img_path'],\n",
        "        int(row['xmin']),\n",
        "        int(row['xmax']),\n",
        "        int(row['ymin']),\n",
        "        int(row['ymax'])\n",
        "    )\n",
        "    pred_text = extract_text_from_predicted_roi(row['img_path'], model_12)\n",
        "    texts.append(re.sub(r'\\s+', '', text))\n",
        "    pred_texts.append(re.sub(r'\\s+', '', pred_text))\n",
        "\n",
        "# Add the extracted text column to the dataframe\n",
        "test2['text'] = texts\n",
        "test2['pred_text'] = pred_texts"
      ]
    },
    {
      "cell_type": "code",
      "execution_count": 42,
      "metadata": {},
      "outputs": [
        {
          "data": {
            "text/html": [
              "<div>\n",
              "<style scoped>\n",
              "    .dataframe tbody tr th:only-of-type {\n",
              "        vertical-align: middle;\n",
              "    }\n",
              "\n",
              "    .dataframe tbody tr th {\n",
              "        vertical-align: top;\n",
              "    }\n",
              "\n",
              "    .dataframe thead th {\n",
              "        text-align: right;\n",
              "    }\n",
              "</style>\n",
              "<table border=\"1\" class=\"dataframe\">\n",
              "  <thead>\n",
              "    <tr style=\"text-align: right;\">\n",
              "      <th></th>\n",
              "      <th>img_path</th>\n",
              "      <th>xmin</th>\n",
              "      <th>xmax</th>\n",
              "      <th>ymin</th>\n",
              "      <th>ymax</th>\n",
              "      <th>img_w</th>\n",
              "      <th>img_h</th>\n",
              "      <th>text</th>\n",
              "      <th>pred_text</th>\n",
              "    </tr>\n",
              "  </thead>\n",
              "  <tbody>\n",
              "    <tr>\n",
              "      <th>423</th>\n",
              "      <td>C:\\Users\\nolan\\cse574proj\\data\\images\\Cars90.png</td>\n",
              "      <td>77</td>\n",
              "      <td>101</td>\n",
              "      <td>204</td>\n",
              "      <td>225</td>\n",
              "      <td>400</td>\n",
              "      <td>300</td>\n",
              "      <td></td>\n",
              "      <td></td>\n",
              "    </tr>\n",
              "    <tr>\n",
              "      <th>234</th>\n",
              "      <td>C:\\Users\\nolan\\cse574proj\\data\\images\\Cars309.png</td>\n",
              "      <td>152</td>\n",
              "      <td>252</td>\n",
              "      <td>122</td>\n",
              "      <td>207</td>\n",
              "      <td>400</td>\n",
              "      <td>225</td>\n",
              "      <td></td>\n",
              "      <td>Q</td>\n",
              "    </tr>\n",
              "    <tr>\n",
              "      <th>165</th>\n",
              "      <td>C:\\Users\\nolan\\cse574proj\\data\\images\\Cars247.png</td>\n",
              "      <td>147</td>\n",
              "      <td>300</td>\n",
              "      <td>11</td>\n",
              "      <td>149</td>\n",
              "      <td>400</td>\n",
              "      <td>225</td>\n",
              "      <td>CEA</td>\n",
              "      <td>365ZVACIS</td>\n",
              "    </tr>\n",
              "    <tr>\n",
              "      <th>29</th>\n",
              "      <td>C:\\Users\\nolan\\cse574proj\\data\\images\\Cars124.png</td>\n",
              "      <td>305</td>\n",
              "      <td>320</td>\n",
              "      <td>256</td>\n",
              "      <td>267</td>\n",
              "      <td>400</td>\n",
              "      <td>267</td>\n",
              "      <td>9</td>\n",
              "      <td></td>\n",
              "    </tr>\n",
              "    <tr>\n",
              "      <th>388</th>\n",
              "      <td>C:\\Users\\nolan\\cse574proj\\data\\images\\Cars59.png</td>\n",
              "      <td>324</td>\n",
              "      <td>375</td>\n",
              "      <td>162</td>\n",
              "      <td>175</td>\n",
              "      <td>400</td>\n",
              "      <td>300</td>\n",
              "      <td>2GP</td>\n",
              "      <td>WM</td>\n",
              "    </tr>\n",
              "    <tr>\n",
              "      <th>424</th>\n",
              "      <td>C:\\Users\\nolan\\cse574proj\\data\\images\\Cars91.png</td>\n",
              "      <td>269</td>\n",
              "      <td>317</td>\n",
              "      <td>170</td>\n",
              "      <td>189</td>\n",
              "      <td>400</td>\n",
              "      <td>253</td>\n",
              "      <td>SOLU</td>\n",
              "      <td>AMO</td>\n",
              "    </tr>\n",
              "    <tr>\n",
              "      <th>361</th>\n",
              "      <td>C:\\Users\\nolan\\cse574proj\\data\\images\\Cars423.png</td>\n",
              "      <td>162</td>\n",
              "      <td>283</td>\n",
              "      <td>159</td>\n",
              "      <td>183</td>\n",
              "      <td>400</td>\n",
              "      <td>250</td>\n",
              "      <td>LP3RVP</td>\n",
              "      <td>TRARDIPIRVP</td>\n",
              "    </tr>\n",
              "    <tr>\n",
              "      <th>0</th>\n",
              "      <td>C:\\Users\\nolan\\cse574proj\\data\\images\\Cars0.png</td>\n",
              "      <td>226</td>\n",
              "      <td>419</td>\n",
              "      <td>125</td>\n",
              "      <td>173</td>\n",
              "      <td>500</td>\n",
              "      <td>268</td>\n",
              "      <td></td>\n",
              "      <td>SF2550</td>\n",
              "    </tr>\n",
              "    <tr>\n",
              "      <th>79</th>\n",
              "      <td>C:\\Users\\nolan\\cse574proj\\data\\images\\Cars17.png</td>\n",
              "      <td>306</td>\n",
              "      <td>351</td>\n",
              "      <td>188</td>\n",
              "      <td>205</td>\n",
              "      <td>400</td>\n",
              "      <td>267</td>\n",
              "      <td></td>\n",
              "      <td></td>\n",
              "    </tr>\n",
              "    <tr>\n",
              "      <th>114</th>\n",
              "      <td>C:\\Users\\nolan\\cse574proj\\data\\images\\Cars200.png</td>\n",
              "      <td>95</td>\n",
              "      <td>195</td>\n",
              "      <td>189</td>\n",
              "      <td>217</td>\n",
              "      <td>400</td>\n",
              "      <td>246</td>\n",
              "      <td>MNLO3TABIES380</td>\n",
              "      <td>KAYABMS380</td>\n",
              "    </tr>\n",
              "    <tr>\n",
              "      <th>71</th>\n",
              "      <td>C:\\Users\\nolan\\cse574proj\\data\\images\\Cars162.png</td>\n",
              "      <td>201</td>\n",
              "      <td>268</td>\n",
              "      <td>168</td>\n",
              "      <td>213</td>\n",
              "      <td>560</td>\n",
              "      <td>315</td>\n",
              "      <td></td>\n",
              "      <td></td>\n",
              "    </tr>\n",
              "    <tr>\n",
              "      <th>35</th>\n",
              "      <td>C:\\Users\\nolan\\cse574proj\\data\\images\\Cars13.png</td>\n",
              "      <td>191</td>\n",
              "      <td>242</td>\n",
              "      <td>147</td>\n",
              "      <td>169</td>\n",
              "      <td>400</td>\n",
              "      <td>268</td>\n",
              "      <td></td>\n",
              "      <td>R2161N</td>\n",
              "    </tr>\n",
              "    <tr>\n",
              "      <th>333</th>\n",
              "      <td>C:\\Users\\nolan\\cse574proj\\data\\images\\Cars399.png</td>\n",
              "      <td>106</td>\n",
              "      <td>309</td>\n",
              "      <td>62</td>\n",
              "      <td>161</td>\n",
              "      <td>400</td>\n",
              "      <td>225</td>\n",
              "      <td></td>\n",
              "      <td>CLAM0</td>\n",
              "    </tr>\n",
              "    <tr>\n",
              "      <th>288</th>\n",
              "      <td>C:\\Users\\nolan\\cse574proj\\data\\images\\Cars358.png</td>\n",
              "      <td>44</td>\n",
              "      <td>107</td>\n",
              "      <td>94</td>\n",
              "      <td>107</td>\n",
              "      <td>400</td>\n",
              "      <td>200</td>\n",
              "      <td>PZ62FDX</td>\n",
              "      <td>PZ62FDZ</td>\n",
              "    </tr>\n",
              "    <tr>\n",
              "      <th>323</th>\n",
              "      <td>C:\\Users\\nolan\\cse574proj\\data\\images\\Cars39.png</td>\n",
              "      <td>225</td>\n",
              "      <td>328</td>\n",
              "      <td>180</td>\n",
              "      <td>213</td>\n",
              "      <td>400</td>\n",
              "      <td>300</td>\n",
              "      <td>HH15BD8877</td>\n",
              "      <td>IMH15BD0877</td>\n",
              "    </tr>\n",
              "    <tr>\n",
              "      <th>227</th>\n",
              "      <td>C:\\Users\\nolan\\cse574proj\\data\\images\\Cars302.png</td>\n",
              "      <td>222</td>\n",
              "      <td>425</td>\n",
              "      <td>98</td>\n",
              "      <td>149</td>\n",
              "      <td>500</td>\n",
              "      <td>234</td>\n",
              "      <td>V010680</td>\n",
              "      <td></td>\n",
              "    </tr>\n",
              "    <tr>\n",
              "      <th>432</th>\n",
              "      <td>C:\\Users\\nolan\\cse574proj\\data\\images\\Cars99.png</td>\n",
              "      <td>70</td>\n",
              "      <td>262</td>\n",
              "      <td>198</td>\n",
              "      <td>271</td>\n",
              "      <td>375</td>\n",
              "      <td>500</td>\n",
              "      <td>2668</td>\n",
              "      <td></td>\n",
              "    </tr>\n",
              "    <tr>\n",
              "      <th>78</th>\n",
              "      <td>C:\\Users\\nolan\\cse574proj\\data\\images\\Cars169.png</td>\n",
              "      <td>114</td>\n",
              "      <td>229</td>\n",
              "      <td>79</td>\n",
              "      <td>101</td>\n",
              "      <td>400</td>\n",
              "      <td>200</td>\n",
              "      <td></td>\n",
              "      <td>PRI</td>\n",
              "    </tr>\n",
              "    <tr>\n",
              "      <th>7</th>\n",
              "      <td>C:\\Users\\nolan\\cse574proj\\data\\images\\Cars104.png</td>\n",
              "      <td>195</td>\n",
              "      <td>244</td>\n",
              "      <td>266</td>\n",
              "      <td>282</td>\n",
              "      <td>500</td>\n",
              "      <td>374</td>\n",
              "      <td>ARUGOLXB</td>\n",
              "      <td>3</td>\n",
              "    </tr>\n",
              "    <tr>\n",
              "      <th>44</th>\n",
              "      <td>C:\\Users\\nolan\\cse574proj\\data\\images\\Cars138.png</td>\n",
              "      <td>153</td>\n",
              "      <td>254</td>\n",
              "      <td>141</td>\n",
              "      <td>185</td>\n",
              "      <td>400</td>\n",
              "      <td>301</td>\n",
              "      <td></td>\n",
              "      <td>M6UCHNOZIB12</td>\n",
              "    </tr>\n",
              "    <tr>\n",
              "      <th>27</th>\n",
              "      <td>C:\\Users\\nolan\\cse574proj\\data\\images\\Cars122.png</td>\n",
              "      <td>195</td>\n",
              "      <td>254</td>\n",
              "      <td>147</td>\n",
              "      <td>169</td>\n",
              "      <td>400</td>\n",
              "      <td>300</td>\n",
              "      <td>HANISA</td>\n",
              "      <td>HANISA</td>\n",
              "    </tr>\n",
              "    <tr>\n",
              "      <th>321</th>\n",
              "      <td>C:\\Users\\nolan\\cse574proj\\data\\images\\Cars388.png</td>\n",
              "      <td>149</td>\n",
              "      <td>255</td>\n",
              "      <td>130</td>\n",
              "      <td>158</td>\n",
              "      <td>400</td>\n",
              "      <td>300</td>\n",
              "      <td></td>\n",
              "      <td></td>\n",
              "    </tr>\n",
              "    <tr>\n",
              "      <th>66</th>\n",
              "      <td>C:\\Users\\nolan\\cse574proj\\data\\images\\Cars158.png</td>\n",
              "      <td>97</td>\n",
              "      <td>296</td>\n",
              "      <td>118</td>\n",
              "      <td>210</td>\n",
              "      <td>400</td>\n",
              "      <td>300</td>\n",
              "      <td>GENTROAMERICAES</td>\n",
              "      <td>4SS208GENTROAMERICA</td>\n",
              "    </tr>\n",
              "    <tr>\n",
              "      <th>245</th>\n",
              "      <td>C:\\Users\\nolan\\cse574proj\\data\\images\\Cars319.png</td>\n",
              "      <td>167</td>\n",
              "      <td>232</td>\n",
              "      <td>228</td>\n",
              "      <td>259</td>\n",
              "      <td>400</td>\n",
              "      <td>342</td>\n",
              "      <td>TEALLYOU</td>\n",
              "      <td></td>\n",
              "    </tr>\n",
              "    <tr>\n",
              "      <th>224</th>\n",
              "      <td>C:\\Users\\nolan\\cse574proj\\data\\images\\Cars30.png</td>\n",
              "      <td>155</td>\n",
              "      <td>200</td>\n",
              "      <td>169</td>\n",
              "      <td>182</td>\n",
              "      <td>400</td>\n",
              "      <td>240</td>\n",
              "      <td>PASS46</td>\n",
              "      <td>TSBAIOS4AN</td>\n",
              "    </tr>\n",
              "    <tr>\n",
              "      <th>299</th>\n",
              "      <td>C:\\Users\\nolan\\cse574proj\\data\\images\\Cars368.png</td>\n",
              "      <td>173</td>\n",
              "      <td>223</td>\n",
              "      <td>173</td>\n",
              "      <td>203</td>\n",
              "      <td>400</td>\n",
              "      <td>300</td>\n",
              "      <td></td>\n",
              "      <td>3</td>\n",
              "    </tr>\n",
              "    <tr>\n",
              "      <th>302</th>\n",
              "      <td>C:\\Users\\nolan\\cse574proj\\data\\images\\Cars370.png</td>\n",
              "      <td>285</td>\n",
              "      <td>425</td>\n",
              "      <td>249</td>\n",
              "      <td>276</td>\n",
              "      <td>435</td>\n",
              "      <td>290</td>\n",
              "      <td>7EHO1ANO0001</td>\n",
              "      <td>B0001</td>\n",
              "    </tr>\n",
              "    <tr>\n",
              "      <th>264</th>\n",
              "      <td>C:\\Users\\nolan\\cse574proj\\data\\images\\Cars336.png</td>\n",
              "      <td>122</td>\n",
              "      <td>265</td>\n",
              "      <td>195</td>\n",
              "      <td>234</td>\n",
              "      <td>400</td>\n",
              "      <td>300</td>\n",
              "      <td>GPL8X4850</td>\n",
              "      <td>JDL8CX4850</td>\n",
              "    </tr>\n",
              "    <tr>\n",
              "      <th>30</th>\n",
              "      <td>C:\\Users\\nolan\\cse574proj\\data\\images\\Cars125.png</td>\n",
              "      <td>280</td>\n",
              "      <td>355</td>\n",
              "      <td>196</td>\n",
              "      <td>257</td>\n",
              "      <td>400</td>\n",
              "      <td>260</td>\n",
              "      <td>86885</td>\n",
              "      <td>RP</td>\n",
              "    </tr>\n",
              "    <tr>\n",
              "      <th>391</th>\n",
              "      <td>C:\\Users\\nolan\\cse574proj\\data\\images\\Cars61.png</td>\n",
              "      <td>71</td>\n",
              "      <td>198</td>\n",
              "      <td>124</td>\n",
              "      <td>231</td>\n",
              "      <td>400</td>\n",
              "      <td>300</td>\n",
              "      <td></td>\n",
              "      <td>43</td>\n",
              "    </tr>\n",
              "    <tr>\n",
              "      <th>335</th>\n",
              "      <td>C:\\Users\\nolan\\cse574proj\\data\\images\\Cars40.png</td>\n",
              "      <td>261</td>\n",
              "      <td>317</td>\n",
              "      <td>186</td>\n",
              "      <td>211</td>\n",
              "      <td>400</td>\n",
              "      <td>225</td>\n",
              "      <td>S710EYIP32</td>\n",
              "      <td>9VI232A</td>\n",
              "    </tr>\n",
              "    <tr>\n",
              "      <th>267</th>\n",
              "      <td>C:\\Users\\nolan\\cse574proj\\data\\images\\Cars339.png</td>\n",
              "      <td>209</td>\n",
              "      <td>283</td>\n",
              "      <td>135</td>\n",
              "      <td>169</td>\n",
              "      <td>500</td>\n",
              "      <td>300</td>\n",
              "      <td></td>\n",
              "      <td></td>\n",
              "    </tr>\n",
              "    <tr>\n",
              "      <th>362</th>\n",
              "      <td>C:\\Users\\nolan\\cse574proj\\data\\images\\Cars424.png</td>\n",
              "      <td>128</td>\n",
              "      <td>461</td>\n",
              "      <td>173</td>\n",
              "      <td>242</td>\n",
              "      <td>600</td>\n",
              "      <td>450</td>\n",
              "      <td>RSSTRMWWHA</td>\n",
              "      <td>BHBL</td>\n",
              "    </tr>\n",
              "    <tr>\n",
              "      <th>231</th>\n",
              "      <td>C:\\Users\\nolan\\cse574proj\\data\\images\\Cars306.png</td>\n",
              "      <td>139</td>\n",
              "      <td>249</td>\n",
              "      <td>282</td>\n",
              "      <td>310</td>\n",
              "      <td>400</td>\n",
              "      <td>400</td>\n",
              "      <td>LAWYER</td>\n",
              "      <td></td>\n",
              "    </tr>\n",
              "    <tr>\n",
              "      <th>420</th>\n",
              "      <td>C:\\Users\\nolan\\cse574proj\\data\\images\\Cars88.png</td>\n",
              "      <td>168</td>\n",
              "      <td>242</td>\n",
              "      <td>148</td>\n",
              "      <td>171</td>\n",
              "      <td>400</td>\n",
              "      <td>300</td>\n",
              "      <td>CNHWST</td>\n",
              "      <td>HILLST</td>\n",
              "    </tr>\n",
              "    <tr>\n",
              "      <th>12</th>\n",
              "      <td>C:\\Users\\nolan\\cse574proj\\data\\images\\Cars109.png</td>\n",
              "      <td>115</td>\n",
              "      <td>278</td>\n",
              "      <td>116</td>\n",
              "      <td>153</td>\n",
              "      <td>400</td>\n",
              "      <td>267</td>\n",
              "      <td>CZI7KOD</td>\n",
              "      <td>FECZI7KOD</td>\n",
              "    </tr>\n",
              "    <tr>\n",
              "      <th>101</th>\n",
              "      <td>C:\\Users\\nolan\\cse574proj\\data\\images\\Cars19.png</td>\n",
              "      <td>148</td>\n",
              "      <td>221</td>\n",
              "      <td>195</td>\n",
              "      <td>232</td>\n",
              "      <td>400</td>\n",
              "      <td>240</td>\n",
              "      <td></td>\n",
              "      <td></td>\n",
              "    </tr>\n",
              "    <tr>\n",
              "      <th>67</th>\n",
              "      <td>C:\\Users\\nolan\\cse574proj\\data\\images\\Cars159.png</td>\n",
              "      <td>149</td>\n",
              "      <td>261</td>\n",
              "      <td>184</td>\n",
              "      <td>211</td>\n",
              "      <td>400</td>\n",
              "      <td>332</td>\n",
              "      <td>ADL7CN5617</td>\n",
              "      <td>DL7CN5617</td>\n",
              "    </tr>\n",
              "    <tr>\n",
              "      <th>51</th>\n",
              "      <td>C:\\Users\\nolan\\cse574proj\\data\\images\\Cars144.png</td>\n",
              "      <td>101</td>\n",
              "      <td>215</td>\n",
              "      <td>114</td>\n",
              "      <td>154</td>\n",
              "      <td>320</td>\n",
              "      <td>260</td>\n",
              "      <td>M</td>\n",
              "      <td></td>\n",
              "    </tr>\n",
              "    <tr>\n",
              "      <th>18</th>\n",
              "      <td>C:\\Users\\nolan\\cse574proj\\data\\images\\Cars114.png</td>\n",
              "      <td>7</td>\n",
              "      <td>493</td>\n",
              "      <td>16</td>\n",
              "      <td>256</td>\n",
              "      <td>500</td>\n",
              "      <td>300</td>\n",
              "      <td>RAASAY</td>\n",
              "      <td>YT55A47BSOSFJE</td>\n",
              "    </tr>\n",
              "    <tr>\n",
              "      <th>357</th>\n",
              "      <td>C:\\Users\\nolan\\cse574proj\\data\\images\\Cars42.png</td>\n",
              "      <td>177</td>\n",
              "      <td>217</td>\n",
              "      <td>140</td>\n",
              "      <td>159</td>\n",
              "      <td>400</td>\n",
              "      <td>225</td>\n",
              "      <td>BYHM136</td>\n",
              "      <td></td>\n",
              "    </tr>\n",
              "    <tr>\n",
              "      <th>304</th>\n",
              "      <td>C:\\Users\\nolan\\cse574proj\\data\\images\\Cars372.png</td>\n",
              "      <td>221</td>\n",
              "      <td>353</td>\n",
              "      <td>275</td>\n",
              "      <td>309</td>\n",
              "      <td>560</td>\n",
              "      <td>420</td>\n",
              "      <td></td>\n",
              "      <td>R285</td>\n",
              "    </tr>\n",
              "    <tr>\n",
              "      <th>105</th>\n",
              "      <td>C:\\Users\\nolan\\cse574proj\\data\\images\\Cars193.png</td>\n",
              "      <td>306</td>\n",
              "      <td>344</td>\n",
              "      <td>193</td>\n",
              "      <td>214</td>\n",
              "      <td>400</td>\n",
              "      <td>267</td>\n",
              "      <td></td>\n",
              "      <td></td>\n",
              "    </tr>\n",
              "    <tr>\n",
              "      <th>287</th>\n",
              "      <td>C:\\Users\\nolan\\cse574proj\\data\\images\\Cars357.png</td>\n",
              "      <td>92</td>\n",
              "      <td>137</td>\n",
              "      <td>187</td>\n",
              "      <td>207</td>\n",
              "      <td>400</td>\n",
              "      <td>267</td>\n",
              "      <td>JCOTS</td>\n",
              "      <td>EKOR</td>\n",
              "    </tr>\n",
              "  </tbody>\n",
              "</table>\n",
              "</div>"
            ],
            "text/plain": [
              "                                              img_path  xmin  xmax  ymin  \\\n",
              "423   C:\\Users\\nolan\\cse574proj\\data\\images\\Cars90.png    77   101   204   \n",
              "234  C:\\Users\\nolan\\cse574proj\\data\\images\\Cars309.png   152   252   122   \n",
              "165  C:\\Users\\nolan\\cse574proj\\data\\images\\Cars247.png   147   300    11   \n",
              "29   C:\\Users\\nolan\\cse574proj\\data\\images\\Cars124.png   305   320   256   \n",
              "388   C:\\Users\\nolan\\cse574proj\\data\\images\\Cars59.png   324   375   162   \n",
              "424   C:\\Users\\nolan\\cse574proj\\data\\images\\Cars91.png   269   317   170   \n",
              "361  C:\\Users\\nolan\\cse574proj\\data\\images\\Cars423.png   162   283   159   \n",
              "0      C:\\Users\\nolan\\cse574proj\\data\\images\\Cars0.png   226   419   125   \n",
              "79    C:\\Users\\nolan\\cse574proj\\data\\images\\Cars17.png   306   351   188   \n",
              "114  C:\\Users\\nolan\\cse574proj\\data\\images\\Cars200.png    95   195   189   \n",
              "71   C:\\Users\\nolan\\cse574proj\\data\\images\\Cars162.png   201   268   168   \n",
              "35    C:\\Users\\nolan\\cse574proj\\data\\images\\Cars13.png   191   242   147   \n",
              "333  C:\\Users\\nolan\\cse574proj\\data\\images\\Cars399.png   106   309    62   \n",
              "288  C:\\Users\\nolan\\cse574proj\\data\\images\\Cars358.png    44   107    94   \n",
              "323   C:\\Users\\nolan\\cse574proj\\data\\images\\Cars39.png   225   328   180   \n",
              "227  C:\\Users\\nolan\\cse574proj\\data\\images\\Cars302.png   222   425    98   \n",
              "432   C:\\Users\\nolan\\cse574proj\\data\\images\\Cars99.png    70   262   198   \n",
              "78   C:\\Users\\nolan\\cse574proj\\data\\images\\Cars169.png   114   229    79   \n",
              "7    C:\\Users\\nolan\\cse574proj\\data\\images\\Cars104.png   195   244   266   \n",
              "44   C:\\Users\\nolan\\cse574proj\\data\\images\\Cars138.png   153   254   141   \n",
              "27   C:\\Users\\nolan\\cse574proj\\data\\images\\Cars122.png   195   254   147   \n",
              "321  C:\\Users\\nolan\\cse574proj\\data\\images\\Cars388.png   149   255   130   \n",
              "66   C:\\Users\\nolan\\cse574proj\\data\\images\\Cars158.png    97   296   118   \n",
              "245  C:\\Users\\nolan\\cse574proj\\data\\images\\Cars319.png   167   232   228   \n",
              "224   C:\\Users\\nolan\\cse574proj\\data\\images\\Cars30.png   155   200   169   \n",
              "299  C:\\Users\\nolan\\cse574proj\\data\\images\\Cars368.png   173   223   173   \n",
              "302  C:\\Users\\nolan\\cse574proj\\data\\images\\Cars370.png   285   425   249   \n",
              "264  C:\\Users\\nolan\\cse574proj\\data\\images\\Cars336.png   122   265   195   \n",
              "30   C:\\Users\\nolan\\cse574proj\\data\\images\\Cars125.png   280   355   196   \n",
              "391   C:\\Users\\nolan\\cse574proj\\data\\images\\Cars61.png    71   198   124   \n",
              "335   C:\\Users\\nolan\\cse574proj\\data\\images\\Cars40.png   261   317   186   \n",
              "267  C:\\Users\\nolan\\cse574proj\\data\\images\\Cars339.png   209   283   135   \n",
              "362  C:\\Users\\nolan\\cse574proj\\data\\images\\Cars424.png   128   461   173   \n",
              "231  C:\\Users\\nolan\\cse574proj\\data\\images\\Cars306.png   139   249   282   \n",
              "420   C:\\Users\\nolan\\cse574proj\\data\\images\\Cars88.png   168   242   148   \n",
              "12   C:\\Users\\nolan\\cse574proj\\data\\images\\Cars109.png   115   278   116   \n",
              "101   C:\\Users\\nolan\\cse574proj\\data\\images\\Cars19.png   148   221   195   \n",
              "67   C:\\Users\\nolan\\cse574proj\\data\\images\\Cars159.png   149   261   184   \n",
              "51   C:\\Users\\nolan\\cse574proj\\data\\images\\Cars144.png   101   215   114   \n",
              "18   C:\\Users\\nolan\\cse574proj\\data\\images\\Cars114.png     7   493    16   \n",
              "357   C:\\Users\\nolan\\cse574proj\\data\\images\\Cars42.png   177   217   140   \n",
              "304  C:\\Users\\nolan\\cse574proj\\data\\images\\Cars372.png   221   353   275   \n",
              "105  C:\\Users\\nolan\\cse574proj\\data\\images\\Cars193.png   306   344   193   \n",
              "287  C:\\Users\\nolan\\cse574proj\\data\\images\\Cars357.png    92   137   187   \n",
              "\n",
              "     ymax  img_w  img_h             text            pred_text  \n",
              "423   225    400    300                                        \n",
              "234   207    400    225                                     Q  \n",
              "165   149    400    225              CEA            365ZVACIS  \n",
              "29    267    400    267                9                       \n",
              "388   175    400    300              2GP                   WM  \n",
              "424   189    400    253             SOLU                  AMO  \n",
              "361   183    400    250           LP3RVP          TRARDIPIRVP  \n",
              "0     173    500    268                                SF2550  \n",
              "79    205    400    267                                        \n",
              "114   217    400    246   MNLO3TABIES380           KAYABMS380  \n",
              "71    213    560    315                                        \n",
              "35    169    400    268                                R2161N  \n",
              "333   161    400    225                                 CLAM0  \n",
              "288   107    400    200          PZ62FDX              PZ62FDZ  \n",
              "323   213    400    300       HH15BD8877          IMH15BD0877  \n",
              "227   149    500    234          V010680                       \n",
              "432   271    375    500             2668                       \n",
              "78    101    400    200                                   PRI  \n",
              "7     282    500    374         ARUGOLXB                    3  \n",
              "44    185    400    301                          M6UCHNOZIB12  \n",
              "27    169    400    300           HANISA               HANISA  \n",
              "321   158    400    300                                        \n",
              "66    210    400    300  GENTROAMERICAES  4SS208GENTROAMERICA  \n",
              "245   259    400    342         TEALLYOU                       \n",
              "224   182    400    240           PASS46           TSBAIOS4AN  \n",
              "299   203    400    300                                     3  \n",
              "302   276    435    290     7EHO1ANO0001                B0001  \n",
              "264   234    400    300        GPL8X4850           JDL8CX4850  \n",
              "30    257    400    260            86885                   RP  \n",
              "391   231    400    300                                    43  \n",
              "335   211    400    225       S710EYIP32              9VI232A  \n",
              "267   169    500    300                                        \n",
              "362   242    600    450       RSSTRMWWHA                 BHBL  \n",
              "231   310    400    400           LAWYER                       \n",
              "420   171    400    300           CNHWST               HILLST  \n",
              "12    153    400    267          CZI7KOD            FECZI7KOD  \n",
              "101   232    400    240                                        \n",
              "67    211    400    332       ADL7CN5617            DL7CN5617  \n",
              "51    154    320    260                M                       \n",
              "18    256    500    300           RAASAY       YT55A47BSOSFJE  \n",
              "357   159    400    225          BYHM136                       \n",
              "304   309    560    420                                  R285  \n",
              "105   214    400    267                                        \n",
              "287   207    400    267            JCOTS                 EKOR  "
            ]
          },
          "execution_count": 42,
          "metadata": {},
          "output_type": "execute_result"
        }
      ],
      "source": [
        "test2"
      ]
    },
    {
      "cell_type": "code",
      "execution_count": null,
      "metadata": {},
      "outputs": [],
      "source": [
        "truth = [\n",
        "    '',\n",
        "    'EAB0001',\n",
        "    'TN37C52765',\n",
        "    '',\n",
        "    'MH45P1651',\n",
        "    '30461C',\n",
        "    'P3RVP',\n",
        "    'KLO1CA2555',\n",
        "    'YSX213',\n",
        "    'KA03AB3380',\n",
        "    'MH0BB5992',\n",
        "    'BJR216',\n",
        "    '0X65AWD',\n",
        "    'PZ62FDZ',\n",
        "    'MH15BD8877',\n",
        "    'KL01CC50',\n",
        "    'KA09MA2662',\n",
        "    'PRIVATE',\n",
        "    'ML60LXB',\n",
        "    'TN02BL9',\n",
        "    'MANISA',\n",
        "    'KA03MR32',\n",
        "    '695299',\n",
        "    'FALLYOU',\n",
        "    'JPK6546',\n",
        "    'D13',\n",
        "    'CH01AN0001',\n",
        "    'DL8CX4850',\n",
        "    'RP66887',\n",
        "    'MMN306',\n",
        "    'FV1232',\n",
        "    '007PLATE.COM',\n",
        "    'KA03MG2784',\n",
        "    'LAWYER',\n",
        "    '',\n",
        "    'CZI7KOD',\n",
        "    'AFR2011',\n",
        "    'DL7CN5617',\n",
        "    'PEN15',\n",
        "    'AP29BP585',\n",
        "    'BYHM136',\n",
        "    'HR26CE1485',\n",
        "    '889VSM',\n",
        "    'AK0188'\n",
        "]"
      ]
    },
    {
      "cell_type": "code",
      "execution_count": null,
      "metadata": {},
      "outputs": [],
      "source": [
        "test2['truth'] = truth"
      ]
    },
    {
      "cell_type": "code",
      "execution_count": null,
      "metadata": {},
      "outputs": [
        {
          "data": {
            "text/html": [
              "<div>\n",
              "<style scoped>\n",
              "    .dataframe tbody tr th:only-of-type {\n",
              "        vertical-align: middle;\n",
              "    }\n",
              "\n",
              "    .dataframe tbody tr th {\n",
              "        vertical-align: top;\n",
              "    }\n",
              "\n",
              "    .dataframe thead th {\n",
              "        text-align: right;\n",
              "    }\n",
              "</style>\n",
              "<table border=\"1\" class=\"dataframe\">\n",
              "  <thead>\n",
              "    <tr style=\"text-align: right;\">\n",
              "      <th></th>\n",
              "      <th>img_path</th>\n",
              "      <th>xmin</th>\n",
              "      <th>xmax</th>\n",
              "      <th>ymin</th>\n",
              "      <th>ymax</th>\n",
              "      <th>img_w</th>\n",
              "      <th>img_h</th>\n",
              "      <th>text</th>\n",
              "      <th>pred_text</th>\n",
              "      <th>truth</th>\n",
              "    </tr>\n",
              "  </thead>\n",
              "  <tbody>\n",
              "    <tr>\n",
              "      <th>423</th>\n",
              "      <td>C:\\Users\\nolan\\cse574proj\\data\\images\\Cars90.png</td>\n",
              "      <td>77</td>\n",
              "      <td>101</td>\n",
              "      <td>204</td>\n",
              "      <td>225</td>\n",
              "      <td>400</td>\n",
              "      <td>300</td>\n",
              "      <td></td>\n",
              "      <td>1NHOPNSA</td>\n",
              "      <td></td>\n",
              "    </tr>\n",
              "    <tr>\n",
              "      <th>234</th>\n",
              "      <td>C:\\Users\\nolan\\cse574proj\\data\\images\\Cars309.png</td>\n",
              "      <td>152</td>\n",
              "      <td>252</td>\n",
              "      <td>122</td>\n",
              "      <td>207</td>\n",
              "      <td>400</td>\n",
              "      <td>225</td>\n",
              "      <td></td>\n",
              "      <td>RSPSNPYEAN</td>\n",
              "      <td>EAB0001</td>\n",
              "    </tr>\n",
              "    <tr>\n",
              "      <th>165</th>\n",
              "      <td>C:\\Users\\nolan\\cse574proj\\data\\images\\Cars247.png</td>\n",
              "      <td>147</td>\n",
              "      <td>300</td>\n",
              "      <td>11</td>\n",
              "      <td>149</td>\n",
              "      <td>400</td>\n",
              "      <td>225</td>\n",
              "      <td>CEA</td>\n",
              "      <td>PSHH</td>\n",
              "      <td>TN37C52765</td>\n",
              "    </tr>\n",
              "    <tr>\n",
              "      <th>29</th>\n",
              "      <td>C:\\Users\\nolan\\cse574proj\\data\\images\\Cars124.png</td>\n",
              "      <td>305</td>\n",
              "      <td>320</td>\n",
              "      <td>256</td>\n",
              "      <td>267</td>\n",
              "      <td>400</td>\n",
              "      <td>267</td>\n",
              "      <td>9</td>\n",
              "      <td>UHANSIIRET</td>\n",
              "      <td></td>\n",
              "    </tr>\n",
              "    <tr>\n",
              "      <th>388</th>\n",
              "      <td>C:\\Users\\nolan\\cse574proj\\data\\images\\Cars59.png</td>\n",
              "      <td>324</td>\n",
              "      <td>375</td>\n",
              "      <td>162</td>\n",
              "      <td>175</td>\n",
              "      <td>400</td>\n",
              "      <td>300</td>\n",
              "      <td>2GP</td>\n",
              "      <td>EOE4E3</td>\n",
              "      <td>MH45P1651</td>\n",
              "    </tr>\n",
              "    <tr>\n",
              "      <th>424</th>\n",
              "      <td>C:\\Users\\nolan\\cse574proj\\data\\images\\Cars91.png</td>\n",
              "      <td>269</td>\n",
              "      <td>317</td>\n",
              "      <td>170</td>\n",
              "      <td>189</td>\n",
              "      <td>400</td>\n",
              "      <td>253</td>\n",
              "      <td>SOLU</td>\n",
              "      <td>SL</td>\n",
              "      <td>30461C</td>\n",
              "    </tr>\n",
              "    <tr>\n",
              "      <th>361</th>\n",
              "      <td>C:\\Users\\nolan\\cse574proj\\data\\images\\Cars423.png</td>\n",
              "      <td>162</td>\n",
              "      <td>283</td>\n",
              "      <td>159</td>\n",
              "      <td>183</td>\n",
              "      <td>400</td>\n",
              "      <td>250</td>\n",
              "      <td>LP3RVP</td>\n",
              "      <td>VPHI</td>\n",
              "      <td>P3RVP</td>\n",
              "    </tr>\n",
              "    <tr>\n",
              "      <th>0</th>\n",
              "      <td>C:\\Users\\nolan\\cse574proj\\data\\images\\Cars0.png</td>\n",
              "      <td>226</td>\n",
              "      <td>419</td>\n",
              "      <td>125</td>\n",
              "      <td>173</td>\n",
              "      <td>500</td>\n",
              "      <td>268</td>\n",
              "      <td></td>\n",
              "      <td>K2055</td>\n",
              "      <td>KLO1CA2555</td>\n",
              "    </tr>\n",
              "    <tr>\n",
              "      <th>79</th>\n",
              "      <td>C:\\Users\\nolan\\cse574proj\\data\\images\\Cars17.png</td>\n",
              "      <td>306</td>\n",
              "      <td>351</td>\n",
              "      <td>188</td>\n",
              "      <td>205</td>\n",
              "      <td>400</td>\n",
              "      <td>267</td>\n",
              "      <td></td>\n",
              "      <td>J4OEOS</td>\n",
              "      <td>YSX213</td>\n",
              "    </tr>\n",
              "    <tr>\n",
              "      <th>114</th>\n",
              "      <td>C:\\Users\\nolan\\cse574proj\\data\\images\\Cars200.png</td>\n",
              "      <td>95</td>\n",
              "      <td>195</td>\n",
              "      <td>189</td>\n",
              "      <td>217</td>\n",
              "      <td>400</td>\n",
              "      <td>246</td>\n",
              "      <td>MNLO3TABIES380</td>\n",
              "      <td>FEHS</td>\n",
              "      <td>KA03AB3380</td>\n",
              "    </tr>\n",
              "    <tr>\n",
              "      <th>71</th>\n",
              "      <td>C:\\Users\\nolan\\cse574proj\\data\\images\\Cars162.png</td>\n",
              "      <td>201</td>\n",
              "      <td>268</td>\n",
              "      <td>168</td>\n",
              "      <td>213</td>\n",
              "      <td>560</td>\n",
              "      <td>315</td>\n",
              "      <td></td>\n",
              "      <td>NHSLNES</td>\n",
              "      <td>MH0BB5992</td>\n",
              "    </tr>\n",
              "    <tr>\n",
              "      <th>35</th>\n",
              "      <td>C:\\Users\\nolan\\cse574proj\\data\\images\\Cars13.png</td>\n",
              "      <td>191</td>\n",
              "      <td>242</td>\n",
              "      <td>147</td>\n",
              "      <td>169</td>\n",
              "      <td>400</td>\n",
              "      <td>268</td>\n",
              "      <td></td>\n",
              "      <td>CO</td>\n",
              "      <td>BJR216</td>\n",
              "    </tr>\n",
              "    <tr>\n",
              "      <th>333</th>\n",
              "      <td>C:\\Users\\nolan\\cse574proj\\data\\images\\Cars399.png</td>\n",
              "      <td>106</td>\n",
              "      <td>309</td>\n",
              "      <td>62</td>\n",
              "      <td>161</td>\n",
              "      <td>400</td>\n",
              "      <td>225</td>\n",
              "      <td></td>\n",
              "      <td>AK</td>\n",
              "      <td>0X65AWD</td>\n",
              "    </tr>\n",
              "    <tr>\n",
              "      <th>288</th>\n",
              "      <td>C:\\Users\\nolan\\cse574proj\\data\\images\\Cars358.png</td>\n",
              "      <td>44</td>\n",
              "      <td>107</td>\n",
              "      <td>94</td>\n",
              "      <td>107</td>\n",
              "      <td>400</td>\n",
              "      <td>200</td>\n",
              "      <td>PZ62FDX</td>\n",
              "      <td>SSSOE</td>\n",
              "      <td>PZ62FDZ</td>\n",
              "    </tr>\n",
              "    <tr>\n",
              "      <th>323</th>\n",
              "      <td>C:\\Users\\nolan\\cse574proj\\data\\images\\Cars39.png</td>\n",
              "      <td>225</td>\n",
              "      <td>328</td>\n",
              "      <td>180</td>\n",
              "      <td>213</td>\n",
              "      <td>400</td>\n",
              "      <td>300</td>\n",
              "      <td>HH15BD8877</td>\n",
              "      <td>RSSSE</td>\n",
              "      <td>MH15BD8877</td>\n",
              "    </tr>\n",
              "    <tr>\n",
              "      <th>227</th>\n",
              "      <td>C:\\Users\\nolan\\cse574proj\\data\\images\\Cars302.png</td>\n",
              "      <td>222</td>\n",
              "      <td>425</td>\n",
              "      <td>98</td>\n",
              "      <td>149</td>\n",
              "      <td>500</td>\n",
              "      <td>234</td>\n",
              "      <td>V010680</td>\n",
              "      <td></td>\n",
              "      <td>KL01CC50</td>\n",
              "    </tr>\n",
              "    <tr>\n",
              "      <th>432</th>\n",
              "      <td>C:\\Users\\nolan\\cse574proj\\data\\images\\Cars99.png</td>\n",
              "      <td>70</td>\n",
              "      <td>262</td>\n",
              "      <td>198</td>\n",
              "      <td>271</td>\n",
              "      <td>375</td>\n",
              "      <td>500</td>\n",
              "      <td>2668</td>\n",
              "      <td>FEYSASSASSS</td>\n",
              "      <td>KA09MA2662</td>\n",
              "    </tr>\n",
              "    <tr>\n",
              "      <th>78</th>\n",
              "      <td>C:\\Users\\nolan\\cse574proj\\data\\images\\Cars169.png</td>\n",
              "      <td>114</td>\n",
              "      <td>229</td>\n",
              "      <td>79</td>\n",
              "      <td>101</td>\n",
              "      <td>400</td>\n",
              "      <td>200</td>\n",
              "      <td></td>\n",
              "      <td>YHFBA</td>\n",
              "      <td>PRIVATE</td>\n",
              "    </tr>\n",
              "    <tr>\n",
              "      <th>7</th>\n",
              "      <td>C:\\Users\\nolan\\cse574proj\\data\\images\\Cars104.png</td>\n",
              "      <td>195</td>\n",
              "      <td>244</td>\n",
              "      <td>266</td>\n",
              "      <td>282</td>\n",
              "      <td>500</td>\n",
              "      <td>374</td>\n",
              "      <td>ARUGOLXB</td>\n",
              "      <td>SSSANYSAYBAYEEKF</td>\n",
              "      <td>ML60LXB</td>\n",
              "    </tr>\n",
              "    <tr>\n",
              "      <th>44</th>\n",
              "      <td>C:\\Users\\nolan\\cse574proj\\data\\images\\Cars138.png</td>\n",
              "      <td>153</td>\n",
              "      <td>254</td>\n",
              "      <td>141</td>\n",
              "      <td>185</td>\n",
              "      <td>400</td>\n",
              "      <td>301</td>\n",
              "      <td></td>\n",
              "      <td>1</td>\n",
              "      <td>TN02BL9</td>\n",
              "    </tr>\n",
              "    <tr>\n",
              "      <th>27</th>\n",
              "      <td>C:\\Users\\nolan\\cse574proj\\data\\images\\Cars122.png</td>\n",
              "      <td>195</td>\n",
              "      <td>254</td>\n",
              "      <td>147</td>\n",
              "      <td>169</td>\n",
              "      <td>400</td>\n",
              "      <td>300</td>\n",
              "      <td>HANISA</td>\n",
              "      <td>ROW</td>\n",
              "      <td>MANISA</td>\n",
              "    </tr>\n",
              "    <tr>\n",
              "      <th>321</th>\n",
              "      <td>C:\\Users\\nolan\\cse574proj\\data\\images\\Cars388.png</td>\n",
              "      <td>149</td>\n",
              "      <td>255</td>\n",
              "      <td>130</td>\n",
              "      <td>158</td>\n",
              "      <td>400</td>\n",
              "      <td>300</td>\n",
              "      <td></td>\n",
              "      <td>LAPSTN</td>\n",
              "      <td>KA03MR32</td>\n",
              "    </tr>\n",
              "    <tr>\n",
              "      <th>66</th>\n",
              "      <td>C:\\Users\\nolan\\cse574proj\\data\\images\\Cars158.png</td>\n",
              "      <td>97</td>\n",
              "      <td>296</td>\n",
              "      <td>118</td>\n",
              "      <td>210</td>\n",
              "      <td>400</td>\n",
              "      <td>300</td>\n",
              "      <td>GENTROAMERICAES</td>\n",
              "      <td>1I1G</td>\n",
              "      <td>695299</td>\n",
              "    </tr>\n",
              "    <tr>\n",
              "      <th>245</th>\n",
              "      <td>C:\\Users\\nolan\\cse574proj\\data\\images\\Cars319.png</td>\n",
              "      <td>167</td>\n",
              "      <td>232</td>\n",
              "      <td>228</td>\n",
              "      <td>259</td>\n",
              "      <td>400</td>\n",
              "      <td>342</td>\n",
              "      <td>TEALLYOU</td>\n",
              "      <td>FOEEW</td>\n",
              "      <td>FALLYOU</td>\n",
              "    </tr>\n",
              "    <tr>\n",
              "      <th>224</th>\n",
              "      <td>C:\\Users\\nolan\\cse574proj\\data\\images\\Cars30.png</td>\n",
              "      <td>155</td>\n",
              "      <td>200</td>\n",
              "      <td>169</td>\n",
              "      <td>182</td>\n",
              "      <td>400</td>\n",
              "      <td>240</td>\n",
              "      <td>PASS46</td>\n",
              "      <td>AYA</td>\n",
              "      <td>JPK6546</td>\n",
              "    </tr>\n",
              "    <tr>\n",
              "      <th>299</th>\n",
              "      <td>C:\\Users\\nolan\\cse574proj\\data\\images\\Cars368.png</td>\n",
              "      <td>173</td>\n",
              "      <td>223</td>\n",
              "      <td>173</td>\n",
              "      <td>203</td>\n",
              "      <td>400</td>\n",
              "      <td>300</td>\n",
              "      <td></td>\n",
              "      <td></td>\n",
              "      <td>D13</td>\n",
              "    </tr>\n",
              "    <tr>\n",
              "      <th>302</th>\n",
              "      <td>C:\\Users\\nolan\\cse574proj\\data\\images\\Cars370.png</td>\n",
              "      <td>285</td>\n",
              "      <td>425</td>\n",
              "      <td>249</td>\n",
              "      <td>276</td>\n",
              "      <td>435</td>\n",
              "      <td>290</td>\n",
              "      <td>7EHO1ANO0001</td>\n",
              "      <td>EO</td>\n",
              "      <td>CH01AN0001</td>\n",
              "    </tr>\n",
              "    <tr>\n",
              "      <th>264</th>\n",
              "      <td>C:\\Users\\nolan\\cse574proj\\data\\images\\Cars336.png</td>\n",
              "      <td>122</td>\n",
              "      <td>265</td>\n",
              "      <td>195</td>\n",
              "      <td>234</td>\n",
              "      <td>400</td>\n",
              "      <td>300</td>\n",
              "      <td>GPL8X4850</td>\n",
              "      <td>VANR</td>\n",
              "      <td>DL8CX4850</td>\n",
              "    </tr>\n",
              "    <tr>\n",
              "      <th>30</th>\n",
              "      <td>C:\\Users\\nolan\\cse574proj\\data\\images\\Cars125.png</td>\n",
              "      <td>280</td>\n",
              "      <td>355</td>\n",
              "      <td>196</td>\n",
              "      <td>257</td>\n",
              "      <td>400</td>\n",
              "      <td>260</td>\n",
              "      <td>86885</td>\n",
              "      <td>SROAR</td>\n",
              "      <td>RP66887</td>\n",
              "    </tr>\n",
              "    <tr>\n",
              "      <th>391</th>\n",
              "      <td>C:\\Users\\nolan\\cse574proj\\data\\images\\Cars61.png</td>\n",
              "      <td>71</td>\n",
              "      <td>198</td>\n",
              "      <td>124</td>\n",
              "      <td>231</td>\n",
              "      <td>400</td>\n",
              "      <td>300</td>\n",
              "      <td></td>\n",
              "      <td>ES23YPKSSFRENTS7</td>\n",
              "      <td>MMN306</td>\n",
              "    </tr>\n",
              "    <tr>\n",
              "      <th>335</th>\n",
              "      <td>C:\\Users\\nolan\\cse574proj\\data\\images\\Cars40.png</td>\n",
              "      <td>261</td>\n",
              "      <td>317</td>\n",
              "      <td>186</td>\n",
              "      <td>211</td>\n",
              "      <td>400</td>\n",
              "      <td>225</td>\n",
              "      <td>S710EYIP32</td>\n",
              "      <td>AANSF</td>\n",
              "      <td>FV1232</td>\n",
              "    </tr>\n",
              "    <tr>\n",
              "      <th>267</th>\n",
              "      <td>C:\\Users\\nolan\\cse574proj\\data\\images\\Cars339.png</td>\n",
              "      <td>209</td>\n",
              "      <td>283</td>\n",
              "      <td>135</td>\n",
              "      <td>169</td>\n",
              "      <td>500</td>\n",
              "      <td>300</td>\n",
              "      <td></td>\n",
              "      <td>0</td>\n",
              "      <td>007PLATE.COM</td>\n",
              "    </tr>\n",
              "    <tr>\n",
              "      <th>362</th>\n",
              "      <td>C:\\Users\\nolan\\cse574proj\\data\\images\\Cars424.png</td>\n",
              "      <td>128</td>\n",
              "      <td>461</td>\n",
              "      <td>173</td>\n",
              "      <td>242</td>\n",
              "      <td>600</td>\n",
              "      <td>450</td>\n",
              "      <td>RSSTRMWWHA</td>\n",
              "      <td>TFZNT7ETSS</td>\n",
              "      <td>KA03MG2784</td>\n",
              "    </tr>\n",
              "    <tr>\n",
              "      <th>231</th>\n",
              "      <td>C:\\Users\\nolan\\cse574proj\\data\\images\\Cars306.png</td>\n",
              "      <td>139</td>\n",
              "      <td>249</td>\n",
              "      <td>282</td>\n",
              "      <td>310</td>\n",
              "      <td>400</td>\n",
              "      <td>400</td>\n",
              "      <td>LAWYER</td>\n",
              "      <td>1</td>\n",
              "      <td>LAWYER</td>\n",
              "    </tr>\n",
              "    <tr>\n",
              "      <th>420</th>\n",
              "      <td>C:\\Users\\nolan\\cse574proj\\data\\images\\Cars88.png</td>\n",
              "      <td>168</td>\n",
              "      <td>242</td>\n",
              "      <td>148</td>\n",
              "      <td>171</td>\n",
              "      <td>400</td>\n",
              "      <td>300</td>\n",
              "      <td>CNHWST</td>\n",
              "      <td></td>\n",
              "      <td></td>\n",
              "    </tr>\n",
              "    <tr>\n",
              "      <th>12</th>\n",
              "      <td>C:\\Users\\nolan\\cse574proj\\data\\images\\Cars109.png</td>\n",
              "      <td>115</td>\n",
              "      <td>278</td>\n",
              "      <td>116</td>\n",
              "      <td>153</td>\n",
              "      <td>400</td>\n",
              "      <td>267</td>\n",
              "      <td>CZI7KOD</td>\n",
              "      <td>I</td>\n",
              "      <td>CZI7KOD</td>\n",
              "    </tr>\n",
              "    <tr>\n",
              "      <th>101</th>\n",
              "      <td>C:\\Users\\nolan\\cse574proj\\data\\images\\Cars19.png</td>\n",
              "      <td>148</td>\n",
              "      <td>221</td>\n",
              "      <td>195</td>\n",
              "      <td>232</td>\n",
              "      <td>400</td>\n",
              "      <td>240</td>\n",
              "      <td></td>\n",
              "      <td>RPLEMSEA</td>\n",
              "      <td>AFR2011</td>\n",
              "    </tr>\n",
              "    <tr>\n",
              "      <th>67</th>\n",
              "      <td>C:\\Users\\nolan\\cse574proj\\data\\images\\Cars159.png</td>\n",
              "      <td>149</td>\n",
              "      <td>261</td>\n",
              "      <td>184</td>\n",
              "      <td>211</td>\n",
              "      <td>400</td>\n",
              "      <td>332</td>\n",
              "      <td>ADL7CN5617</td>\n",
              "      <td>5ES7Z</td>\n",
              "      <td>DL7CN5617</td>\n",
              "    </tr>\n",
              "    <tr>\n",
              "      <th>51</th>\n",
              "      <td>C:\\Users\\nolan\\cse574proj\\data\\images\\Cars144.png</td>\n",
              "      <td>101</td>\n",
              "      <td>215</td>\n",
              "      <td>114</td>\n",
              "      <td>154</td>\n",
              "      <td>320</td>\n",
              "      <td>260</td>\n",
              "      <td>M</td>\n",
              "      <td>HFILE</td>\n",
              "      <td>PEN15</td>\n",
              "    </tr>\n",
              "    <tr>\n",
              "      <th>18</th>\n",
              "      <td>C:\\Users\\nolan\\cse574proj\\data\\images\\Cars114.png</td>\n",
              "      <td>7</td>\n",
              "      <td>493</td>\n",
              "      <td>16</td>\n",
              "      <td>256</td>\n",
              "      <td>500</td>\n",
              "      <td>300</td>\n",
              "      <td>RAASAY</td>\n",
              "      <td>ES</td>\n",
              "      <td>AP29BP585</td>\n",
              "    </tr>\n",
              "    <tr>\n",
              "      <th>357</th>\n",
              "      <td>C:\\Users\\nolan\\cse574proj\\data\\images\\Cars42.png</td>\n",
              "      <td>177</td>\n",
              "      <td>217</td>\n",
              "      <td>140</td>\n",
              "      <td>159</td>\n",
              "      <td>400</td>\n",
              "      <td>225</td>\n",
              "      <td>BYHM136</td>\n",
              "      <td></td>\n",
              "      <td>BYHM136</td>\n",
              "    </tr>\n",
              "    <tr>\n",
              "      <th>304</th>\n",
              "      <td>C:\\Users\\nolan\\cse574proj\\data\\images\\Cars372.png</td>\n",
              "      <td>221</td>\n",
              "      <td>353</td>\n",
              "      <td>275</td>\n",
              "      <td>309</td>\n",
              "      <td>560</td>\n",
              "      <td>420</td>\n",
              "      <td></td>\n",
              "      <td></td>\n",
              "      <td>HR26CE1485</td>\n",
              "    </tr>\n",
              "    <tr>\n",
              "      <th>105</th>\n",
              "      <td>C:\\Users\\nolan\\cse574proj\\data\\images\\Cars193.png</td>\n",
              "      <td>306</td>\n",
              "      <td>344</td>\n",
              "      <td>193</td>\n",
              "      <td>214</td>\n",
              "      <td>400</td>\n",
              "      <td>267</td>\n",
              "      <td></td>\n",
              "      <td>SSSOS3LAS</td>\n",
              "      <td>889VSM</td>\n",
              "    </tr>\n",
              "    <tr>\n",
              "      <th>287</th>\n",
              "      <td>C:\\Users\\nolan\\cse574proj\\data\\images\\Cars357.png</td>\n",
              "      <td>92</td>\n",
              "      <td>137</td>\n",
              "      <td>187</td>\n",
              "      <td>207</td>\n",
              "      <td>400</td>\n",
              "      <td>267</td>\n",
              "      <td>JCOTS</td>\n",
              "      <td>LGZ</td>\n",
              "      <td>AK0188</td>\n",
              "    </tr>\n",
              "  </tbody>\n",
              "</table>\n",
              "</div>"
            ],
            "text/plain": [
              "                                              img_path  xmin  xmax  ymin  \\\n",
              "423   C:\\Users\\nolan\\cse574proj\\data\\images\\Cars90.png    77   101   204   \n",
              "234  C:\\Users\\nolan\\cse574proj\\data\\images\\Cars309.png   152   252   122   \n",
              "165  C:\\Users\\nolan\\cse574proj\\data\\images\\Cars247.png   147   300    11   \n",
              "29   C:\\Users\\nolan\\cse574proj\\data\\images\\Cars124.png   305   320   256   \n",
              "388   C:\\Users\\nolan\\cse574proj\\data\\images\\Cars59.png   324   375   162   \n",
              "424   C:\\Users\\nolan\\cse574proj\\data\\images\\Cars91.png   269   317   170   \n",
              "361  C:\\Users\\nolan\\cse574proj\\data\\images\\Cars423.png   162   283   159   \n",
              "0      C:\\Users\\nolan\\cse574proj\\data\\images\\Cars0.png   226   419   125   \n",
              "79    C:\\Users\\nolan\\cse574proj\\data\\images\\Cars17.png   306   351   188   \n",
              "114  C:\\Users\\nolan\\cse574proj\\data\\images\\Cars200.png    95   195   189   \n",
              "71   C:\\Users\\nolan\\cse574proj\\data\\images\\Cars162.png   201   268   168   \n",
              "35    C:\\Users\\nolan\\cse574proj\\data\\images\\Cars13.png   191   242   147   \n",
              "333  C:\\Users\\nolan\\cse574proj\\data\\images\\Cars399.png   106   309    62   \n",
              "288  C:\\Users\\nolan\\cse574proj\\data\\images\\Cars358.png    44   107    94   \n",
              "323   C:\\Users\\nolan\\cse574proj\\data\\images\\Cars39.png   225   328   180   \n",
              "227  C:\\Users\\nolan\\cse574proj\\data\\images\\Cars302.png   222   425    98   \n",
              "432   C:\\Users\\nolan\\cse574proj\\data\\images\\Cars99.png    70   262   198   \n",
              "78   C:\\Users\\nolan\\cse574proj\\data\\images\\Cars169.png   114   229    79   \n",
              "7    C:\\Users\\nolan\\cse574proj\\data\\images\\Cars104.png   195   244   266   \n",
              "44   C:\\Users\\nolan\\cse574proj\\data\\images\\Cars138.png   153   254   141   \n",
              "27   C:\\Users\\nolan\\cse574proj\\data\\images\\Cars122.png   195   254   147   \n",
              "321  C:\\Users\\nolan\\cse574proj\\data\\images\\Cars388.png   149   255   130   \n",
              "66   C:\\Users\\nolan\\cse574proj\\data\\images\\Cars158.png    97   296   118   \n",
              "245  C:\\Users\\nolan\\cse574proj\\data\\images\\Cars319.png   167   232   228   \n",
              "224   C:\\Users\\nolan\\cse574proj\\data\\images\\Cars30.png   155   200   169   \n",
              "299  C:\\Users\\nolan\\cse574proj\\data\\images\\Cars368.png   173   223   173   \n",
              "302  C:\\Users\\nolan\\cse574proj\\data\\images\\Cars370.png   285   425   249   \n",
              "264  C:\\Users\\nolan\\cse574proj\\data\\images\\Cars336.png   122   265   195   \n",
              "30   C:\\Users\\nolan\\cse574proj\\data\\images\\Cars125.png   280   355   196   \n",
              "391   C:\\Users\\nolan\\cse574proj\\data\\images\\Cars61.png    71   198   124   \n",
              "335   C:\\Users\\nolan\\cse574proj\\data\\images\\Cars40.png   261   317   186   \n",
              "267  C:\\Users\\nolan\\cse574proj\\data\\images\\Cars339.png   209   283   135   \n",
              "362  C:\\Users\\nolan\\cse574proj\\data\\images\\Cars424.png   128   461   173   \n",
              "231  C:\\Users\\nolan\\cse574proj\\data\\images\\Cars306.png   139   249   282   \n",
              "420   C:\\Users\\nolan\\cse574proj\\data\\images\\Cars88.png   168   242   148   \n",
              "12   C:\\Users\\nolan\\cse574proj\\data\\images\\Cars109.png   115   278   116   \n",
              "101   C:\\Users\\nolan\\cse574proj\\data\\images\\Cars19.png   148   221   195   \n",
              "67   C:\\Users\\nolan\\cse574proj\\data\\images\\Cars159.png   149   261   184   \n",
              "51   C:\\Users\\nolan\\cse574proj\\data\\images\\Cars144.png   101   215   114   \n",
              "18   C:\\Users\\nolan\\cse574proj\\data\\images\\Cars114.png     7   493    16   \n",
              "357   C:\\Users\\nolan\\cse574proj\\data\\images\\Cars42.png   177   217   140   \n",
              "304  C:\\Users\\nolan\\cse574proj\\data\\images\\Cars372.png   221   353   275   \n",
              "105  C:\\Users\\nolan\\cse574proj\\data\\images\\Cars193.png   306   344   193   \n",
              "287  C:\\Users\\nolan\\cse574proj\\data\\images\\Cars357.png    92   137   187   \n",
              "\n",
              "     ymax  img_w  img_h             text         pred_text         truth  \n",
              "423   225    400    300                           1NHOPNSA                \n",
              "234   207    400    225                         RSPSNPYEAN       EAB0001  \n",
              "165   149    400    225              CEA              PSHH    TN37C52765  \n",
              "29    267    400    267                9        UHANSIIRET                \n",
              "388   175    400    300              2GP            EOE4E3     MH45P1651  \n",
              "424   189    400    253             SOLU                SL        30461C  \n",
              "361   183    400    250           LP3RVP              VPHI         P3RVP  \n",
              "0     173    500    268                              K2055    KLO1CA2555  \n",
              "79    205    400    267                             J4OEOS        YSX213  \n",
              "114   217    400    246   MNLO3TABIES380              FEHS    KA03AB3380  \n",
              "71    213    560    315                            NHSLNES     MH0BB5992  \n",
              "35    169    400    268                                 CO        BJR216  \n",
              "333   161    400    225                                 AK       0X65AWD  \n",
              "288   107    400    200          PZ62FDX             SSSOE       PZ62FDZ  \n",
              "323   213    400    300       HH15BD8877             RSSSE    MH15BD8877  \n",
              "227   149    500    234          V010680                        KL01CC50  \n",
              "432   271    375    500             2668       FEYSASSASSS    KA09MA2662  \n",
              "78    101    400    200                              YHFBA       PRIVATE  \n",
              "7     282    500    374         ARUGOLXB  SSSANYSAYBAYEEKF       ML60LXB  \n",
              "44    185    400    301                                  1       TN02BL9  \n",
              "27    169    400    300           HANISA               ROW        MANISA  \n",
              "321   158    400    300                             LAPSTN      KA03MR32  \n",
              "66    210    400    300  GENTROAMERICAES              1I1G        695299  \n",
              "245   259    400    342         TEALLYOU             FOEEW       FALLYOU  \n",
              "224   182    400    240           PASS46               AYA       JPK6546  \n",
              "299   203    400    300                                              D13  \n",
              "302   276    435    290     7EHO1ANO0001                EO    CH01AN0001  \n",
              "264   234    400    300        GPL8X4850              VANR     DL8CX4850  \n",
              "30    257    400    260            86885             SROAR       RP66887  \n",
              "391   231    400    300                   ES23YPKSSFRENTS7        MMN306  \n",
              "335   211    400    225       S710EYIP32             AANSF        FV1232  \n",
              "267   169    500    300                                  0  007PLATE.COM  \n",
              "362   242    600    450       RSSTRMWWHA        TFZNT7ETSS    KA03MG2784  \n",
              "231   310    400    400           LAWYER                 1        LAWYER  \n",
              "420   171    400    300           CNHWST                                  \n",
              "12    153    400    267          CZI7KOD                 I       CZI7KOD  \n",
              "101   232    400    240                           RPLEMSEA       AFR2011  \n",
              "67    211    400    332       ADL7CN5617             5ES7Z     DL7CN5617  \n",
              "51    154    320    260                M             HFILE         PEN15  \n",
              "18    256    500    300           RAASAY                ES     AP29BP585  \n",
              "357   159    400    225          BYHM136                         BYHM136  \n",
              "304   309    560    420                                       HR26CE1485  \n",
              "105   214    400    267                          SSSOS3LAS        889VSM  \n",
              "287   207    400    267            JCOTS               LGZ        AK0188  "
            ]
          },
          "execution_count": 147,
          "metadata": {},
          "output_type": "execute_result"
        }
      ],
      "source": [
        "test2"
      ]
    },
    {
      "cell_type": "code",
      "execution_count": null,
      "metadata": {},
      "outputs": [
        {
          "data": {
            "text/html": [
              "<div>\n",
              "<style scoped>\n",
              "    .dataframe tbody tr th:only-of-type {\n",
              "        vertical-align: middle;\n",
              "    }\n",
              "\n",
              "    .dataframe tbody tr th {\n",
              "        vertical-align: top;\n",
              "    }\n",
              "\n",
              "    .dataframe thead th {\n",
              "        text-align: right;\n",
              "    }\n",
              "</style>\n",
              "<table border=\"1\" class=\"dataframe\">\n",
              "  <thead>\n",
              "    <tr style=\"text-align: right;\">\n",
              "      <th></th>\n",
              "      <th>img_path</th>\n",
              "      <th>xmin</th>\n",
              "      <th>xmax</th>\n",
              "      <th>ymin</th>\n",
              "      <th>ymax</th>\n",
              "      <th>img_w</th>\n",
              "      <th>img_h</th>\n",
              "      <th>text</th>\n",
              "      <th>pred_text</th>\n",
              "      <th>truth</th>\n",
              "      <th>text_predtext_wer</th>\n",
              "      <th>text_truth_wer</th>\n",
              "      <th>predtext_truth_wer</th>\n",
              "    </tr>\n",
              "  </thead>\n",
              "  <tbody>\n",
              "    <tr>\n",
              "      <th>165</th>\n",
              "      <td>C:\\Users\\nolan\\cse574proj\\data\\images\\Cars247.png</td>\n",
              "      <td>147</td>\n",
              "      <td>300</td>\n",
              "      <td>11</td>\n",
              "      <td>149</td>\n",
              "      <td>400</td>\n",
              "      <td>225</td>\n",
              "      <td>CEA</td>\n",
              "      <td>PSHH</td>\n",
              "      <td>TN37C52765</td>\n",
              "      <td>1.333333</td>\n",
              "      <td>0.900000</td>\n",
              "      <td>1.000000</td>\n",
              "    </tr>\n",
              "    <tr>\n",
              "      <th>388</th>\n",
              "      <td>C:\\Users\\nolan\\cse574proj\\data\\images\\Cars59.png</td>\n",
              "      <td>324</td>\n",
              "      <td>375</td>\n",
              "      <td>162</td>\n",
              "      <td>175</td>\n",
              "      <td>400</td>\n",
              "      <td>300</td>\n",
              "      <td>2GP</td>\n",
              "      <td>EOE4E3</td>\n",
              "      <td>MH45P1651</td>\n",
              "      <td>2.000000</td>\n",
              "      <td>0.888889</td>\n",
              "      <td>1.000000</td>\n",
              "    </tr>\n",
              "    <tr>\n",
              "      <th>424</th>\n",
              "      <td>C:\\Users\\nolan\\cse574proj\\data\\images\\Cars91.png</td>\n",
              "      <td>269</td>\n",
              "      <td>317</td>\n",
              "      <td>170</td>\n",
              "      <td>189</td>\n",
              "      <td>400</td>\n",
              "      <td>253</td>\n",
              "      <td>SOLU</td>\n",
              "      <td>SL</td>\n",
              "      <td>30461C</td>\n",
              "      <td>0.500000</td>\n",
              "      <td>1.000000</td>\n",
              "      <td>1.000000</td>\n",
              "    </tr>\n",
              "    <tr>\n",
              "      <th>361</th>\n",
              "      <td>C:\\Users\\nolan\\cse574proj\\data\\images\\Cars423.png</td>\n",
              "      <td>162</td>\n",
              "      <td>283</td>\n",
              "      <td>159</td>\n",
              "      <td>183</td>\n",
              "      <td>400</td>\n",
              "      <td>250</td>\n",
              "      <td>LP3RVP</td>\n",
              "      <td>VPHI</td>\n",
              "      <td>P3RVP</td>\n",
              "      <td>0.833333</td>\n",
              "      <td>0.200000</td>\n",
              "      <td>1.000000</td>\n",
              "    </tr>\n",
              "    <tr>\n",
              "      <th>114</th>\n",
              "      <td>C:\\Users\\nolan\\cse574proj\\data\\images\\Cars200.png</td>\n",
              "      <td>95</td>\n",
              "      <td>195</td>\n",
              "      <td>189</td>\n",
              "      <td>217</td>\n",
              "      <td>400</td>\n",
              "      <td>246</td>\n",
              "      <td>MNLO3TABIES380</td>\n",
              "      <td>FEHS</td>\n",
              "      <td>KA03AB3380</td>\n",
              "      <td>0.928571</td>\n",
              "      <td>0.800000</td>\n",
              "      <td>1.000000</td>\n",
              "    </tr>\n",
              "    <tr>\n",
              "      <th>288</th>\n",
              "      <td>C:\\Users\\nolan\\cse574proj\\data\\images\\Cars358.png</td>\n",
              "      <td>44</td>\n",
              "      <td>107</td>\n",
              "      <td>94</td>\n",
              "      <td>107</td>\n",
              "      <td>400</td>\n",
              "      <td>200</td>\n",
              "      <td>PZ62FDX</td>\n",
              "      <td>SSSOE</td>\n",
              "      <td>PZ62FDZ</td>\n",
              "      <td>1.000000</td>\n",
              "      <td>0.142857</td>\n",
              "      <td>1.000000</td>\n",
              "    </tr>\n",
              "    <tr>\n",
              "      <th>323</th>\n",
              "      <td>C:\\Users\\nolan\\cse574proj\\data\\images\\Cars39.png</td>\n",
              "      <td>225</td>\n",
              "      <td>328</td>\n",
              "      <td>180</td>\n",
              "      <td>213</td>\n",
              "      <td>400</td>\n",
              "      <td>300</td>\n",
              "      <td>HH15BD8877</td>\n",
              "      <td>RSSSE</td>\n",
              "      <td>MH15BD8877</td>\n",
              "      <td>1.000000</td>\n",
              "      <td>0.100000</td>\n",
              "      <td>1.000000</td>\n",
              "    </tr>\n",
              "    <tr>\n",
              "      <th>432</th>\n",
              "      <td>C:\\Users\\nolan\\cse574proj\\data\\images\\Cars99.png</td>\n",
              "      <td>70</td>\n",
              "      <td>262</td>\n",
              "      <td>198</td>\n",
              "      <td>271</td>\n",
              "      <td>375</td>\n",
              "      <td>500</td>\n",
              "      <td>2668</td>\n",
              "      <td>FEYSASSASSS</td>\n",
              "      <td>KA09MA2662</td>\n",
              "      <td>2.750000</td>\n",
              "      <td>0.700000</td>\n",
              "      <td>1.100000</td>\n",
              "    </tr>\n",
              "    <tr>\n",
              "      <th>7</th>\n",
              "      <td>C:\\Users\\nolan\\cse574proj\\data\\images\\Cars104.png</td>\n",
              "      <td>195</td>\n",
              "      <td>244</td>\n",
              "      <td>266</td>\n",
              "      <td>282</td>\n",
              "      <td>500</td>\n",
              "      <td>374</td>\n",
              "      <td>ARUGOLXB</td>\n",
              "      <td>SSSANYSAYBAYEEKF</td>\n",
              "      <td>ML60LXB</td>\n",
              "      <td>1.875000</td>\n",
              "      <td>0.714286</td>\n",
              "      <td>2.142857</td>\n",
              "    </tr>\n",
              "    <tr>\n",
              "      <th>27</th>\n",
              "      <td>C:\\Users\\nolan\\cse574proj\\data\\images\\Cars122.png</td>\n",
              "      <td>195</td>\n",
              "      <td>254</td>\n",
              "      <td>147</td>\n",
              "      <td>169</td>\n",
              "      <td>400</td>\n",
              "      <td>300</td>\n",
              "      <td>HANISA</td>\n",
              "      <td>ROW</td>\n",
              "      <td>MANISA</td>\n",
              "      <td>1.000000</td>\n",
              "      <td>0.166667</td>\n",
              "      <td>1.000000</td>\n",
              "    </tr>\n",
              "    <tr>\n",
              "      <th>66</th>\n",
              "      <td>C:\\Users\\nolan\\cse574proj\\data\\images\\Cars158.png</td>\n",
              "      <td>97</td>\n",
              "      <td>296</td>\n",
              "      <td>118</td>\n",
              "      <td>210</td>\n",
              "      <td>400</td>\n",
              "      <td>300</td>\n",
              "      <td>GENTROAMERICAES</td>\n",
              "      <td>1I1G</td>\n",
              "      <td>695299</td>\n",
              "      <td>0.933333</td>\n",
              "      <td>2.500000</td>\n",
              "      <td>1.000000</td>\n",
              "    </tr>\n",
              "    <tr>\n",
              "      <th>245</th>\n",
              "      <td>C:\\Users\\nolan\\cse574proj\\data\\images\\Cars319.png</td>\n",
              "      <td>167</td>\n",
              "      <td>232</td>\n",
              "      <td>228</td>\n",
              "      <td>259</td>\n",
              "      <td>400</td>\n",
              "      <td>342</td>\n",
              "      <td>TEALLYOU</td>\n",
              "      <td>FOEEW</td>\n",
              "      <td>FALLYOU</td>\n",
              "      <td>1.000000</td>\n",
              "      <td>0.285714</td>\n",
              "      <td>0.857143</td>\n",
              "    </tr>\n",
              "    <tr>\n",
              "      <th>224</th>\n",
              "      <td>C:\\Users\\nolan\\cse574proj\\data\\images\\Cars30.png</td>\n",
              "      <td>155</td>\n",
              "      <td>200</td>\n",
              "      <td>169</td>\n",
              "      <td>182</td>\n",
              "      <td>400</td>\n",
              "      <td>240</td>\n",
              "      <td>PASS46</td>\n",
              "      <td>AYA</td>\n",
              "      <td>JPK6546</td>\n",
              "      <td>0.833333</td>\n",
              "      <td>0.571429</td>\n",
              "      <td>1.000000</td>\n",
              "    </tr>\n",
              "    <tr>\n",
              "      <th>302</th>\n",
              "      <td>C:\\Users\\nolan\\cse574proj\\data\\images\\Cars370.png</td>\n",
              "      <td>285</td>\n",
              "      <td>425</td>\n",
              "      <td>249</td>\n",
              "      <td>276</td>\n",
              "      <td>435</td>\n",
              "      <td>290</td>\n",
              "      <td>7EHO1ANO0001</td>\n",
              "      <td>EO</td>\n",
              "      <td>CH01AN0001</td>\n",
              "      <td>0.833333</td>\n",
              "      <td>0.400000</td>\n",
              "      <td>1.000000</td>\n",
              "    </tr>\n",
              "    <tr>\n",
              "      <th>264</th>\n",
              "      <td>C:\\Users\\nolan\\cse574proj\\data\\images\\Cars336.png</td>\n",
              "      <td>122</td>\n",
              "      <td>265</td>\n",
              "      <td>195</td>\n",
              "      <td>234</td>\n",
              "      <td>400</td>\n",
              "      <td>300</td>\n",
              "      <td>GPL8X4850</td>\n",
              "      <td>VANR</td>\n",
              "      <td>DL8CX4850</td>\n",
              "      <td>1.000000</td>\n",
              "      <td>0.333333</td>\n",
              "      <td>1.000000</td>\n",
              "    </tr>\n",
              "    <tr>\n",
              "      <th>30</th>\n",
              "      <td>C:\\Users\\nolan\\cse574proj\\data\\images\\Cars125.png</td>\n",
              "      <td>280</td>\n",
              "      <td>355</td>\n",
              "      <td>196</td>\n",
              "      <td>257</td>\n",
              "      <td>400</td>\n",
              "      <td>260</td>\n",
              "      <td>86885</td>\n",
              "      <td>SROAR</td>\n",
              "      <td>RP66887</td>\n",
              "      <td>1.000000</td>\n",
              "      <td>0.571429</td>\n",
              "      <td>1.000000</td>\n",
              "    </tr>\n",
              "    <tr>\n",
              "      <th>335</th>\n",
              "      <td>C:\\Users\\nolan\\cse574proj\\data\\images\\Cars40.png</td>\n",
              "      <td>261</td>\n",
              "      <td>317</td>\n",
              "      <td>186</td>\n",
              "      <td>211</td>\n",
              "      <td>400</td>\n",
              "      <td>225</td>\n",
              "      <td>S710EYIP32</td>\n",
              "      <td>AANSF</td>\n",
              "      <td>FV1232</td>\n",
              "      <td>1.000000</td>\n",
              "      <td>1.166667</td>\n",
              "      <td>1.000000</td>\n",
              "    </tr>\n",
              "    <tr>\n",
              "      <th>362</th>\n",
              "      <td>C:\\Users\\nolan\\cse574proj\\data\\images\\Cars424.png</td>\n",
              "      <td>128</td>\n",
              "      <td>461</td>\n",
              "      <td>173</td>\n",
              "      <td>242</td>\n",
              "      <td>600</td>\n",
              "      <td>450</td>\n",
              "      <td>RSSTRMWWHA</td>\n",
              "      <td>TFZNT7ETSS</td>\n",
              "      <td>KA03MG2784</td>\n",
              "      <td>1.000000</td>\n",
              "      <td>1.000000</td>\n",
              "      <td>1.000000</td>\n",
              "    </tr>\n",
              "    <tr>\n",
              "      <th>231</th>\n",
              "      <td>C:\\Users\\nolan\\cse574proj\\data\\images\\Cars306.png</td>\n",
              "      <td>139</td>\n",
              "      <td>249</td>\n",
              "      <td>282</td>\n",
              "      <td>310</td>\n",
              "      <td>400</td>\n",
              "      <td>400</td>\n",
              "      <td>LAWYER</td>\n",
              "      <td>1</td>\n",
              "      <td>LAWYER</td>\n",
              "      <td>1.000000</td>\n",
              "      <td>0.000000</td>\n",
              "      <td>1.000000</td>\n",
              "    </tr>\n",
              "    <tr>\n",
              "      <th>12</th>\n",
              "      <td>C:\\Users\\nolan\\cse574proj\\data\\images\\Cars109.png</td>\n",
              "      <td>115</td>\n",
              "      <td>278</td>\n",
              "      <td>116</td>\n",
              "      <td>153</td>\n",
              "      <td>400</td>\n",
              "      <td>267</td>\n",
              "      <td>CZI7KOD</td>\n",
              "      <td>I</td>\n",
              "      <td>CZI7KOD</td>\n",
              "      <td>0.857143</td>\n",
              "      <td>0.000000</td>\n",
              "      <td>0.857143</td>\n",
              "    </tr>\n",
              "    <tr>\n",
              "      <th>67</th>\n",
              "      <td>C:\\Users\\nolan\\cse574proj\\data\\images\\Cars159.png</td>\n",
              "      <td>149</td>\n",
              "      <td>261</td>\n",
              "      <td>184</td>\n",
              "      <td>211</td>\n",
              "      <td>400</td>\n",
              "      <td>332</td>\n",
              "      <td>ADL7CN5617</td>\n",
              "      <td>5ES7Z</td>\n",
              "      <td>DL7CN5617</td>\n",
              "      <td>0.900000</td>\n",
              "      <td>0.111111</td>\n",
              "      <td>0.888889</td>\n",
              "    </tr>\n",
              "    <tr>\n",
              "      <th>51</th>\n",
              "      <td>C:\\Users\\nolan\\cse574proj\\data\\images\\Cars144.png</td>\n",
              "      <td>101</td>\n",
              "      <td>215</td>\n",
              "      <td>114</td>\n",
              "      <td>154</td>\n",
              "      <td>320</td>\n",
              "      <td>260</td>\n",
              "      <td>M</td>\n",
              "      <td>HFILE</td>\n",
              "      <td>PEN15</td>\n",
              "      <td>5.000000</td>\n",
              "      <td>1.000000</td>\n",
              "      <td>1.000000</td>\n",
              "    </tr>\n",
              "    <tr>\n",
              "      <th>18</th>\n",
              "      <td>C:\\Users\\nolan\\cse574proj\\data\\images\\Cars114.png</td>\n",
              "      <td>7</td>\n",
              "      <td>493</td>\n",
              "      <td>16</td>\n",
              "      <td>256</td>\n",
              "      <td>500</td>\n",
              "      <td>300</td>\n",
              "      <td>RAASAY</td>\n",
              "      <td>ES</td>\n",
              "      <td>AP29BP585</td>\n",
              "      <td>0.833333</td>\n",
              "      <td>1.000000</td>\n",
              "      <td>1.000000</td>\n",
              "    </tr>\n",
              "    <tr>\n",
              "      <th>287</th>\n",
              "      <td>C:\\Users\\nolan\\cse574proj\\data\\images\\Cars357.png</td>\n",
              "      <td>92</td>\n",
              "      <td>137</td>\n",
              "      <td>187</td>\n",
              "      <td>207</td>\n",
              "      <td>400</td>\n",
              "      <td>267</td>\n",
              "      <td>JCOTS</td>\n",
              "      <td>LGZ</td>\n",
              "      <td>AK0188</td>\n",
              "      <td>1.000000</td>\n",
              "      <td>1.000000</td>\n",
              "      <td>1.000000</td>\n",
              "    </tr>\n",
              "  </tbody>\n",
              "</table>\n",
              "</div>"
            ],
            "text/plain": [
              "                                              img_path  xmin  xmax  ymin  \\\n",
              "165  C:\\Users\\nolan\\cse574proj\\data\\images\\Cars247.png   147   300    11   \n",
              "388   C:\\Users\\nolan\\cse574proj\\data\\images\\Cars59.png   324   375   162   \n",
              "424   C:\\Users\\nolan\\cse574proj\\data\\images\\Cars91.png   269   317   170   \n",
              "361  C:\\Users\\nolan\\cse574proj\\data\\images\\Cars423.png   162   283   159   \n",
              "114  C:\\Users\\nolan\\cse574proj\\data\\images\\Cars200.png    95   195   189   \n",
              "288  C:\\Users\\nolan\\cse574proj\\data\\images\\Cars358.png    44   107    94   \n",
              "323   C:\\Users\\nolan\\cse574proj\\data\\images\\Cars39.png   225   328   180   \n",
              "432   C:\\Users\\nolan\\cse574proj\\data\\images\\Cars99.png    70   262   198   \n",
              "7    C:\\Users\\nolan\\cse574proj\\data\\images\\Cars104.png   195   244   266   \n",
              "27   C:\\Users\\nolan\\cse574proj\\data\\images\\Cars122.png   195   254   147   \n",
              "66   C:\\Users\\nolan\\cse574proj\\data\\images\\Cars158.png    97   296   118   \n",
              "245  C:\\Users\\nolan\\cse574proj\\data\\images\\Cars319.png   167   232   228   \n",
              "224   C:\\Users\\nolan\\cse574proj\\data\\images\\Cars30.png   155   200   169   \n",
              "302  C:\\Users\\nolan\\cse574proj\\data\\images\\Cars370.png   285   425   249   \n",
              "264  C:\\Users\\nolan\\cse574proj\\data\\images\\Cars336.png   122   265   195   \n",
              "30   C:\\Users\\nolan\\cse574proj\\data\\images\\Cars125.png   280   355   196   \n",
              "335   C:\\Users\\nolan\\cse574proj\\data\\images\\Cars40.png   261   317   186   \n",
              "362  C:\\Users\\nolan\\cse574proj\\data\\images\\Cars424.png   128   461   173   \n",
              "231  C:\\Users\\nolan\\cse574proj\\data\\images\\Cars306.png   139   249   282   \n",
              "12   C:\\Users\\nolan\\cse574proj\\data\\images\\Cars109.png   115   278   116   \n",
              "67   C:\\Users\\nolan\\cse574proj\\data\\images\\Cars159.png   149   261   184   \n",
              "51   C:\\Users\\nolan\\cse574proj\\data\\images\\Cars144.png   101   215   114   \n",
              "18   C:\\Users\\nolan\\cse574proj\\data\\images\\Cars114.png     7   493    16   \n",
              "287  C:\\Users\\nolan\\cse574proj\\data\\images\\Cars357.png    92   137   187   \n",
              "\n",
              "     ymax  img_w  img_h             text         pred_text       truth  \\\n",
              "165   149    400    225              CEA              PSHH  TN37C52765   \n",
              "388   175    400    300              2GP            EOE4E3   MH45P1651   \n",
              "424   189    400    253             SOLU                SL      30461C   \n",
              "361   183    400    250           LP3RVP              VPHI       P3RVP   \n",
              "114   217    400    246   MNLO3TABIES380              FEHS  KA03AB3380   \n",
              "288   107    400    200          PZ62FDX             SSSOE     PZ62FDZ   \n",
              "323   213    400    300       HH15BD8877             RSSSE  MH15BD8877   \n",
              "432   271    375    500             2668       FEYSASSASSS  KA09MA2662   \n",
              "7     282    500    374         ARUGOLXB  SSSANYSAYBAYEEKF     ML60LXB   \n",
              "27    169    400    300           HANISA               ROW      MANISA   \n",
              "66    210    400    300  GENTROAMERICAES              1I1G      695299   \n",
              "245   259    400    342         TEALLYOU             FOEEW     FALLYOU   \n",
              "224   182    400    240           PASS46               AYA     JPK6546   \n",
              "302   276    435    290     7EHO1ANO0001                EO  CH01AN0001   \n",
              "264   234    400    300        GPL8X4850              VANR   DL8CX4850   \n",
              "30    257    400    260            86885             SROAR     RP66887   \n",
              "335   211    400    225       S710EYIP32             AANSF      FV1232   \n",
              "362   242    600    450       RSSTRMWWHA        TFZNT7ETSS  KA03MG2784   \n",
              "231   310    400    400           LAWYER                 1      LAWYER   \n",
              "12    153    400    267          CZI7KOD                 I     CZI7KOD   \n",
              "67    211    400    332       ADL7CN5617             5ES7Z   DL7CN5617   \n",
              "51    154    320    260                M             HFILE       PEN15   \n",
              "18    256    500    300           RAASAY                ES   AP29BP585   \n",
              "287   207    400    267            JCOTS               LGZ      AK0188   \n",
              "\n",
              "     text_predtext_wer  text_truth_wer  predtext_truth_wer  \n",
              "165           1.333333        0.900000            1.000000  \n",
              "388           2.000000        0.888889            1.000000  \n",
              "424           0.500000        1.000000            1.000000  \n",
              "361           0.833333        0.200000            1.000000  \n",
              "114           0.928571        0.800000            1.000000  \n",
              "288           1.000000        0.142857            1.000000  \n",
              "323           1.000000        0.100000            1.000000  \n",
              "432           2.750000        0.700000            1.100000  \n",
              "7             1.875000        0.714286            2.142857  \n",
              "27            1.000000        0.166667            1.000000  \n",
              "66            0.933333        2.500000            1.000000  \n",
              "245           1.000000        0.285714            0.857143  \n",
              "224           0.833333        0.571429            1.000000  \n",
              "302           0.833333        0.400000            1.000000  \n",
              "264           1.000000        0.333333            1.000000  \n",
              "30            1.000000        0.571429            1.000000  \n",
              "335           1.000000        1.166667            1.000000  \n",
              "362           1.000000        1.000000            1.000000  \n",
              "231           1.000000        0.000000            1.000000  \n",
              "12            0.857143        0.000000            0.857143  \n",
              "67            0.900000        0.111111            0.888889  \n",
              "51            5.000000        1.000000            1.000000  \n",
              "18            0.833333        1.000000            1.000000  \n",
              "287           1.000000        1.000000            1.000000  "
            ]
          },
          "execution_count": 154,
          "metadata": {},
          "output_type": "execute_result"
        }
      ],
      "source": [
        "from jiwer import cer\n",
        "\n",
        "df = test2.copy()\n",
        "df = df.dropna(subset=['text', 'pred_text', 'truth'])\n",
        "\n",
        "df = df[\n",
        "    (df['text'].str.strip() != '') &\n",
        "    (df['pred_text'].str.strip() != '') &\n",
        "    (df['truth'].str.strip() != '')\n",
        "]\n",
        "\n",
        "text_predtext_cer = []\n",
        "text_truth_cer = []\n",
        "predtext_truth_cer = []\n",
        "for _, row in df.iterrows():\n",
        "    text_predtext = cer(row['text'], row['pred_text'])\n",
        "    text_predtext_cer.append(text_predtext)\n",
        "\n",
        "    text_truth = cer(row['truth'], row['text'])\n",
        "    text_truth_cer.append(text_truth)\n",
        "\n",
        "    predtext_truth = cer(row['truth'], row['pred_text'])\n",
        "    predtext_truth_cer.append(predtext_truth)\n",
        "\n",
        "df['text_predtext_wer'] = text_predtext_cer\n",
        "df['text_truth_wer'] = text_truth_cer\n",
        "df['predtext_truth_wer'] = predtext_truth_cer\n",
        "\n",
        "df"
      ]
    },
    {
      "cell_type": "code",
      "execution_count": null,
      "metadata": {},
      "outputs": [
        {
          "data": {
            "text/plain": [
              "0.16666666666666666"
            ]
          },
          "execution_count": 155,
          "metadata": {},
          "output_type": "execute_result"
        }
      ],
      "source": [
        "cer('MANISA', 'HANISA')"
      ]
    }
  ],
  "metadata": {
    "accelerator": "GPU",
    "colab": {
      "gpuType": "T4",
      "provenance": []
    },
    "kernelspec": {
      "display_name": "cse574",
      "language": "python",
      "name": "python3"
    },
    "language_info": {
      "codemirror_mode": {
        "name": "ipython",
        "version": 3
      },
      "file_extension": ".py",
      "mimetype": "text/x-python",
      "name": "python",
      "nbconvert_exporter": "python",
      "pygments_lexer": "ipython3",
      "version": "3.13.3"
    }
  },
  "nbformat": 4,
  "nbformat_minor": 0
}
